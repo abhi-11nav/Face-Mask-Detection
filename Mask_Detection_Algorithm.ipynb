{
  "nbformat": 4,
  "nbformat_minor": 0,
  "metadata": {
    "colab": {
      "provenance": [],
      "collapsed_sections": [],
      "authorship_tag": "ABX9TyO5cTa0H+9kdNjYkIENjwns",
      "include_colab_link": true
    },
    "kernelspec": {
      "name": "python3",
      "display_name": "Python 3"
    },
    "language_info": {
      "name": "python"
    },
    "accelerator": "GPU",
    "gpuClass": "standard"
  },
  "cells": [
    {
      "cell_type": "markdown",
      "metadata": {
        "id": "view-in-github",
        "colab_type": "text"
      },
      "source": [
        "<a href=\"https://colab.research.google.com/github/abhi-11nav/Face-Mask-Detection/blob/main/Mask_Detection_Algorithm.ipynb\" target=\"_parent\"><img src=\"https://colab.research.google.com/assets/colab-badge.svg\" alt=\"Open In Colab\"/></a>"
      ]
    },
    {
      "cell_type": "markdown",
      "source": [
        "## FACE MASK DETECTION\n",
        "\n",
        "This project aims at detecting mask on human face:\n",
        "\n",
        "Applications:\n",
        "1. It can be used to monitor people where face masks are mandatory"
      ],
      "metadata": {
        "id": "jP2QN3BQe2T5"
      }
    },
    {
      "cell_type": "markdown",
      "source": [
        "Dataset credits : https://www.kaggle.com/datasets/andrewmvd/face-mask-detection"
      ],
      "metadata": {
        "id": "YqsdoCZ6galk"
      }
    },
    {
      "cell_type": "markdown",
      "source": [
        "**Tensorflow 2.0 Object detection Setup**"
      ],
      "metadata": {
        "id": "hGZvm9a8gpEr"
      }
    },
    {
      "cell_type": "markdown",
      "source": [
        "Cloning the tesnorflow model github repository"
      ],
      "metadata": {
        "id": "IY50qwDkgoR4"
      }
    },
    {
      "cell_type": "code",
      "execution_count": 1,
      "metadata": {
        "colab": {
          "base_uri": "https://localhost:8080/"
        },
        "id": "pnGmh0zoeTTT",
        "outputId": "2458f9a2-5571-4bf7-98a3-e31af81edcaf"
      },
      "outputs": [
        {
          "output_type": "stream",
          "name": "stdout",
          "text": [
            "Cloning into 'models'...\n",
            "remote: Enumerating objects: 78716, done.\u001b[K\n",
            "remote: Counting objects: 100% (57/57), done.\u001b[K\n",
            "remote: Compressing objects: 100% (36/36), done.\u001b[K\n",
            "remote: Total 78716 (delta 33), reused 39 (delta 21), pack-reused 78659\u001b[K\n",
            "Receiving objects: 100% (78716/78716), 593.68 MiB | 17.08 MiB/s, done.\n",
            "Resolving deltas: 100% (56014/56014), done.\n"
          ]
        }
      ],
      "source": [
        "!git clone https://github.com/tensorflow/models.git"
      ]
    },
    {
      "cell_type": "code",
      "source": [
        "# Cloning the github repository consisting of data for the model\n",
        "\n",
        "!git clone https://github.com/abhi-11nav/Face-Mask-Detection.git"
      ],
      "metadata": {
        "colab": {
          "base_uri": "https://localhost:8080/"
        },
        "id": "7npVnd2ag50i",
        "outputId": "c12b3775-bd8c-4509-cdf1-2b808c53407d"
      },
      "execution_count": 2,
      "outputs": [
        {
          "output_type": "stream",
          "name": "stdout",
          "text": [
            "Cloning into 'Face-Mask-Detection'...\n",
            "remote: Enumerating objects: 1721, done.\u001b[K\n",
            "remote: Counting objects: 100% (16/16), done.\u001b[K\n",
            "remote: Compressing objects: 100% (15/15), done.\u001b[K\n",
            "remote: Total 1721 (delta 5), reused 0 (delta 0), pack-reused 1705\u001b[K\n",
            "Receiving objects: 100% (1721/1721), 394.73 MiB | 17.00 MiB/s, done.\n",
            "Resolving deltas: 100% (847/847), done.\n",
            "Checking out files: 100% (1710/1710), done.\n"
          ]
        }
      ]
    },
    {
      "cell_type": "code",
      "source": [
        "# Importing tensroflow \n",
        "\n",
        "import tensorflow\n",
        "\n",
        "print(tensorflow.__version__)"
      ],
      "metadata": {
        "colab": {
          "base_uri": "https://localhost:8080/"
        },
        "id": "Arn9KxAvhEld",
        "outputId": "c517ac97-1101-4cde-f1bf-bdb1f6e55871"
      },
      "execution_count": 17,
      "outputs": [
        {
          "output_type": "stream",
          "name": "stdout",
          "text": [
            "2.9.2\n"
          ]
        }
      ]
    },
    {
      "cell_type": "markdown",
      "source": [
        "Protofbuf Installtaion"
      ],
      "metadata": {
        "id": "OTnGIpz-jM6Z"
      }
    },
    {
      "cell_type": "code",
      "source": [
        "pwd"
      ],
      "metadata": {
        "colab": {
          "base_uri": "https://localhost:8080/",
          "height": 37
        },
        "id": "aCY1g7eihrP_",
        "outputId": "edcfef3b-9e3d-4fef-807d-400ae8e72f2a"
      },
      "execution_count": 18,
      "outputs": [
        {
          "output_type": "execute_result",
          "data": {
            "text/plain": [
              "'/content/training_demo'"
            ],
            "application/vnd.google.colaboratory.intrinsic+json": {
              "type": "string"
            }
          },
          "metadata": {},
          "execution_count": 18
        }
      ]
    },
    {
      "cell_type": "code",
      "source": [
        "cd /content/models/research"
      ],
      "metadata": {
        "colab": {
          "base_uri": "https://localhost:8080/"
        },
        "id": "sZloP4vajJBP",
        "outputId": "8f3c9bac-2a14-412c-d432-fbbcd7260779"
      },
      "execution_count": 19,
      "outputs": [
        {
          "output_type": "stream",
          "name": "stdout",
          "text": [
            "/content/models/research\n"
          ]
        }
      ]
    },
    {
      "cell_type": "code",
      "source": [
        "!protoc object_detection/protos/*.proto --python_out=."
      ],
      "metadata": {
        "id": "NLaOW2PHjVDV"
      },
      "execution_count": 20,
      "outputs": []
    },
    {
      "cell_type": "markdown",
      "source": [
        "COCO API Installation"
      ],
      "metadata": {
        "id": "jQTYFjjYji55"
      }
    },
    {
      "cell_type": "code",
      "source": [
        "!git clone https://github.com/cocodataset/cocoapi.git"
      ],
      "metadata": {
        "colab": {
          "base_uri": "https://localhost:8080/"
        },
        "id": "NSjoOlJ1jd76",
        "outputId": "ee354b91-5898-43b1-91e4-970442102256"
      },
      "execution_count": 21,
      "outputs": [
        {
          "output_type": "stream",
          "name": "stdout",
          "text": [
            "Cloning into 'cocoapi'...\n",
            "remote: Enumerating objects: 975, done.\u001b[K\n",
            "remote: Total 975 (delta 0), reused 0 (delta 0), pack-reused 975\u001b[K\n",
            "Receiving objects: 100% (975/975), 11.72 MiB | 7.50 MiB/s, done.\n",
            "Resolving deltas: 100% (576/576), done.\n"
          ]
        }
      ]
    },
    {
      "cell_type": "code",
      "source": [
        "cd cocoapi/PythonAPI"
      ],
      "metadata": {
        "colab": {
          "base_uri": "https://localhost:8080/"
        },
        "id": "Un1qM_7IjnCj",
        "outputId": "ef5a903c-7a24-4266-b11d-5e9df9d999f0"
      },
      "execution_count": 22,
      "outputs": [
        {
          "output_type": "stream",
          "name": "stdout",
          "text": [
            "/content/models/research/cocoapi/PythonAPI\n"
          ]
        }
      ]
    },
    {
      "cell_type": "code",
      "source": [
        "!make"
      ],
      "metadata": {
        "colab": {
          "base_uri": "https://localhost:8080/"
        },
        "id": "L29Mae0FjowD",
        "outputId": "7abc2295-eef7-4b3c-9e2d-8152501b952b"
      },
      "execution_count": 23,
      "outputs": [
        {
          "output_type": "stream",
          "name": "stdout",
          "text": [
            "python setup.py build_ext --inplace\n",
            "running build_ext\n",
            "cythoning pycocotools/_mask.pyx to pycocotools/_mask.c\n",
            "/usr/local/lib/python3.7/dist-packages/Cython/Compiler/Main.py:369: FutureWarning: Cython directive 'language_level' not set, using 2 for now (Py2). This will change in a later release! File: /content/models/research/cocoapi/PythonAPI/pycocotools/_mask.pyx\n",
            "  tree = Parsing.p_module(s, pxd, full_module_name)\n",
            "building 'pycocotools._mask' extension\n",
            "creating build\n",
            "creating build/common\n",
            "creating build/temp.linux-x86_64-3.7\n",
            "creating build/temp.linux-x86_64-3.7/pycocotools\n",
            "x86_64-linux-gnu-gcc -pthread -Wno-unused-result -Wsign-compare -DNDEBUG -g -fwrapv -O2 -Wall -g -fstack-protector-strong -Wformat -Werror=format-security -g -fwrapv -O2 -g -fstack-protector-strong -Wformat -Werror=format-security -Wdate-time -D_FORTIFY_SOURCE=2 -fPIC -I/usr/local/lib/python3.7/dist-packages/numpy/core/include -I../common -I/usr/include/python3.7m -c ../common/maskApi.c -o build/temp.linux-x86_64-3.7/../common/maskApi.o -Wno-cpp -Wno-unused-function -std=c99\n",
            "\u001b[01m\u001b[K../common/maskApi.c:\u001b[m\u001b[K In function ‘\u001b[01m\u001b[KrleDecode\u001b[m\u001b[K’:\n",
            "\u001b[01m\u001b[K../common/maskApi.c:46:7:\u001b[m\u001b[K \u001b[01;35m\u001b[Kwarning: \u001b[m\u001b[Kthis ‘\u001b[01m\u001b[Kfor\u001b[m\u001b[K’ clause does not guard... [\u001b[01;35m\u001b[K-Wmisleading-indentation\u001b[m\u001b[K]\n",
            "       \u001b[01;35m\u001b[Kfor\u001b[m\u001b[K( k=0; k<R[i].cnts[j]; k++ ) *(M++)=v; v=!v; }}\n",
            "       \u001b[01;35m\u001b[K^~~\u001b[m\u001b[K\n",
            "\u001b[01m\u001b[K../common/maskApi.c:46:49:\u001b[m\u001b[K \u001b[01;36m\u001b[Knote: \u001b[m\u001b[K...this statement, but the latter is misleadingly indented as if it were guarded by the ‘\u001b[01m\u001b[Kfor\u001b[m\u001b[K’\n",
            "       for( k=0; k<R[i].cnts[j]; k++ ) *(M++)=v; \u001b[01;36m\u001b[Kv\u001b[m\u001b[K=!v; }}\n",
            "                                                 \u001b[01;36m\u001b[K^\u001b[m\u001b[K\n",
            "\u001b[01m\u001b[K../common/maskApi.c:\u001b[m\u001b[K In function ‘\u001b[01m\u001b[KrleFrPoly\u001b[m\u001b[K’:\n",
            "\u001b[01m\u001b[K../common/maskApi.c:166:3:\u001b[m\u001b[K \u001b[01;35m\u001b[Kwarning: \u001b[m\u001b[Kthis ‘\u001b[01m\u001b[Kfor\u001b[m\u001b[K’ clause does not guard... [\u001b[01;35m\u001b[K-Wmisleading-indentation\u001b[m\u001b[K]\n",
            "   \u001b[01;35m\u001b[Kfor\u001b[m\u001b[K(j=0; j<k; j++) x[j]=(int)(scale*xy[j*2+0]+.5); x[k]=x[0];\n",
            "   \u001b[01;35m\u001b[K^~~\u001b[m\u001b[K\n",
            "\u001b[01m\u001b[K../common/maskApi.c:166:54:\u001b[m\u001b[K \u001b[01;36m\u001b[Knote: \u001b[m\u001b[K...this statement, but the latter is misleadingly indented as if it were guarded by the ‘\u001b[01m\u001b[Kfor\u001b[m\u001b[K’\n",
            "   for(j=0; j<k; j++) x[j]=(int)(scale*xy[j*2+0]+.5); \u001b[01;36m\u001b[Kx\u001b[m\u001b[K[k]=x[0];\n",
            "                                                      \u001b[01;36m\u001b[K^\u001b[m\u001b[K\n",
            "\u001b[01m\u001b[K../common/maskApi.c:167:3:\u001b[m\u001b[K \u001b[01;35m\u001b[Kwarning: \u001b[m\u001b[Kthis ‘\u001b[01m\u001b[Kfor\u001b[m\u001b[K’ clause does not guard... [\u001b[01;35m\u001b[K-Wmisleading-indentation\u001b[m\u001b[K]\n",
            "   \u001b[01;35m\u001b[Kfor\u001b[m\u001b[K(j=0; j<k; j++) y[j]=(int)(scale*xy[j*2+1]+.5); y[k]=y[0];\n",
            "   \u001b[01;35m\u001b[K^~~\u001b[m\u001b[K\n",
            "\u001b[01m\u001b[K../common/maskApi.c:167:54:\u001b[m\u001b[K \u001b[01;36m\u001b[Knote: \u001b[m\u001b[K...this statement, but the latter is misleadingly indented as if it were guarded by the ‘\u001b[01m\u001b[Kfor\u001b[m\u001b[K’\n",
            "   for(j=0; j<k; j++) y[j]=(int)(scale*xy[j*2+1]+.5); \u001b[01;36m\u001b[Ky\u001b[m\u001b[K[k]=y[0];\n",
            "                                                      \u001b[01;36m\u001b[K^\u001b[m\u001b[K\n",
            "\u001b[01m\u001b[K../common/maskApi.c:\u001b[m\u001b[K In function ‘\u001b[01m\u001b[KrleToString\u001b[m\u001b[K’:\n",
            "\u001b[01m\u001b[K../common/maskApi.c:212:7:\u001b[m\u001b[K \u001b[01;35m\u001b[Kwarning: \u001b[m\u001b[Kthis ‘\u001b[01m\u001b[Kif\u001b[m\u001b[K’ clause does not guard... [\u001b[01;35m\u001b[K-Wmisleading-indentation\u001b[m\u001b[K]\n",
            "       \u001b[01;35m\u001b[Kif\u001b[m\u001b[K(more) c |= 0x20; c+=48; s[p++]=c;\n",
            "       \u001b[01;35m\u001b[K^~\u001b[m\u001b[K\n",
            "\u001b[01m\u001b[K../common/maskApi.c:212:27:\u001b[m\u001b[K \u001b[01;36m\u001b[Knote: \u001b[m\u001b[K...this statement, but the latter is misleadingly indented as if it were guarded by the ‘\u001b[01m\u001b[Kif\u001b[m\u001b[K’\n",
            "       if(more) c |= 0x20; \u001b[01;36m\u001b[Kc\u001b[m\u001b[K+=48; s[p++]=c;\n",
            "                           \u001b[01;36m\u001b[K^\u001b[m\u001b[K\n",
            "\u001b[01m\u001b[K../common/maskApi.c:\u001b[m\u001b[K In function ‘\u001b[01m\u001b[KrleFrString\u001b[m\u001b[K’:\n",
            "\u001b[01m\u001b[K../common/maskApi.c:220:3:\u001b[m\u001b[K \u001b[01;35m\u001b[Kwarning: \u001b[m\u001b[Kthis ‘\u001b[01m\u001b[Kwhile\u001b[m\u001b[K’ clause does not guard... [\u001b[01;35m\u001b[K-Wmisleading-indentation\u001b[m\u001b[K]\n",
            "   \u001b[01;35m\u001b[Kwhile\u001b[m\u001b[K( s[m] ) m++; cnts=malloc(sizeof(uint)*m); m=0;\n",
            "   \u001b[01;35m\u001b[K^~~~~\u001b[m\u001b[K\n",
            "\u001b[01m\u001b[K../common/maskApi.c:220:22:\u001b[m\u001b[K \u001b[01;36m\u001b[Knote: \u001b[m\u001b[K...this statement, but the latter is misleadingly indented as if it were guarded by the ‘\u001b[01m\u001b[Kwhile\u001b[m\u001b[K’\n",
            "   while( s[m] ) m++; \u001b[01;36m\u001b[Kcnts\u001b[m\u001b[K=malloc(sizeof(uint)*m); m=0;\n",
            "                      \u001b[01;36m\u001b[K^~~~\u001b[m\u001b[K\n",
            "\u001b[01m\u001b[K../common/maskApi.c:228:5:\u001b[m\u001b[K \u001b[01;35m\u001b[Kwarning: \u001b[m\u001b[Kthis ‘\u001b[01m\u001b[Kif\u001b[m\u001b[K’ clause does not guard... [\u001b[01;35m\u001b[K-Wmisleading-indentation\u001b[m\u001b[K]\n",
            "     \u001b[01;35m\u001b[Kif\u001b[m\u001b[K(m>2) x+=(long) cnts[m-2]; cnts[m++]=(uint) x;\n",
            "     \u001b[01;35m\u001b[K^~\u001b[m\u001b[K\n",
            "\u001b[01m\u001b[K../common/maskApi.c:228:34:\u001b[m\u001b[K \u001b[01;36m\u001b[Knote: \u001b[m\u001b[K...this statement, but the latter is misleadingly indented as if it were guarded by the ‘\u001b[01m\u001b[Kif\u001b[m\u001b[K’\n",
            "     if(m>2) x+=(long) cnts[m-2]; \u001b[01;36m\u001b[Kcnts\u001b[m\u001b[K[m++]=(uint) x;\n",
            "                                  \u001b[01;36m\u001b[K^~~~\u001b[m\u001b[K\n",
            "\u001b[01m\u001b[K../common/maskApi.c:\u001b[m\u001b[K In function ‘\u001b[01m\u001b[KrleToBbox\u001b[m\u001b[K’:\n",
            "\u001b[01m\u001b[K../common/maskApi.c:141:31:\u001b[m\u001b[K \u001b[01;35m\u001b[Kwarning: \u001b[m\u001b[K‘\u001b[01m\u001b[Kxp\u001b[m\u001b[K’ may be used uninitialized in this function [\u001b[01;35m\u001b[K-Wmaybe-uninitialized\u001b[m\u001b[K]\n",
            "       if(j%2==0) xp=x; else if\u001b[01;35m\u001b[K(\u001b[m\u001b[Kxp<x) { ys=0; ye=h-1; }\n",
            "                               \u001b[01;35m\u001b[K^\u001b[m\u001b[K\n",
            "x86_64-linux-gnu-gcc -pthread -Wno-unused-result -Wsign-compare -DNDEBUG -g -fwrapv -O2 -Wall -g -fstack-protector-strong -Wformat -Werror=format-security -g -fwrapv -O2 -g -fstack-protector-strong -Wformat -Werror=format-security -Wdate-time -D_FORTIFY_SOURCE=2 -fPIC -I/usr/local/lib/python3.7/dist-packages/numpy/core/include -I../common -I/usr/include/python3.7m -c pycocotools/_mask.c -o build/temp.linux-x86_64-3.7/pycocotools/_mask.o -Wno-cpp -Wno-unused-function -std=c99\n",
            "creating build/lib.linux-x86_64-3.7\n",
            "creating build/lib.linux-x86_64-3.7/pycocotools\n",
            "x86_64-linux-gnu-gcc -pthread -shared -Wl,-O1 -Wl,-Bsymbolic-functions -Wl,-Bsymbolic-functions -g -fwrapv -O2 -Wl,-Bsymbolic-functions -g -fwrapv -O2 -g -fstack-protector-strong -Wformat -Werror=format-security -Wdate-time -D_FORTIFY_SOURCE=2 build/temp.linux-x86_64-3.7/../common/maskApi.o build/temp.linux-x86_64-3.7/pycocotools/_mask.o -o build/lib.linux-x86_64-3.7/pycocotools/_mask.cpython-37m-x86_64-linux-gnu.so\n",
            "copying build/lib.linux-x86_64-3.7/pycocotools/_mask.cpython-37m-x86_64-linux-gnu.so -> pycocotools\n",
            "rm -rf build\n"
          ]
        }
      ]
    },
    {
      "cell_type": "code",
      "source": [
        "cp -r pycocotools <PATH_TO_TF>/TensorFlow/models/research/"
      ],
      "metadata": {
        "colab": {
          "base_uri": "https://localhost:8080/"
        },
        "id": "0Yf5oyu1jqAJ",
        "outputId": "a5f9d451-5caf-4774-e25a-e1f2c82a6e95"
      },
      "execution_count": 24,
      "outputs": [
        {
          "output_type": "stream",
          "name": "stdout",
          "text": [
            "/bin/bash: PATH_TO_TF: No such file or directory\n"
          ]
        }
      ]
    },
    {
      "cell_type": "markdown",
      "source": [
        "Installing the Object detection API"
      ],
      "metadata": {
        "id": "VirqoQm6jwxk"
      }
    },
    {
      "cell_type": "code",
      "source": [
        "pwd"
      ],
      "metadata": {
        "colab": {
          "base_uri": "https://localhost:8080/",
          "height": 37
        },
        "id": "eTorr9z2j2q-",
        "outputId": "e7a72294-49ea-428d-884d-21a08d3ac4d4"
      },
      "execution_count": 25,
      "outputs": [
        {
          "output_type": "execute_result",
          "data": {
            "text/plain": [
              "'/content/models/research/cocoapi/PythonAPI'"
            ],
            "application/vnd.google.colaboratory.intrinsic+json": {
              "type": "string"
            }
          },
          "metadata": {},
          "execution_count": 25
        }
      ]
    },
    {
      "cell_type": "code",
      "source": [
        "cd /content/models/research"
      ],
      "metadata": {
        "colab": {
          "base_uri": "https://localhost:8080/"
        },
        "id": "0Ezg7n-uj5JY",
        "outputId": "da756d30-970f-441c-b985-2cb77fe1241c"
      },
      "execution_count": 26,
      "outputs": [
        {
          "output_type": "stream",
          "name": "stdout",
          "text": [
            "/content/models/research\n"
          ]
        }
      ]
    },
    {
      "cell_type": "code",
      "source": [
        "cp object_detection/packages/tf2/setup.py ."
      ],
      "metadata": {
        "id": "rEmpacnqjs_T"
      },
      "execution_count": 27,
      "outputs": []
    },
    {
      "cell_type": "code",
      "source": [
        "!python -m pip install --use-feature=2020-resolver ."
      ],
      "metadata": {
        "colab": {
          "base_uri": "https://localhost:8080/"
        },
        "id": "H6nRkZd_j9cX",
        "outputId": "9505acf9-dce5-47ae-8c12-17b97f5f390d"
      },
      "execution_count": 28,
      "outputs": [
        {
          "output_type": "stream",
          "name": "stdout",
          "text": [
            "\u001b[33mWARNING: --use-feature=2020-resolver no longer has any effect, since it is now the default dependency resolver in pip. This will become an error in pip 21.0.\u001b[0m\n",
            "Looking in indexes: https://pypi.org/simple, https://us-python.pkg.dev/colab-wheels/public/simple/\n",
            "Processing /content/models/research\n",
            "\u001b[33m  DEPRECATION: A future pip version will change local packages to be built in-place without first copying to a temporary directory. We recommend you use --use-feature=in-tree-build to test your packages with this new behavior before it becomes the default.\n",
            "   pip 21.3 will remove support for this functionality. You can find discussion regarding this at https://github.com/pypa/pip/issues/7555.\u001b[0m\n",
            "Collecting avro-python3\n",
            "  Downloading avro-python3-1.10.2.tar.gz (38 kB)\n",
            "Collecting apache-beam\n",
            "  Downloading apache_beam-2.42.0-cp37-cp37m-manylinux2010_x86_64.whl (11.0 MB)\n",
            "\u001b[K     |████████████████████████████████| 11.0 MB 43.7 MB/s \n",
            "\u001b[?25hRequirement already satisfied: pillow in /usr/local/lib/python3.7/dist-packages (from object-detection==0.1) (7.1.2)\n",
            "Requirement already satisfied: lxml in /usr/local/lib/python3.7/dist-packages (from object-detection==0.1) (4.9.1)\n",
            "Requirement already satisfied: matplotlib in /usr/local/lib/python3.7/dist-packages (from object-detection==0.1) (3.2.2)\n",
            "Requirement already satisfied: Cython in /usr/local/lib/python3.7/dist-packages (from object-detection==0.1) (0.29.32)\n",
            "Requirement already satisfied: contextlib2 in /usr/local/lib/python3.7/dist-packages (from object-detection==0.1) (0.5.5)\n",
            "Collecting tf-slim\n",
            "  Downloading tf_slim-1.1.0-py2.py3-none-any.whl (352 kB)\n",
            "\u001b[K     |████████████████████████████████| 352 kB 67.3 MB/s \n",
            "\u001b[?25hRequirement already satisfied: six in /usr/local/lib/python3.7/dist-packages (from object-detection==0.1) (1.15.0)\n",
            "Requirement already satisfied: pycocotools in /usr/local/lib/python3.7/dist-packages (from object-detection==0.1) (2.0.6)\n",
            "Collecting lvis\n",
            "  Downloading lvis-0.5.3-py3-none-any.whl (14 kB)\n",
            "Requirement already satisfied: scipy in /usr/local/lib/python3.7/dist-packages (from object-detection==0.1) (1.7.3)\n",
            "Requirement already satisfied: pandas in /usr/local/lib/python3.7/dist-packages (from object-detection==0.1) (1.3.5)\n",
            "Collecting tf-models-official>=2.5.1\n",
            "  Downloading tf_models_official-2.10.0-py2.py3-none-any.whl (2.2 MB)\n",
            "\u001b[K     |████████████████████████████████| 2.2 MB 61.1 MB/s \n",
            "\u001b[?25hCollecting tensorflow_io\n",
            "  Downloading tensorflow_io-0.27.0-cp37-cp37m-manylinux_2_12_x86_64.manylinux2010_x86_64.whl (25.0 MB)\n",
            "\u001b[K     |████████████████████████████████| 25.0 MB 1.4 MB/s \n",
            "\u001b[?25hRequirement already satisfied: keras in /usr/local/lib/python3.7/dist-packages (from object-detection==0.1) (2.9.0)\n",
            "Collecting pyparsing==2.4.7\n",
            "  Downloading pyparsing-2.4.7-py2.py3-none-any.whl (67 kB)\n",
            "\u001b[K     |████████████████████████████████| 67 kB 6.4 MB/s \n",
            "\u001b[?25hCollecting sacrebleu<=2.2.0\n",
            "  Downloading sacrebleu-2.2.0-py3-none-any.whl (116 kB)\n",
            "\u001b[K     |████████████████████████████████| 116 kB 77.8 MB/s \n",
            "\u001b[?25hCollecting portalocker\n",
            "  Downloading portalocker-2.6.0-py2.py3-none-any.whl (15 kB)\n",
            "Requirement already satisfied: numpy>=1.17 in /usr/local/lib/python3.7/dist-packages (from sacrebleu<=2.2.0->object-detection==0.1) (1.21.6)\n",
            "Requirement already satisfied: tabulate>=0.8.9 in /usr/local/lib/python3.7/dist-packages (from sacrebleu<=2.2.0->object-detection==0.1) (0.8.10)\n",
            "Collecting colorama\n",
            "  Downloading colorama-0.4.6-py2.py3-none-any.whl (25 kB)\n",
            "Requirement already satisfied: regex in /usr/local/lib/python3.7/dist-packages (from sacrebleu<=2.2.0->object-detection==0.1) (2022.6.2)\n",
            "Requirement already satisfied: tensorflow-datasets in /usr/local/lib/python3.7/dist-packages (from tf-models-official>=2.5.1->object-detection==0.1) (4.6.0)\n",
            "Requirement already satisfied: gin-config in /usr/local/lib/python3.7/dist-packages (from tf-models-official>=2.5.1->object-detection==0.1) (0.5.0)\n",
            "Requirement already satisfied: oauth2client in /usr/local/lib/python3.7/dist-packages (from tf-models-official>=2.5.1->object-detection==0.1) (4.1.3)\n",
            "Collecting pyyaml<6.0,>=5.1\n",
            "  Downloading PyYAML-5.4.1-cp37-cp37m-manylinux1_x86_64.whl (636 kB)\n",
            "\u001b[K     |████████████████████████████████| 636 kB 53.4 MB/s \n",
            "\u001b[?25hCollecting tensorflow~=2.10.0\n",
            "  Downloading tensorflow-2.10.0-cp37-cp37m-manylinux_2_17_x86_64.manylinux2014_x86_64.whl (578.0 MB)\n",
            "\u001b[K     |████████████████████████████████| 578.0 MB 16 kB/s \n",
            "\u001b[?25hCollecting tensorflow-model-optimization>=0.4.1\n",
            "  Downloading tensorflow_model_optimization-0.7.3-py2.py3-none-any.whl (238 kB)\n",
            "\u001b[K     |████████████████████████████████| 238 kB 70.0 MB/s \n",
            "\u001b[?25hRequirement already satisfied: google-api-python-client>=1.6.7 in /usr/local/lib/python3.7/dist-packages (from tf-models-official>=2.5.1->object-detection==0.1) (1.12.11)\n",
            "Requirement already satisfied: psutil>=5.4.3 in /usr/local/lib/python3.7/dist-packages (from tf-models-official>=2.5.1->object-detection==0.1) (5.4.8)\n",
            "Requirement already satisfied: kaggle>=1.3.9 in /usr/local/lib/python3.7/dist-packages (from tf-models-official>=2.5.1->object-detection==0.1) (1.5.12)\n",
            "Collecting immutabledict\n",
            "  Downloading immutabledict-2.2.3-py3-none-any.whl (4.0 kB)\n",
            "Collecting sentencepiece\n",
            "  Downloading sentencepiece-0.1.97-cp37-cp37m-manylinux_2_17_x86_64.manylinux2014_x86_64.whl (1.3 MB)\n",
            "\u001b[K     |████████████████████████████████| 1.3 MB 45.6 MB/s \n",
            "\u001b[?25hCollecting tensorflow-addons\n",
            "  Downloading tensorflow_addons-0.18.0-cp37-cp37m-manylinux_2_17_x86_64.manylinux2014_x86_64.whl (1.1 MB)\n",
            "\u001b[K     |████████████████████████████████| 1.1 MB 53.7 MB/s \n",
            "\u001b[?25hCollecting opencv-python-headless==4.5.2.52\n",
            "  Downloading opencv_python_headless-4.5.2.52-cp37-cp37m-manylinux2014_x86_64.whl (38.2 MB)\n",
            "\u001b[K     |████████████████████████████████| 38.2 MB 224 kB/s \n",
            "\u001b[?25hCollecting tensorflow-text~=2.10.0\n",
            "  Downloading tensorflow_text-2.10.0-cp37-cp37m-manylinux_2_17_x86_64.manylinux2014_x86_64.whl (5.9 MB)\n",
            "\u001b[K     |████████████████████████████████| 5.9 MB 62.4 MB/s \n",
            "\u001b[?25hCollecting py-cpuinfo>=3.3.0\n",
            "  Downloading py_cpuinfo-9.0.0-py3-none-any.whl (22 kB)\n",
            "Requirement already satisfied: tensorflow-hub>=0.6.0 in /usr/local/lib/python3.7/dist-packages (from tf-models-official>=2.5.1->object-detection==0.1) (0.12.0)\n",
            "Collecting seqeval\n",
            "  Downloading seqeval-1.2.2.tar.gz (43 kB)\n",
            "\u001b[K     |████████████████████████████████| 43 kB 2.1 MB/s \n",
            "\u001b[?25hRequirement already satisfied: google-auth-httplib2>=0.0.3 in /usr/local/lib/python3.7/dist-packages (from google-api-python-client>=1.6.7->tf-models-official>=2.5.1->object-detection==0.1) (0.0.4)\n",
            "Requirement already satisfied: httplib2<1dev,>=0.15.0 in /usr/local/lib/python3.7/dist-packages (from google-api-python-client>=1.6.7->tf-models-official>=2.5.1->object-detection==0.1) (0.17.4)\n",
            "Requirement already satisfied: google-api-core<3dev,>=1.21.0 in /usr/local/lib/python3.7/dist-packages (from google-api-python-client>=1.6.7->tf-models-official>=2.5.1->object-detection==0.1) (2.8.2)\n",
            "Requirement already satisfied: uritemplate<4dev,>=3.0.0 in /usr/local/lib/python3.7/dist-packages (from google-api-python-client>=1.6.7->tf-models-official>=2.5.1->object-detection==0.1) (3.0.1)\n",
            "Requirement already satisfied: google-auth<3dev,>=1.16.0 in /usr/local/lib/python3.7/dist-packages (from google-api-python-client>=1.6.7->tf-models-official>=2.5.1->object-detection==0.1) (2.14.1)\n",
            "Requirement already satisfied: googleapis-common-protos<2.0dev,>=1.56.2 in /usr/local/lib/python3.7/dist-packages (from google-api-core<3dev,>=1.21.0->google-api-python-client>=1.6.7->tf-models-official>=2.5.1->object-detection==0.1) (1.56.4)\n",
            "Requirement already satisfied: protobuf<5.0.0dev,>=3.15.0 in /usr/local/lib/python3.7/dist-packages (from google-api-core<3dev,>=1.21.0->google-api-python-client>=1.6.7->tf-models-official>=2.5.1->object-detection==0.1) (3.19.6)\n",
            "Requirement already satisfied: requests<3.0.0dev,>=2.18.0 in /usr/local/lib/python3.7/dist-packages (from google-api-core<3dev,>=1.21.0->google-api-python-client>=1.6.7->tf-models-official>=2.5.1->object-detection==0.1) (2.23.0)\n",
            "Requirement already satisfied: rsa<5,>=3.1.4 in /usr/local/lib/python3.7/dist-packages (from google-auth<3dev,>=1.16.0->google-api-python-client>=1.6.7->tf-models-official>=2.5.1->object-detection==0.1) (4.9)\n",
            "Requirement already satisfied: pyasn1-modules>=0.2.1 in /usr/local/lib/python3.7/dist-packages (from google-auth<3dev,>=1.16.0->google-api-python-client>=1.6.7->tf-models-official>=2.5.1->object-detection==0.1) (0.2.8)\n",
            "Requirement already satisfied: cachetools<6.0,>=2.0.0 in /usr/local/lib/python3.7/dist-packages (from google-auth<3dev,>=1.16.0->google-api-python-client>=1.6.7->tf-models-official>=2.5.1->object-detection==0.1) (5.2.0)\n",
            "Requirement already satisfied: tqdm in /usr/local/lib/python3.7/dist-packages (from kaggle>=1.3.9->tf-models-official>=2.5.1->object-detection==0.1) (4.64.1)\n",
            "Requirement already satisfied: urllib3 in /usr/local/lib/python3.7/dist-packages (from kaggle>=1.3.9->tf-models-official>=2.5.1->object-detection==0.1) (1.24.3)\n",
            "Requirement already satisfied: python-slugify in /usr/local/lib/python3.7/dist-packages (from kaggle>=1.3.9->tf-models-official>=2.5.1->object-detection==0.1) (6.1.2)\n",
            "Requirement already satisfied: python-dateutil in /usr/local/lib/python3.7/dist-packages (from kaggle>=1.3.9->tf-models-official>=2.5.1->object-detection==0.1) (2.8.2)\n",
            "Requirement already satisfied: certifi in /usr/local/lib/python3.7/dist-packages (from kaggle>=1.3.9->tf-models-official>=2.5.1->object-detection==0.1) (2022.9.24)\n",
            "Requirement already satisfied: pytz>=2017.3 in /usr/local/lib/python3.7/dist-packages (from pandas->object-detection==0.1) (2022.6)\n",
            "Requirement already satisfied: pyasn1<0.5.0,>=0.4.6 in /usr/local/lib/python3.7/dist-packages (from pyasn1-modules>=0.2.1->google-auth<3dev,>=1.16.0->google-api-python-client>=1.6.7->tf-models-official>=2.5.1->object-detection==0.1) (0.4.8)\n",
            "Requirement already satisfied: idna<3,>=2.5 in /usr/local/lib/python3.7/dist-packages (from requests<3.0.0dev,>=2.18.0->google-api-core<3dev,>=1.21.0->google-api-python-client>=1.6.7->tf-models-official>=2.5.1->object-detection==0.1) (2.10)\n",
            "Requirement already satisfied: chardet<4,>=3.0.2 in /usr/local/lib/python3.7/dist-packages (from requests<3.0.0dev,>=2.18.0->google-api-core<3dev,>=1.21.0->google-api-python-client>=1.6.7->tf-models-official>=2.5.1->object-detection==0.1) (3.0.4)\n",
            "Requirement already satisfied: keras-preprocessing>=1.1.1 in /usr/local/lib/python3.7/dist-packages (from tensorflow~=2.10.0->tf-models-official>=2.5.1->object-detection==0.1) (1.1.2)\n",
            "Requirement already satisfied: astunparse>=1.6.0 in /usr/local/lib/python3.7/dist-packages (from tensorflow~=2.10.0->tf-models-official>=2.5.1->object-detection==0.1) (1.6.3)\n",
            "Requirement already satisfied: google-pasta>=0.1.1 in /usr/local/lib/python3.7/dist-packages (from tensorflow~=2.10.0->tf-models-official>=2.5.1->object-detection==0.1) (0.2.0)\n",
            "Requirement already satisfied: termcolor>=1.1.0 in /usr/local/lib/python3.7/dist-packages (from tensorflow~=2.10.0->tf-models-official>=2.5.1->object-detection==0.1) (2.1.0)\n",
            "Requirement already satisfied: gast<=0.4.0,>=0.2.1 in /usr/local/lib/python3.7/dist-packages (from tensorflow~=2.10.0->tf-models-official>=2.5.1->object-detection==0.1) (0.4.0)\n",
            "Collecting keras\n",
            "  Downloading keras-2.10.0-py2.py3-none-any.whl (1.7 MB)\n",
            "\u001b[K     |████████████████████████████████| 1.7 MB 49.8 MB/s \n",
            "\u001b[?25hRequirement already satisfied: setuptools in /usr/local/lib/python3.7/dist-packages (from tensorflow~=2.10.0->tf-models-official>=2.5.1->object-detection==0.1) (57.4.0)\n",
            "Requirement already satisfied: libclang>=13.0.0 in /usr/local/lib/python3.7/dist-packages (from tensorflow~=2.10.0->tf-models-official>=2.5.1->object-detection==0.1) (14.0.6)\n",
            "Requirement already satisfied: typing-extensions>=3.6.6 in /usr/local/lib/python3.7/dist-packages (from tensorflow~=2.10.0->tf-models-official>=2.5.1->object-detection==0.1) (4.1.1)\n",
            "Collecting tensorflow-estimator<2.11,>=2.10.0\n",
            "  Downloading tensorflow_estimator-2.10.0-py2.py3-none-any.whl (438 kB)\n",
            "\u001b[K     |████████████████████████████████| 438 kB 57.9 MB/s \n",
            "\u001b[?25hRequirement already satisfied: packaging in /usr/local/lib/python3.7/dist-packages (from tensorflow~=2.10.0->tf-models-official>=2.5.1->object-detection==0.1) (21.3)\n",
            "Collecting tensorboard<2.11,>=2.10\n",
            "  Downloading tensorboard-2.10.1-py3-none-any.whl (5.9 MB)\n",
            "\u001b[K     |████████████████████████████████| 5.9 MB 54.1 MB/s \n",
            "\u001b[?25hRequirement already satisfied: tensorflow-io-gcs-filesystem>=0.23.1 in /usr/local/lib/python3.7/dist-packages (from tensorflow~=2.10.0->tf-models-official>=2.5.1->object-detection==0.1) (0.27.0)\n",
            "Collecting flatbuffers>=2.0\n",
            "  Downloading flatbuffers-22.10.26-py2.py3-none-any.whl (26 kB)\n",
            "Requirement already satisfied: grpcio<2.0,>=1.24.3 in /usr/local/lib/python3.7/dist-packages (from tensorflow~=2.10.0->tf-models-official>=2.5.1->object-detection==0.1) (1.50.0)\n",
            "Requirement already satisfied: absl-py>=1.0.0 in /usr/local/lib/python3.7/dist-packages (from tensorflow~=2.10.0->tf-models-official>=2.5.1->object-detection==0.1) (1.3.0)\n",
            "Requirement already satisfied: opt-einsum>=2.3.2 in /usr/local/lib/python3.7/dist-packages (from tensorflow~=2.10.0->tf-models-official>=2.5.1->object-detection==0.1) (3.3.0)\n",
            "Requirement already satisfied: wrapt>=1.11.0 in /usr/local/lib/python3.7/dist-packages (from tensorflow~=2.10.0->tf-models-official>=2.5.1->object-detection==0.1) (1.14.1)\n",
            "Requirement already satisfied: h5py>=2.9.0 in /usr/local/lib/python3.7/dist-packages (from tensorflow~=2.10.0->tf-models-official>=2.5.1->object-detection==0.1) (3.1.0)\n",
            "Requirement already satisfied: wheel<1.0,>=0.23.0 in /usr/local/lib/python3.7/dist-packages (from astunparse>=1.6.0->tensorflow~=2.10.0->tf-models-official>=2.5.1->object-detection==0.1) (0.38.3)\n",
            "Requirement already satisfied: cached-property in /usr/local/lib/python3.7/dist-packages (from h5py>=2.9.0->tensorflow~=2.10.0->tf-models-official>=2.5.1->object-detection==0.1) (1.5.2)\n",
            "Requirement already satisfied: tensorboard-plugin-wit>=1.6.0 in /usr/local/lib/python3.7/dist-packages (from tensorboard<2.11,>=2.10->tensorflow~=2.10.0->tf-models-official>=2.5.1->object-detection==0.1) (1.8.1)\n",
            "Requirement already satisfied: google-auth-oauthlib<0.5,>=0.4.1 in /usr/local/lib/python3.7/dist-packages (from tensorboard<2.11,>=2.10->tensorflow~=2.10.0->tf-models-official>=2.5.1->object-detection==0.1) (0.4.6)\n",
            "Requirement already satisfied: tensorboard-data-server<0.7.0,>=0.6.0 in /usr/local/lib/python3.7/dist-packages (from tensorboard<2.11,>=2.10->tensorflow~=2.10.0->tf-models-official>=2.5.1->object-detection==0.1) (0.6.1)\n",
            "Requirement already satisfied: markdown>=2.6.8 in /usr/local/lib/python3.7/dist-packages (from tensorboard<2.11,>=2.10->tensorflow~=2.10.0->tf-models-official>=2.5.1->object-detection==0.1) (3.4.1)\n",
            "Requirement already satisfied: werkzeug>=1.0.1 in /usr/local/lib/python3.7/dist-packages (from tensorboard<2.11,>=2.10->tensorflow~=2.10.0->tf-models-official>=2.5.1->object-detection==0.1) (1.0.1)\n",
            "Requirement already satisfied: requests-oauthlib>=0.7.0 in /usr/local/lib/python3.7/dist-packages (from google-auth-oauthlib<0.5,>=0.4.1->tensorboard<2.11,>=2.10->tensorflow~=2.10.0->tf-models-official>=2.5.1->object-detection==0.1) (1.3.1)\n",
            "Requirement already satisfied: importlib-metadata>=4.4 in /usr/local/lib/python3.7/dist-packages (from markdown>=2.6.8->tensorboard<2.11,>=2.10->tensorflow~=2.10.0->tf-models-official>=2.5.1->object-detection==0.1) (4.13.0)\n",
            "Requirement already satisfied: zipp>=0.5 in /usr/local/lib/python3.7/dist-packages (from importlib-metadata>=4.4->markdown>=2.6.8->tensorboard<2.11,>=2.10->tensorflow~=2.10.0->tf-models-official>=2.5.1->object-detection==0.1) (3.10.0)\n",
            "Requirement already satisfied: oauthlib>=3.0.0 in /usr/local/lib/python3.7/dist-packages (from requests-oauthlib>=0.7.0->google-auth-oauthlib<0.5,>=0.4.1->tensorboard<2.11,>=2.10->tensorflow~=2.10.0->tf-models-official>=2.5.1->object-detection==0.1) (3.2.2)\n",
            "Requirement already satisfied: dm-tree~=0.1.1 in /usr/local/lib/python3.7/dist-packages (from tensorflow-model-optimization>=0.4.1->tf-models-official>=2.5.1->object-detection==0.1) (0.1.7)\n",
            "Collecting pymongo<4.0.0,>=3.8.0\n",
            "  Downloading pymongo-3.13.0-cp37-cp37m-manylinux_2_17_x86_64.manylinux2014_x86_64.whl (506 kB)\n",
            "\u001b[K     |████████████████████████████████| 506 kB 72.3 MB/s \n",
            "\u001b[?25hRequirement already satisfied: crcmod<2.0,>=1.7 in /usr/local/lib/python3.7/dist-packages (from apache-beam->object-detection==0.1) (1.7)\n",
            "Requirement already satisfied: pyarrow<8.0.0,>=0.15.1 in /usr/local/lib/python3.7/dist-packages (from apache-beam->object-detection==0.1) (6.0.1)\n",
            "Collecting zstandard<1,>=0.18.0\n",
            "  Downloading zstandard-0.19.0-cp37-cp37m-manylinux_2_17_x86_64.manylinux2014_x86_64.whl (2.5 MB)\n",
            "\u001b[K     |████████████████████████████████| 2.5 MB 20.9 MB/s \n",
            "\u001b[?25hRequirement already satisfied: proto-plus<2,>=1.7.1 in /usr/local/lib/python3.7/dist-packages (from apache-beam->object-detection==0.1) (1.22.1)\n",
            "Collecting hdfs<3.0.0,>=2.1.0\n",
            "  Downloading hdfs-2.7.0-py3-none-any.whl (34 kB)\n",
            "Collecting fastavro<2,>=0.23.6\n",
            "  Downloading fastavro-1.7.0-cp37-cp37m-manylinux_2_17_x86_64.manylinux2014_x86_64.whl (2.4 MB)\n",
            "\u001b[K     |████████████████████████████████| 2.4 MB 59.0 MB/s \n",
            "\u001b[?25hRequirement already satisfied: pydot<2,>=1.2.0 in /usr/local/lib/python3.7/dist-packages (from apache-beam->object-detection==0.1) (1.3.0)\n",
            "Collecting cloudpickle~=2.1.0\n",
            "  Downloading cloudpickle-2.1.0-py3-none-any.whl (25 kB)\n",
            "Collecting dill<0.3.2,>=0.3.1.1\n",
            "  Downloading dill-0.3.1.1.tar.gz (151 kB)\n",
            "\u001b[K     |████████████████████████████████| 151 kB 77.7 MB/s \n",
            "\u001b[?25hCollecting orjson<4.0\n",
            "  Downloading orjson-3.8.1-cp37-cp37m-manylinux_2_17_x86_64.manylinux2014_x86_64.whl (272 kB)\n",
            "\u001b[K     |████████████████████████████████| 272 kB 72.3 MB/s \n",
            "\u001b[?25hCollecting requests<3.0.0dev,>=2.18.0\n",
            "  Downloading requests-2.28.1-py3-none-any.whl (62 kB)\n",
            "\u001b[K     |████████████████████████████████| 62 kB 1.4 MB/s \n",
            "\u001b[?25hCollecting docopt\n",
            "  Downloading docopt-0.6.2.tar.gz (25 kB)\n",
            "Requirement already satisfied: charset-normalizer<3,>=2 in /usr/local/lib/python3.7/dist-packages (from requests<3.0.0dev,>=2.18.0->google-api-core<3dev,>=1.21.0->google-api-python-client>=1.6.7->tf-models-official>=2.5.1->object-detection==0.1) (2.1.1)\n",
            "Requirement already satisfied: cycler>=0.10.0 in /usr/local/lib/python3.7/dist-packages (from lvis->object-detection==0.1) (0.11.0)\n",
            "Requirement already satisfied: opencv-python>=4.1.0.25 in /usr/local/lib/python3.7/dist-packages (from lvis->object-detection==0.1) (4.6.0.66)\n",
            "Requirement already satisfied: kiwisolver>=1.1.0 in /usr/local/lib/python3.7/dist-packages (from lvis->object-detection==0.1) (1.4.4)\n",
            "Requirement already satisfied: text-unidecode>=1.3 in /usr/local/lib/python3.7/dist-packages (from python-slugify->kaggle>=1.3.9->tf-models-official>=2.5.1->object-detection==0.1) (1.3)\n",
            "Requirement already satisfied: scikit-learn>=0.21.3 in /usr/local/lib/python3.7/dist-packages (from seqeval->tf-models-official>=2.5.1->object-detection==0.1) (1.0.2)\n",
            "Requirement already satisfied: threadpoolctl>=2.0.0 in /usr/local/lib/python3.7/dist-packages (from scikit-learn>=0.21.3->seqeval->tf-models-official>=2.5.1->object-detection==0.1) (3.1.0)\n",
            "Requirement already satisfied: joblib>=0.11 in /usr/local/lib/python3.7/dist-packages (from scikit-learn>=0.21.3->seqeval->tf-models-official>=2.5.1->object-detection==0.1) (1.2.0)\n",
            "Requirement already satisfied: typeguard>=2.7 in /usr/local/lib/python3.7/dist-packages (from tensorflow-addons->tf-models-official>=2.5.1->object-detection==0.1) (2.7.1)\n",
            "Requirement already satisfied: toml in /usr/local/lib/python3.7/dist-packages (from tensorflow-datasets->tf-models-official>=2.5.1->object-detection==0.1) (0.10.2)\n",
            "Requirement already satisfied: importlib-resources in /usr/local/lib/python3.7/dist-packages (from tensorflow-datasets->tf-models-official>=2.5.1->object-detection==0.1) (5.10.0)\n",
            "Requirement already satisfied: etils[epath] in /usr/local/lib/python3.7/dist-packages (from tensorflow-datasets->tf-models-official>=2.5.1->object-detection==0.1) (0.9.0)\n",
            "Requirement already satisfied: tensorflow-metadata in /usr/local/lib/python3.7/dist-packages (from tensorflow-datasets->tf-models-official>=2.5.1->object-detection==0.1) (1.10.0)\n",
            "Requirement already satisfied: promise in /usr/local/lib/python3.7/dist-packages (from tensorflow-datasets->tf-models-official>=2.5.1->object-detection==0.1) (2.3)\n",
            "Building wheels for collected packages: object-detection, dill, avro-python3, docopt, seqeval\n",
            "  Building wheel for object-detection (setup.py) ... \u001b[?25l\u001b[?25hdone\n",
            "  Created wheel for object-detection: filename=object_detection-0.1-py3-none-any.whl size=1696454 sha256=c3a7adae1e048c4329c3d80436dc216604bf4446607cb1a29f67c8ed3791c846\n",
            "  Stored in directory: /tmp/pip-ephem-wheel-cache-wqttxzus/wheels/fa/a4/d2/e9a5057e414fd46c8e543d2706cd836d64e1fcd9eccceb2329\n",
            "  Building wheel for dill (setup.py) ... \u001b[?25l\u001b[?25hdone\n",
            "  Created wheel for dill: filename=dill-0.3.1.1-py3-none-any.whl size=78545 sha256=9903579de7924f2eb1459cb2f2f44f23b1907cc5d1011130ae79f73c4a3ae47e\n",
            "  Stored in directory: /root/.cache/pip/wheels/a4/61/fd/c57e374e580aa78a45ed78d5859b3a44436af17e22ca53284f\n",
            "  Building wheel for avro-python3 (setup.py) ... \u001b[?25l\u001b[?25hdone\n",
            "  Created wheel for avro-python3: filename=avro_python3-1.10.2-py3-none-any.whl size=44010 sha256=3b34313fb059900255f49aa4061f75fcb8cc14e87bb89a855034f64b496f84b4\n",
            "  Stored in directory: /root/.cache/pip/wheels/d6/e5/b1/6b151d9b535ee50aaa6ab27d145a0104b6df02e5636f0376da\n",
            "  Building wheel for docopt (setup.py) ... \u001b[?25l\u001b[?25hdone\n",
            "  Created wheel for docopt: filename=docopt-0.6.2-py2.py3-none-any.whl size=13723 sha256=1a16d652a7287e5f5da9864d862b6be4cca65baa7904772bf89ed27430644ab2\n",
            "  Stored in directory: /root/.cache/pip/wheels/72/b0/3f/1d95f96ff986c7dfffe46ce2be4062f38ebd04b506c77c81b9\n",
            "  Building wheel for seqeval (setup.py) ... \u001b[?25l\u001b[?25hdone\n",
            "  Created wheel for seqeval: filename=seqeval-1.2.2-py3-none-any.whl size=16182 sha256=fda57f65409c2511ec7f3983074984320411fe4a1eead2a8f6303c33d255170d\n",
            "  Stored in directory: /root/.cache/pip/wheels/05/96/ee/7cac4e74f3b19e3158dce26a20a1c86b3533c43ec72a549fd7\n",
            "Successfully built object-detection dill avro-python3 docopt seqeval\n",
            "Installing collected packages: requests, pyparsing, tensorflow-estimator, tensorboard, keras, flatbuffers, tensorflow, portalocker, docopt, dill, colorama, zstandard, tf-slim, tensorflow-text, tensorflow-model-optimization, tensorflow-addons, seqeval, sentencepiece, sacrebleu, pyyaml, pymongo, py-cpuinfo, orjson, opencv-python-headless, immutabledict, hdfs, fastavro, cloudpickle, tf-models-official, tensorflow-io, lvis, avro-python3, apache-beam, object-detection\n",
            "  Attempting uninstall: requests\n",
            "    Found existing installation: requests 2.23.0\n",
            "    Uninstalling requests-2.23.0:\n",
            "      Successfully uninstalled requests-2.23.0\n",
            "  Attempting uninstall: pyparsing\n",
            "    Found existing installation: pyparsing 3.0.9\n",
            "    Uninstalling pyparsing-3.0.9:\n",
            "      Successfully uninstalled pyparsing-3.0.9\n",
            "  Attempting uninstall: tensorflow-estimator\n",
            "    Found existing installation: tensorflow-estimator 2.9.0\n",
            "    Uninstalling tensorflow-estimator-2.9.0:\n",
            "      Successfully uninstalled tensorflow-estimator-2.9.0\n",
            "  Attempting uninstall: tensorboard\n",
            "    Found existing installation: tensorboard 2.9.1\n",
            "    Uninstalling tensorboard-2.9.1:\n",
            "      Successfully uninstalled tensorboard-2.9.1\n",
            "  Attempting uninstall: keras\n",
            "    Found existing installation: keras 2.9.0\n",
            "    Uninstalling keras-2.9.0:\n",
            "      Successfully uninstalled keras-2.9.0\n",
            "  Attempting uninstall: flatbuffers\n",
            "    Found existing installation: flatbuffers 1.12\n",
            "    Uninstalling flatbuffers-1.12:\n",
            "      Successfully uninstalled flatbuffers-1.12\n",
            "  Attempting uninstall: tensorflow\n",
            "    Found existing installation: tensorflow 2.9.2\n",
            "    Uninstalling tensorflow-2.9.2:\n",
            "      Successfully uninstalled tensorflow-2.9.2\n",
            "  Attempting uninstall: dill\n",
            "    Found existing installation: dill 0.3.6\n",
            "    Uninstalling dill-0.3.6:\n",
            "      Successfully uninstalled dill-0.3.6\n",
            "  Attempting uninstall: pyyaml\n",
            "    Found existing installation: PyYAML 6.0\n",
            "    Uninstalling PyYAML-6.0:\n",
            "      Successfully uninstalled PyYAML-6.0\n",
            "  Attempting uninstall: pymongo\n",
            "    Found existing installation: pymongo 4.3.2\n",
            "    Uninstalling pymongo-4.3.2:\n",
            "      Successfully uninstalled pymongo-4.3.2\n",
            "  Attempting uninstall: opencv-python-headless\n",
            "    Found existing installation: opencv-python-headless 4.6.0.66\n",
            "    Uninstalling opencv-python-headless-4.6.0.66:\n",
            "      Successfully uninstalled opencv-python-headless-4.6.0.66\n",
            "  Attempting uninstall: cloudpickle\n",
            "    Found existing installation: cloudpickle 1.5.0\n",
            "    Uninstalling cloudpickle-1.5.0:\n",
            "      Successfully uninstalled cloudpickle-1.5.0\n",
            "Successfully installed apache-beam-2.42.0 avro-python3-1.10.2 cloudpickle-2.1.0 colorama-0.4.6 dill-0.3.1.1 docopt-0.6.2 fastavro-1.7.0 flatbuffers-22.10.26 hdfs-2.7.0 immutabledict-2.2.3 keras-2.10.0 lvis-0.5.3 object-detection-0.1 opencv-python-headless-4.5.2.52 orjson-3.8.1 portalocker-2.6.0 py-cpuinfo-9.0.0 pymongo-3.13.0 pyparsing-2.4.7 pyyaml-5.4.1 requests-2.28.1 sacrebleu-2.2.0 sentencepiece-0.1.97 seqeval-1.2.2 tensorboard-2.10.1 tensorflow-2.10.0 tensorflow-addons-0.18.0 tensorflow-estimator-2.10.0 tensorflow-io-0.27.0 tensorflow-model-optimization-0.7.3 tensorflow-text-2.10.0 tf-models-official-2.10.0 tf-slim-1.1.0 zstandard-0.19.0\n"
          ]
        }
      ]
    },
    {
      "cell_type": "markdown",
      "source": [
        "Testing the installation"
      ],
      "metadata": {
        "id": "H6_BAQaakDl0"
      }
    },
    {
      "cell_type": "code",
      "source": [
        "!python object_detection/builders/model_builder_tf2_test.py"
      ],
      "metadata": {
        "colab": {
          "base_uri": "https://localhost:8080/"
        },
        "id": "6EnLrBVhj-QV",
        "outputId": "66be0458-8d51-4472-9c53-b85c54d6f6de"
      },
      "execution_count": 29,
      "outputs": [
        {
          "output_type": "stream",
          "name": "stdout",
          "text": [
            "2022-11-15 18:06:55.366679: E tensorflow/stream_executor/cuda/cuda_blas.cc:2981] Unable to register cuBLAS factory: Attempting to register factory for plugin cuBLAS when one has already been registered\n",
            "2022-11-15 18:06:56.129966: W tensorflow/stream_executor/platform/default/dso_loader.cc:64] Could not load dynamic library 'libnvinfer.so.7'; dlerror: libnvinfer.so.7: cannot open shared object file: No such file or directory; LD_LIBRARY_PATH: /usr/lib64-nvidia\n",
            "2022-11-15 18:06:56.130183: W tensorflow/stream_executor/platform/default/dso_loader.cc:64] Could not load dynamic library 'libnvinfer_plugin.so.7'; dlerror: libnvinfer_plugin.so.7: cannot open shared object file: No such file or directory; LD_LIBRARY_PATH: /usr/lib64-nvidia\n",
            "2022-11-15 18:06:56.130204: W tensorflow/compiler/tf2tensorrt/utils/py_utils.cc:38] TF-TRT Warning: Cannot dlopen some TensorRT libraries. If you would like to use Nvidia GPU with TensorRT, please make sure the missing libraries mentioned above are installed properly.\n",
            "Running tests under Python 3.7.15: /usr/bin/python3\n",
            "[ RUN      ] ModelBuilderTF2Test.test_create_center_net_deepmac\n",
            "2022-11-15 18:06:59.971410: W tensorflow/core/common_runtime/gpu/gpu_bfc_allocator.cc:42] Overriding orig_value setting because the TF_FORCE_GPU_ALLOW_GROWTH environment variable is set. Original config value was 0.\n",
            "W1115 18:07:00.307530 139660155553664 model_builder.py:1109] Building experimental DeepMAC meta-arch. Some features may be omitted.\n",
            "INFO:tensorflow:time(__main__.ModelBuilderTF2Test.test_create_center_net_deepmac): 1.6s\n",
            "I1115 18:07:00.548543 139660155553664 test_util.py:2461] time(__main__.ModelBuilderTF2Test.test_create_center_net_deepmac): 1.6s\n",
            "[       OK ] ModelBuilderTF2Test.test_create_center_net_deepmac\n",
            "[ RUN      ] ModelBuilderTF2Test.test_create_center_net_model0 (customize_head_params=True)\n",
            "INFO:tensorflow:time(__main__.ModelBuilderTF2Test.test_create_center_net_model0 (customize_head_params=True)): 0.5s\n",
            "I1115 18:07:01.046393 139660155553664 test_util.py:2461] time(__main__.ModelBuilderTF2Test.test_create_center_net_model0 (customize_head_params=True)): 0.5s\n",
            "[       OK ] ModelBuilderTF2Test.test_create_center_net_model0 (customize_head_params=True)\n",
            "[ RUN      ] ModelBuilderTF2Test.test_create_center_net_model1 (customize_head_params=False)\n",
            "INFO:tensorflow:time(__main__.ModelBuilderTF2Test.test_create_center_net_model1 (customize_head_params=False)): 0.25s\n",
            "I1115 18:07:01.297397 139660155553664 test_util.py:2461] time(__main__.ModelBuilderTF2Test.test_create_center_net_model1 (customize_head_params=False)): 0.25s\n",
            "[       OK ] ModelBuilderTF2Test.test_create_center_net_model1 (customize_head_params=False)\n",
            "[ RUN      ] ModelBuilderTF2Test.test_create_center_net_model_from_keypoints\n",
            "INFO:tensorflow:time(__main__.ModelBuilderTF2Test.test_create_center_net_model_from_keypoints): 0.35s\n",
            "I1115 18:07:01.645465 139660155553664 test_util.py:2461] time(__main__.ModelBuilderTF2Test.test_create_center_net_model_from_keypoints): 0.35s\n",
            "[       OK ] ModelBuilderTF2Test.test_create_center_net_model_from_keypoints\n",
            "[ RUN      ] ModelBuilderTF2Test.test_create_center_net_model_mobilenet\n",
            "INFO:tensorflow:time(__main__.ModelBuilderTF2Test.test_create_center_net_model_mobilenet): 3.24s\n",
            "I1115 18:07:04.881736 139660155553664 test_util.py:2461] time(__main__.ModelBuilderTF2Test.test_create_center_net_model_mobilenet): 3.24s\n",
            "[       OK ] ModelBuilderTF2Test.test_create_center_net_model_mobilenet\n",
            "[ RUN      ] ModelBuilderTF2Test.test_create_experimental_model\n",
            "INFO:tensorflow:time(__main__.ModelBuilderTF2Test.test_create_experimental_model): 0.0s\n",
            "I1115 18:07:04.890149 139660155553664 test_util.py:2461] time(__main__.ModelBuilderTF2Test.test_create_experimental_model): 0.0s\n",
            "[       OK ] ModelBuilderTF2Test.test_create_experimental_model\n",
            "[ RUN      ] ModelBuilderTF2Test.test_create_faster_rcnn_from_config_with_crop_feature0 (True)\n",
            "INFO:tensorflow:time(__main__.ModelBuilderTF2Test.test_create_faster_rcnn_from_config_with_crop_feature0 (True)): 0.05s\n",
            "I1115 18:07:04.944327 139660155553664 test_util.py:2461] time(__main__.ModelBuilderTF2Test.test_create_faster_rcnn_from_config_with_crop_feature0 (True)): 0.05s\n",
            "[       OK ] ModelBuilderTF2Test.test_create_faster_rcnn_from_config_with_crop_feature0 (True)\n",
            "[ RUN      ] ModelBuilderTF2Test.test_create_faster_rcnn_from_config_with_crop_feature1 (False)\n",
            "INFO:tensorflow:time(__main__.ModelBuilderTF2Test.test_create_faster_rcnn_from_config_with_crop_feature1 (False)): 0.03s\n",
            "I1115 18:07:04.970060 139660155553664 test_util.py:2461] time(__main__.ModelBuilderTF2Test.test_create_faster_rcnn_from_config_with_crop_feature1 (False)): 0.03s\n",
            "[       OK ] ModelBuilderTF2Test.test_create_faster_rcnn_from_config_with_crop_feature1 (False)\n",
            "[ RUN      ] ModelBuilderTF2Test.test_create_faster_rcnn_model_from_config_with_example_miner\n",
            "INFO:tensorflow:time(__main__.ModelBuilderTF2Test.test_create_faster_rcnn_model_from_config_with_example_miner): 0.02s\n",
            "I1115 18:07:04.994442 139660155553664 test_util.py:2461] time(__main__.ModelBuilderTF2Test.test_create_faster_rcnn_model_from_config_with_example_miner): 0.02s\n",
            "[       OK ] ModelBuilderTF2Test.test_create_faster_rcnn_model_from_config_with_example_miner\n",
            "[ RUN      ] ModelBuilderTF2Test.test_create_faster_rcnn_models_from_config_faster_rcnn_with_matmul\n",
            "INFO:tensorflow:time(__main__.ModelBuilderTF2Test.test_create_faster_rcnn_models_from_config_faster_rcnn_with_matmul): 0.2s\n",
            "I1115 18:07:05.197049 139660155553664 test_util.py:2461] time(__main__.ModelBuilderTF2Test.test_create_faster_rcnn_models_from_config_faster_rcnn_with_matmul): 0.2s\n",
            "[       OK ] ModelBuilderTF2Test.test_create_faster_rcnn_models_from_config_faster_rcnn_with_matmul\n",
            "[ RUN      ] ModelBuilderTF2Test.test_create_faster_rcnn_models_from_config_faster_rcnn_without_matmul\n",
            "INFO:tensorflow:time(__main__.ModelBuilderTF2Test.test_create_faster_rcnn_models_from_config_faster_rcnn_without_matmul): 0.18s\n",
            "I1115 18:07:05.376675 139660155553664 test_util.py:2461] time(__main__.ModelBuilderTF2Test.test_create_faster_rcnn_models_from_config_faster_rcnn_without_matmul): 0.18s\n",
            "[       OK ] ModelBuilderTF2Test.test_create_faster_rcnn_models_from_config_faster_rcnn_without_matmul\n",
            "[ RUN      ] ModelBuilderTF2Test.test_create_faster_rcnn_models_from_config_mask_rcnn_with_matmul\n",
            "INFO:tensorflow:time(__main__.ModelBuilderTF2Test.test_create_faster_rcnn_models_from_config_mask_rcnn_with_matmul): 0.19s\n",
            "I1115 18:07:05.567749 139660155553664 test_util.py:2461] time(__main__.ModelBuilderTF2Test.test_create_faster_rcnn_models_from_config_mask_rcnn_with_matmul): 0.19s\n",
            "[       OK ] ModelBuilderTF2Test.test_create_faster_rcnn_models_from_config_mask_rcnn_with_matmul\n",
            "[ RUN      ] ModelBuilderTF2Test.test_create_faster_rcnn_models_from_config_mask_rcnn_without_matmul\n",
            "INFO:tensorflow:time(__main__.ModelBuilderTF2Test.test_create_faster_rcnn_models_from_config_mask_rcnn_without_matmul): 0.21s\n",
            "I1115 18:07:05.781573 139660155553664 test_util.py:2461] time(__main__.ModelBuilderTF2Test.test_create_faster_rcnn_models_from_config_mask_rcnn_without_matmul): 0.21s\n",
            "[       OK ] ModelBuilderTF2Test.test_create_faster_rcnn_models_from_config_mask_rcnn_without_matmul\n",
            "[ RUN      ] ModelBuilderTF2Test.test_create_rfcn_model_from_config\n",
            "INFO:tensorflow:time(__main__.ModelBuilderTF2Test.test_create_rfcn_model_from_config): 0.23s\n",
            "I1115 18:07:06.008677 139660155553664 test_util.py:2461] time(__main__.ModelBuilderTF2Test.test_create_rfcn_model_from_config): 0.23s\n",
            "[       OK ] ModelBuilderTF2Test.test_create_rfcn_model_from_config\n",
            "[ RUN      ] ModelBuilderTF2Test.test_create_ssd_fpn_model_from_config\n",
            "INFO:tensorflow:time(__main__.ModelBuilderTF2Test.test_create_ssd_fpn_model_from_config): 0.08s\n",
            "I1115 18:07:06.087840 139660155553664 test_util.py:2461] time(__main__.ModelBuilderTF2Test.test_create_ssd_fpn_model_from_config): 0.08s\n",
            "[       OK ] ModelBuilderTF2Test.test_create_ssd_fpn_model_from_config\n",
            "[ RUN      ] ModelBuilderTF2Test.test_create_ssd_models_from_config\n",
            "I1115 18:07:06.482999 139660155553664 ssd_efficientnet_bifpn_feature_extractor.py:151] EfficientDet EfficientNet backbone version: efficientnet-b0\n",
            "I1115 18:07:06.483204 139660155553664 ssd_efficientnet_bifpn_feature_extractor.py:152] EfficientDet BiFPN num filters: 64\n",
            "I1115 18:07:06.483298 139660155553664 ssd_efficientnet_bifpn_feature_extractor.py:154] EfficientDet BiFPN num iterations: 3\n",
            "I1115 18:07:06.486916 139660155553664 efficientnet_model.py:143] round_filter input=32 output=32\n",
            "I1115 18:07:06.569919 139660155553664 efficientnet_model.py:143] round_filter input=32 output=32\n",
            "I1115 18:07:06.570109 139660155553664 efficientnet_model.py:143] round_filter input=16 output=16\n",
            "I1115 18:07:06.685452 139660155553664 efficientnet_model.py:143] round_filter input=16 output=16\n",
            "I1115 18:07:06.685663 139660155553664 efficientnet_model.py:143] round_filter input=24 output=24\n",
            "I1115 18:07:07.049772 139660155553664 efficientnet_model.py:143] round_filter input=24 output=24\n",
            "I1115 18:07:07.049984 139660155553664 efficientnet_model.py:143] round_filter input=40 output=40\n",
            "I1115 18:07:07.438064 139660155553664 efficientnet_model.py:143] round_filter input=40 output=40\n",
            "I1115 18:07:07.438298 139660155553664 efficientnet_model.py:143] round_filter input=80 output=80\n",
            "I1115 18:07:07.921085 139660155553664 efficientnet_model.py:143] round_filter input=80 output=80\n",
            "I1115 18:07:07.921301 139660155553664 efficientnet_model.py:143] round_filter input=112 output=112\n",
            "I1115 18:07:08.609635 139660155553664 efficientnet_model.py:143] round_filter input=112 output=112\n",
            "I1115 18:07:08.609868 139660155553664 efficientnet_model.py:143] round_filter input=192 output=192\n",
            "I1115 18:07:09.377797 139660155553664 efficientnet_model.py:143] round_filter input=192 output=192\n",
            "I1115 18:07:09.377985 139660155553664 efficientnet_model.py:143] round_filter input=320 output=320\n",
            "I1115 18:07:09.579531 139660155553664 efficientnet_model.py:143] round_filter input=1280 output=1280\n",
            "I1115 18:07:09.649358 139660155553664 efficientnet_model.py:453] Building model efficientnet with params ModelConfig(width_coefficient=1.0, depth_coefficient=1.0, resolution=224, dropout_rate=0.2, blocks=(BlockConfig(input_filters=32, output_filters=16, kernel_size=3, num_repeat=1, expand_ratio=1, strides=(1, 1), se_ratio=0.25, id_skip=True, fused_conv=False, conv_type='depthwise'), BlockConfig(input_filters=16, output_filters=24, kernel_size=3, num_repeat=2, expand_ratio=6, strides=(2, 2), se_ratio=0.25, id_skip=True, fused_conv=False, conv_type='depthwise'), BlockConfig(input_filters=24, output_filters=40, kernel_size=5, num_repeat=2, expand_ratio=6, strides=(2, 2), se_ratio=0.25, id_skip=True, fused_conv=False, conv_type='depthwise'), BlockConfig(input_filters=40, output_filters=80, kernel_size=3, num_repeat=3, expand_ratio=6, strides=(2, 2), se_ratio=0.25, id_skip=True, fused_conv=False, conv_type='depthwise'), BlockConfig(input_filters=80, output_filters=112, kernel_size=5, num_repeat=3, expand_ratio=6, strides=(1, 1), se_ratio=0.25, id_skip=True, fused_conv=False, conv_type='depthwise'), BlockConfig(input_filters=112, output_filters=192, kernel_size=5, num_repeat=4, expand_ratio=6, strides=(2, 2), se_ratio=0.25, id_skip=True, fused_conv=False, conv_type='depthwise'), BlockConfig(input_filters=192, output_filters=320, kernel_size=3, num_repeat=1, expand_ratio=6, strides=(1, 1), se_ratio=0.25, id_skip=True, fused_conv=False, conv_type='depthwise')), stem_base_filters=32, top_base_filters=1280, activation='simple_swish', batch_norm='default', bn_momentum=0.99, bn_epsilon=0.001, weight_decay=5e-06, drop_connect_rate=0.2, depth_divisor=8, min_depth=None, use_se=True, input_channels=3, num_classes=1000, model_name='efficientnet', rescale_input=False, data_format='channels_last', dtype='float32')\n",
            "I1115 18:07:09.788882 139660155553664 ssd_efficientnet_bifpn_feature_extractor.py:151] EfficientDet EfficientNet backbone version: efficientnet-b1\n",
            "I1115 18:07:09.789093 139660155553664 ssd_efficientnet_bifpn_feature_extractor.py:152] EfficientDet BiFPN num filters: 88\n",
            "I1115 18:07:09.789212 139660155553664 ssd_efficientnet_bifpn_feature_extractor.py:154] EfficientDet BiFPN num iterations: 4\n",
            "I1115 18:07:09.800802 139660155553664 efficientnet_model.py:143] round_filter input=32 output=32\n",
            "I1115 18:07:09.832222 139660155553664 efficientnet_model.py:143] round_filter input=32 output=32\n",
            "I1115 18:07:09.832373 139660155553664 efficientnet_model.py:143] round_filter input=16 output=16\n",
            "I1115 18:07:10.126115 139660155553664 efficientnet_model.py:143] round_filter input=16 output=16\n",
            "I1115 18:07:10.126335 139660155553664 efficientnet_model.py:143] round_filter input=24 output=24\n",
            "I1115 18:07:10.717097 139660155553664 efficientnet_model.py:143] round_filter input=24 output=24\n",
            "I1115 18:07:10.717323 139660155553664 efficientnet_model.py:143] round_filter input=40 output=40\n",
            "I1115 18:07:11.215454 139660155553664 efficientnet_model.py:143] round_filter input=40 output=40\n",
            "I1115 18:07:11.215683 139660155553664 efficientnet_model.py:143] round_filter input=80 output=80\n",
            "I1115 18:07:11.770018 139660155553664 efficientnet_model.py:143] round_filter input=80 output=80\n",
            "I1115 18:07:11.770226 139660155553664 efficientnet_model.py:143] round_filter input=112 output=112\n",
            "I1115 18:07:12.393861 139660155553664 efficientnet_model.py:143] round_filter input=112 output=112\n",
            "I1115 18:07:12.394102 139660155553664 efficientnet_model.py:143] round_filter input=192 output=192\n",
            "I1115 18:07:13.438222 139660155553664 efficientnet_model.py:143] round_filter input=192 output=192\n",
            "I1115 18:07:13.438430 139660155553664 efficientnet_model.py:143] round_filter input=320 output=320\n",
            "I1115 18:07:13.818502 139660155553664 efficientnet_model.py:143] round_filter input=1280 output=1280\n",
            "I1115 18:07:13.869196 139660155553664 efficientnet_model.py:453] Building model efficientnet with params ModelConfig(width_coefficient=1.0, depth_coefficient=1.1, resolution=240, dropout_rate=0.2, blocks=(BlockConfig(input_filters=32, output_filters=16, kernel_size=3, num_repeat=1, expand_ratio=1, strides=(1, 1), se_ratio=0.25, id_skip=True, fused_conv=False, conv_type='depthwise'), BlockConfig(input_filters=16, output_filters=24, kernel_size=3, num_repeat=2, expand_ratio=6, strides=(2, 2), se_ratio=0.25, id_skip=True, fused_conv=False, conv_type='depthwise'), BlockConfig(input_filters=24, output_filters=40, kernel_size=5, num_repeat=2, expand_ratio=6, strides=(2, 2), se_ratio=0.25, id_skip=True, fused_conv=False, conv_type='depthwise'), BlockConfig(input_filters=40, output_filters=80, kernel_size=3, num_repeat=3, expand_ratio=6, strides=(2, 2), se_ratio=0.25, id_skip=True, fused_conv=False, conv_type='depthwise'), BlockConfig(input_filters=80, output_filters=112, kernel_size=5, num_repeat=3, expand_ratio=6, strides=(1, 1), se_ratio=0.25, id_skip=True, fused_conv=False, conv_type='depthwise'), BlockConfig(input_filters=112, output_filters=192, kernel_size=5, num_repeat=4, expand_ratio=6, strides=(2, 2), se_ratio=0.25, id_skip=True, fused_conv=False, conv_type='depthwise'), BlockConfig(input_filters=192, output_filters=320, kernel_size=3, num_repeat=1, expand_ratio=6, strides=(1, 1), se_ratio=0.25, id_skip=True, fused_conv=False, conv_type='depthwise')), stem_base_filters=32, top_base_filters=1280, activation='simple_swish', batch_norm='default', bn_momentum=0.99, bn_epsilon=0.001, weight_decay=5e-06, drop_connect_rate=0.2, depth_divisor=8, min_depth=None, use_se=True, input_channels=3, num_classes=1000, model_name='efficientnet', rescale_input=False, data_format='channels_last', dtype='float32')\n",
            "I1115 18:07:13.972668 139660155553664 ssd_efficientnet_bifpn_feature_extractor.py:151] EfficientDet EfficientNet backbone version: efficientnet-b2\n",
            "I1115 18:07:13.972897 139660155553664 ssd_efficientnet_bifpn_feature_extractor.py:152] EfficientDet BiFPN num filters: 112\n",
            "I1115 18:07:13.972985 139660155553664 ssd_efficientnet_bifpn_feature_extractor.py:154] EfficientDet BiFPN num iterations: 5\n",
            "I1115 18:07:13.975396 139660155553664 efficientnet_model.py:143] round_filter input=32 output=32\n",
            "I1115 18:07:14.000193 139660155553664 efficientnet_model.py:143] round_filter input=32 output=32\n",
            "I1115 18:07:14.000357 139660155553664 efficientnet_model.py:143] round_filter input=16 output=16\n",
            "I1115 18:07:14.271835 139660155553664 efficientnet_model.py:143] round_filter input=16 output=16\n",
            "I1115 18:07:14.272048 139660155553664 efficientnet_model.py:143] round_filter input=24 output=24\n",
            "I1115 18:07:14.803630 139660155553664 efficientnet_model.py:143] round_filter input=24 output=24\n",
            "I1115 18:07:14.803905 139660155553664 efficientnet_model.py:143] round_filter input=40 output=48\n",
            "I1115 18:07:15.214475 139660155553664 efficientnet_model.py:143] round_filter input=40 output=48\n",
            "I1115 18:07:15.214648 139660155553664 efficientnet_model.py:143] round_filter input=80 output=88\n",
            "I1115 18:07:15.575386 139660155553664 efficientnet_model.py:143] round_filter input=80 output=88\n",
            "I1115 18:07:15.575552 139660155553664 efficientnet_model.py:143] round_filter input=112 output=120\n",
            "I1115 18:07:15.934567 139660155553664 efficientnet_model.py:143] round_filter input=112 output=120\n",
            "I1115 18:07:15.934750 139660155553664 efficientnet_model.py:143] round_filter input=192 output=208\n",
            "I1115 18:07:16.405855 139660155553664 efficientnet_model.py:143] round_filter input=192 output=208\n",
            "I1115 18:07:16.406039 139660155553664 efficientnet_model.py:143] round_filter input=320 output=352\n",
            "I1115 18:07:16.588100 139660155553664 efficientnet_model.py:143] round_filter input=1280 output=1408\n",
            "I1115 18:07:16.625111 139660155553664 efficientnet_model.py:453] Building model efficientnet with params ModelConfig(width_coefficient=1.1, depth_coefficient=1.2, resolution=260, dropout_rate=0.3, blocks=(BlockConfig(input_filters=32, output_filters=16, kernel_size=3, num_repeat=1, expand_ratio=1, strides=(1, 1), se_ratio=0.25, id_skip=True, fused_conv=False, conv_type='depthwise'), BlockConfig(input_filters=16, output_filters=24, kernel_size=3, num_repeat=2, expand_ratio=6, strides=(2, 2), se_ratio=0.25, id_skip=True, fused_conv=False, conv_type='depthwise'), BlockConfig(input_filters=24, output_filters=40, kernel_size=5, num_repeat=2, expand_ratio=6, strides=(2, 2), se_ratio=0.25, id_skip=True, fused_conv=False, conv_type='depthwise'), BlockConfig(input_filters=40, output_filters=80, kernel_size=3, num_repeat=3, expand_ratio=6, strides=(2, 2), se_ratio=0.25, id_skip=True, fused_conv=False, conv_type='depthwise'), BlockConfig(input_filters=80, output_filters=112, kernel_size=5, num_repeat=3, expand_ratio=6, strides=(1, 1), se_ratio=0.25, id_skip=True, fused_conv=False, conv_type='depthwise'), BlockConfig(input_filters=112, output_filters=192, kernel_size=5, num_repeat=4, expand_ratio=6, strides=(2, 2), se_ratio=0.25, id_skip=True, fused_conv=False, conv_type='depthwise'), BlockConfig(input_filters=192, output_filters=320, kernel_size=3, num_repeat=1, expand_ratio=6, strides=(1, 1), se_ratio=0.25, id_skip=True, fused_conv=False, conv_type='depthwise')), stem_base_filters=32, top_base_filters=1280, activation='simple_swish', batch_norm='default', bn_momentum=0.99, bn_epsilon=0.001, weight_decay=5e-06, drop_connect_rate=0.2, depth_divisor=8, min_depth=None, use_se=True, input_channels=3, num_classes=1000, model_name='efficientnet', rescale_input=False, data_format='channels_last', dtype='float32')\n",
            "I1115 18:07:16.685409 139660155553664 ssd_efficientnet_bifpn_feature_extractor.py:151] EfficientDet EfficientNet backbone version: efficientnet-b3\n",
            "I1115 18:07:16.685572 139660155553664 ssd_efficientnet_bifpn_feature_extractor.py:152] EfficientDet BiFPN num filters: 160\n",
            "I1115 18:07:16.685648 139660155553664 ssd_efficientnet_bifpn_feature_extractor.py:154] EfficientDet BiFPN num iterations: 6\n",
            "I1115 18:07:16.687201 139660155553664 efficientnet_model.py:143] round_filter input=32 output=40\n",
            "I1115 18:07:16.707000 139660155553664 efficientnet_model.py:143] round_filter input=32 output=40\n",
            "I1115 18:07:16.707117 139660155553664 efficientnet_model.py:143] round_filter input=16 output=24\n",
            "I1115 18:07:16.853608 139660155553664 efficientnet_model.py:143] round_filter input=16 output=24\n",
            "I1115 18:07:16.853795 139660155553664 efficientnet_model.py:143] round_filter input=24 output=32\n",
            "I1115 18:07:17.113691 139660155553664 efficientnet_model.py:143] round_filter input=24 output=32\n",
            "I1115 18:07:17.113897 139660155553664 efficientnet_model.py:143] round_filter input=40 output=48\n",
            "I1115 18:07:17.554563 139660155553664 efficientnet_model.py:143] round_filter input=40 output=48\n",
            "I1115 18:07:17.554748 139660155553664 efficientnet_model.py:143] round_filter input=80 output=96\n",
            "I1115 18:07:17.997704 139660155553664 efficientnet_model.py:143] round_filter input=80 output=96\n",
            "I1115 18:07:17.997886 139660155553664 efficientnet_model.py:143] round_filter input=112 output=136\n",
            "I1115 18:07:18.433309 139660155553664 efficientnet_model.py:143] round_filter input=112 output=136\n",
            "I1115 18:07:18.433478 139660155553664 efficientnet_model.py:143] round_filter input=192 output=232\n",
            "I1115 18:07:18.967576 139660155553664 efficientnet_model.py:143] round_filter input=192 output=232\n",
            "I1115 18:07:18.967754 139660155553664 efficientnet_model.py:143] round_filter input=320 output=384\n",
            "I1115 18:07:19.145992 139660155553664 efficientnet_model.py:143] round_filter input=1280 output=1536\n",
            "I1115 18:07:19.184947 139660155553664 efficientnet_model.py:453] Building model efficientnet with params ModelConfig(width_coefficient=1.2, depth_coefficient=1.4, resolution=300, dropout_rate=0.3, blocks=(BlockConfig(input_filters=32, output_filters=16, kernel_size=3, num_repeat=1, expand_ratio=1, strides=(1, 1), se_ratio=0.25, id_skip=True, fused_conv=False, conv_type='depthwise'), BlockConfig(input_filters=16, output_filters=24, kernel_size=3, num_repeat=2, expand_ratio=6, strides=(2, 2), se_ratio=0.25, id_skip=True, fused_conv=False, conv_type='depthwise'), BlockConfig(input_filters=24, output_filters=40, kernel_size=5, num_repeat=2, expand_ratio=6, strides=(2, 2), se_ratio=0.25, id_skip=True, fused_conv=False, conv_type='depthwise'), BlockConfig(input_filters=40, output_filters=80, kernel_size=3, num_repeat=3, expand_ratio=6, strides=(2, 2), se_ratio=0.25, id_skip=True, fused_conv=False, conv_type='depthwise'), BlockConfig(input_filters=80, output_filters=112, kernel_size=5, num_repeat=3, expand_ratio=6, strides=(1, 1), se_ratio=0.25, id_skip=True, fused_conv=False, conv_type='depthwise'), BlockConfig(input_filters=112, output_filters=192, kernel_size=5, num_repeat=4, expand_ratio=6, strides=(2, 2), se_ratio=0.25, id_skip=True, fused_conv=False, conv_type='depthwise'), BlockConfig(input_filters=192, output_filters=320, kernel_size=3, num_repeat=1, expand_ratio=6, strides=(1, 1), se_ratio=0.25, id_skip=True, fused_conv=False, conv_type='depthwise')), stem_base_filters=32, top_base_filters=1280, activation='simple_swish', batch_norm='default', bn_momentum=0.99, bn_epsilon=0.001, weight_decay=5e-06, drop_connect_rate=0.2, depth_divisor=8, min_depth=None, use_se=True, input_channels=3, num_classes=1000, model_name='efficientnet', rescale_input=False, data_format='channels_last', dtype='float32')\n",
            "I1115 18:07:19.252552 139660155553664 ssd_efficientnet_bifpn_feature_extractor.py:151] EfficientDet EfficientNet backbone version: efficientnet-b4\n",
            "I1115 18:07:19.252725 139660155553664 ssd_efficientnet_bifpn_feature_extractor.py:152] EfficientDet BiFPN num filters: 224\n",
            "I1115 18:07:19.252795 139660155553664 ssd_efficientnet_bifpn_feature_extractor.py:154] EfficientDet BiFPN num iterations: 7\n",
            "I1115 18:07:19.254330 139660155553664 efficientnet_model.py:143] round_filter input=32 output=48\n",
            "I1115 18:07:19.274517 139660155553664 efficientnet_model.py:143] round_filter input=32 output=48\n",
            "I1115 18:07:19.274635 139660155553664 efficientnet_model.py:143] round_filter input=16 output=24\n",
            "I1115 18:07:19.411346 139660155553664 efficientnet_model.py:143] round_filter input=16 output=24\n",
            "I1115 18:07:19.411488 139660155553664 efficientnet_model.py:143] round_filter input=24 output=32\n",
            "I1115 18:07:19.752215 139660155553664 efficientnet_model.py:143] round_filter input=24 output=32\n",
            "I1115 18:07:19.752379 139660155553664 efficientnet_model.py:143] round_filter input=40 output=56\n",
            "I1115 18:07:20.116779 139660155553664 efficientnet_model.py:143] round_filter input=40 output=56\n",
            "I1115 18:07:20.116939 139660155553664 efficientnet_model.py:143] round_filter input=80 output=112\n",
            "I1115 18:07:20.636557 139660155553664 efficientnet_model.py:143] round_filter input=80 output=112\n",
            "I1115 18:07:20.636766 139660155553664 efficientnet_model.py:143] round_filter input=112 output=160\n",
            "I1115 18:07:21.167647 139660155553664 efficientnet_model.py:143] round_filter input=112 output=160\n",
            "I1115 18:07:21.167826 139660155553664 efficientnet_model.py:143] round_filter input=192 output=272\n",
            "I1115 18:07:21.946947 139660155553664 efficientnet_model.py:143] round_filter input=192 output=272\n",
            "I1115 18:07:21.947170 139660155553664 efficientnet_model.py:143] round_filter input=320 output=448\n",
            "I1115 18:07:22.197894 139660155553664 efficientnet_model.py:143] round_filter input=1280 output=1792\n",
            "I1115 18:07:22.250695 139660155553664 efficientnet_model.py:453] Building model efficientnet with params ModelConfig(width_coefficient=1.4, depth_coefficient=1.8, resolution=380, dropout_rate=0.4, blocks=(BlockConfig(input_filters=32, output_filters=16, kernel_size=3, num_repeat=1, expand_ratio=1, strides=(1, 1), se_ratio=0.25, id_skip=True, fused_conv=False, conv_type='depthwise'), BlockConfig(input_filters=16, output_filters=24, kernel_size=3, num_repeat=2, expand_ratio=6, strides=(2, 2), se_ratio=0.25, id_skip=True, fused_conv=False, conv_type='depthwise'), BlockConfig(input_filters=24, output_filters=40, kernel_size=5, num_repeat=2, expand_ratio=6, strides=(2, 2), se_ratio=0.25, id_skip=True, fused_conv=False, conv_type='depthwise'), BlockConfig(input_filters=40, output_filters=80, kernel_size=3, num_repeat=3, expand_ratio=6, strides=(2, 2), se_ratio=0.25, id_skip=True, fused_conv=False, conv_type='depthwise'), BlockConfig(input_filters=80, output_filters=112, kernel_size=5, num_repeat=3, expand_ratio=6, strides=(1, 1), se_ratio=0.25, id_skip=True, fused_conv=False, conv_type='depthwise'), BlockConfig(input_filters=112, output_filters=192, kernel_size=5, num_repeat=4, expand_ratio=6, strides=(2, 2), se_ratio=0.25, id_skip=True, fused_conv=False, conv_type='depthwise'), BlockConfig(input_filters=192, output_filters=320, kernel_size=3, num_repeat=1, expand_ratio=6, strides=(1, 1), se_ratio=0.25, id_skip=True, fused_conv=False, conv_type='depthwise')), stem_base_filters=32, top_base_filters=1280, activation='simple_swish', batch_norm='default', bn_momentum=0.99, bn_epsilon=0.001, weight_decay=5e-06, drop_connect_rate=0.2, depth_divisor=8, min_depth=None, use_se=True, input_channels=3, num_classes=1000, model_name='efficientnet', rescale_input=False, data_format='channels_last', dtype='float32')\n",
            "I1115 18:07:22.369738 139660155553664 ssd_efficientnet_bifpn_feature_extractor.py:151] EfficientDet EfficientNet backbone version: efficientnet-b5\n",
            "I1115 18:07:22.369926 139660155553664 ssd_efficientnet_bifpn_feature_extractor.py:152] EfficientDet BiFPN num filters: 288\n",
            "I1115 18:07:22.369998 139660155553664 ssd_efficientnet_bifpn_feature_extractor.py:154] EfficientDet BiFPN num iterations: 7\n",
            "I1115 18:07:22.372165 139660155553664 efficientnet_model.py:143] round_filter input=32 output=48\n",
            "I1115 18:07:22.396110 139660155553664 efficientnet_model.py:143] round_filter input=32 output=48\n",
            "I1115 18:07:22.396296 139660155553664 efficientnet_model.py:143] round_filter input=16 output=24\n",
            "I1115 18:07:22.679115 139660155553664 efficientnet_model.py:143] round_filter input=16 output=24\n",
            "I1115 18:07:22.679320 139660155553664 efficientnet_model.py:143] round_filter input=24 output=40\n",
            "I1115 18:07:23.272633 139660155553664 efficientnet_model.py:143] round_filter input=24 output=40\n",
            "I1115 18:07:23.272855 139660155553664 efficientnet_model.py:143] round_filter input=40 output=64\n",
            "I1115 18:07:23.946098 139660155553664 efficientnet_model.py:143] round_filter input=40 output=64\n",
            "I1115 18:07:23.946296 139660155553664 efficientnet_model.py:143] round_filter input=80 output=128\n",
            "I1115 18:07:25.165611 139660155553664 efficientnet_model.py:143] round_filter input=80 output=128\n",
            "I1115 18:07:25.165839 139660155553664 efficientnet_model.py:143] round_filter input=112 output=176\n",
            "I1115 18:07:26.094871 139660155553664 efficientnet_model.py:143] round_filter input=112 output=176\n",
            "I1115 18:07:26.095073 139660155553664 efficientnet_model.py:143] round_filter input=192 output=304\n",
            "I1115 18:07:27.288143 139660155553664 efficientnet_model.py:143] round_filter input=192 output=304\n",
            "I1115 18:07:27.288355 139660155553664 efficientnet_model.py:143] round_filter input=320 output=512\n",
            "I1115 18:07:27.695411 139660155553664 efficientnet_model.py:143] round_filter input=1280 output=2048\n",
            "I1115 18:07:27.751178 139660155553664 efficientnet_model.py:453] Building model efficientnet with params ModelConfig(width_coefficient=1.6, depth_coefficient=2.2, resolution=456, dropout_rate=0.4, blocks=(BlockConfig(input_filters=32, output_filters=16, kernel_size=3, num_repeat=1, expand_ratio=1, strides=(1, 1), se_ratio=0.25, id_skip=True, fused_conv=False, conv_type='depthwise'), BlockConfig(input_filters=16, output_filters=24, kernel_size=3, num_repeat=2, expand_ratio=6, strides=(2, 2), se_ratio=0.25, id_skip=True, fused_conv=False, conv_type='depthwise'), BlockConfig(input_filters=24, output_filters=40, kernel_size=5, num_repeat=2, expand_ratio=6, strides=(2, 2), se_ratio=0.25, id_skip=True, fused_conv=False, conv_type='depthwise'), BlockConfig(input_filters=40, output_filters=80, kernel_size=3, num_repeat=3, expand_ratio=6, strides=(2, 2), se_ratio=0.25, id_skip=True, fused_conv=False, conv_type='depthwise'), BlockConfig(input_filters=80, output_filters=112, kernel_size=5, num_repeat=3, expand_ratio=6, strides=(1, 1), se_ratio=0.25, id_skip=True, fused_conv=False, conv_type='depthwise'), BlockConfig(input_filters=112, output_filters=192, kernel_size=5, num_repeat=4, expand_ratio=6, strides=(2, 2), se_ratio=0.25, id_skip=True, fused_conv=False, conv_type='depthwise'), BlockConfig(input_filters=192, output_filters=320, kernel_size=3, num_repeat=1, expand_ratio=6, strides=(1, 1), se_ratio=0.25, id_skip=True, fused_conv=False, conv_type='depthwise')), stem_base_filters=32, top_base_filters=1280, activation='simple_swish', batch_norm='default', bn_momentum=0.99, bn_epsilon=0.001, weight_decay=5e-06, drop_connect_rate=0.2, depth_divisor=8, min_depth=None, use_se=True, input_channels=3, num_classes=1000, model_name='efficientnet', rescale_input=False, data_format='channels_last', dtype='float32')\n",
            "I1115 18:07:27.885015 139660155553664 ssd_efficientnet_bifpn_feature_extractor.py:151] EfficientDet EfficientNet backbone version: efficientnet-b6\n",
            "I1115 18:07:27.885209 139660155553664 ssd_efficientnet_bifpn_feature_extractor.py:152] EfficientDet BiFPN num filters: 384\n",
            "I1115 18:07:27.885306 139660155553664 ssd_efficientnet_bifpn_feature_extractor.py:154] EfficientDet BiFPN num iterations: 8\n",
            "I1115 18:07:27.887615 139660155553664 efficientnet_model.py:143] round_filter input=32 output=56\n",
            "I1115 18:07:27.915910 139660155553664 efficientnet_model.py:143] round_filter input=32 output=56\n",
            "I1115 18:07:27.916043 139660155553664 efficientnet_model.py:143] round_filter input=16 output=32\n",
            "I1115 18:07:28.237212 139660155553664 efficientnet_model.py:143] round_filter input=16 output=32\n",
            "I1115 18:07:28.237440 139660155553664 efficientnet_model.py:143] round_filter input=24 output=40\n",
            "I1115 18:07:29.023245 139660155553664 efficientnet_model.py:143] round_filter input=24 output=40\n",
            "I1115 18:07:29.023451 139660155553664 efficientnet_model.py:143] round_filter input=40 output=72\n",
            "I1115 18:07:29.676011 139660155553664 efficientnet_model.py:143] round_filter input=40 output=72\n",
            "I1115 18:07:29.676183 139660155553664 efficientnet_model.py:143] round_filter input=80 output=144\n",
            "I1115 18:07:30.382429 139660155553664 efficientnet_model.py:143] round_filter input=80 output=144\n",
            "I1115 18:07:30.382606 139660155553664 efficientnet_model.py:143] round_filter input=112 output=200\n",
            "I1115 18:07:31.083430 139660155553664 efficientnet_model.py:143] round_filter input=112 output=200\n",
            "I1115 18:07:31.083604 139660155553664 efficientnet_model.py:143] round_filter input=192 output=344\n",
            "I1115 18:07:32.339230 139660155553664 efficientnet_model.py:143] round_filter input=192 output=344\n",
            "I1115 18:07:32.339436 139660155553664 efficientnet_model.py:143] round_filter input=320 output=576\n",
            "I1115 18:07:32.719856 139660155553664 efficientnet_model.py:143] round_filter input=1280 output=2304\n",
            "I1115 18:07:32.772130 139660155553664 efficientnet_model.py:453] Building model efficientnet with params ModelConfig(width_coefficient=1.8, depth_coefficient=2.6, resolution=528, dropout_rate=0.5, blocks=(BlockConfig(input_filters=32, output_filters=16, kernel_size=3, num_repeat=1, expand_ratio=1, strides=(1, 1), se_ratio=0.25, id_skip=True, fused_conv=False, conv_type='depthwise'), BlockConfig(input_filters=16, output_filters=24, kernel_size=3, num_repeat=2, expand_ratio=6, strides=(2, 2), se_ratio=0.25, id_skip=True, fused_conv=False, conv_type='depthwise'), BlockConfig(input_filters=24, output_filters=40, kernel_size=5, num_repeat=2, expand_ratio=6, strides=(2, 2), se_ratio=0.25, id_skip=True, fused_conv=False, conv_type='depthwise'), BlockConfig(input_filters=40, output_filters=80, kernel_size=3, num_repeat=3, expand_ratio=6, strides=(2, 2), se_ratio=0.25, id_skip=True, fused_conv=False, conv_type='depthwise'), BlockConfig(input_filters=80, output_filters=112, kernel_size=5, num_repeat=3, expand_ratio=6, strides=(1, 1), se_ratio=0.25, id_skip=True, fused_conv=False, conv_type='depthwise'), BlockConfig(input_filters=112, output_filters=192, kernel_size=5, num_repeat=4, expand_ratio=6, strides=(2, 2), se_ratio=0.25, id_skip=True, fused_conv=False, conv_type='depthwise'), BlockConfig(input_filters=192, output_filters=320, kernel_size=3, num_repeat=1, expand_ratio=6, strides=(1, 1), se_ratio=0.25, id_skip=True, fused_conv=False, conv_type='depthwise')), stem_base_filters=32, top_base_filters=1280, activation='simple_swish', batch_norm='default', bn_momentum=0.99, bn_epsilon=0.001, weight_decay=5e-06, drop_connect_rate=0.2, depth_divisor=8, min_depth=None, use_se=True, input_channels=3, num_classes=1000, model_name='efficientnet', rescale_input=False, data_format='channels_last', dtype='float32')\n",
            "I1115 18:07:32.928268 139660155553664 ssd_efficientnet_bifpn_feature_extractor.py:151] EfficientDet EfficientNet backbone version: efficientnet-b7\n",
            "I1115 18:07:32.928467 139660155553664 ssd_efficientnet_bifpn_feature_extractor.py:152] EfficientDet BiFPN num filters: 384\n",
            "I1115 18:07:32.928568 139660155553664 ssd_efficientnet_bifpn_feature_extractor.py:154] EfficientDet BiFPN num iterations: 8\n",
            "I1115 18:07:32.930903 139660155553664 efficientnet_model.py:143] round_filter input=32 output=64\n",
            "I1115 18:07:32.965693 139660155553664 efficientnet_model.py:143] round_filter input=32 output=64\n",
            "I1115 18:07:32.965840 139660155553664 efficientnet_model.py:143] round_filter input=16 output=32\n",
            "I1115 18:07:33.391939 139660155553664 efficientnet_model.py:143] round_filter input=16 output=32\n",
            "I1115 18:07:33.392173 139660155553664 efficientnet_model.py:143] round_filter input=24 output=48\n",
            "I1115 18:07:34.610621 139660155553664 efficientnet_model.py:143] round_filter input=24 output=48\n",
            "I1115 18:07:34.610859 139660155553664 efficientnet_model.py:143] round_filter input=40 output=80\n",
            "I1115 18:07:35.524414 139660155553664 efficientnet_model.py:143] round_filter input=40 output=80\n",
            "I1115 18:07:35.524619 139660155553664 efficientnet_model.py:143] round_filter input=80 output=160\n",
            "I1115 18:07:36.826177 139660155553664 efficientnet_model.py:143] round_filter input=80 output=160\n",
            "I1115 18:07:36.826383 139660155553664 efficientnet_model.py:143] round_filter input=112 output=224\n",
            "I1115 18:07:38.138126 139660155553664 efficientnet_model.py:143] round_filter input=112 output=224\n",
            "I1115 18:07:38.138346 139660155553664 efficientnet_model.py:143] round_filter input=192 output=384\n",
            "I1115 18:07:39.459697 139660155553664 efficientnet_model.py:143] round_filter input=192 output=384\n",
            "I1115 18:07:39.459917 139660155553664 efficientnet_model.py:143] round_filter input=320 output=640\n",
            "I1115 18:07:39.814608 139660155553664 efficientnet_model.py:143] round_filter input=1280 output=2560\n",
            "I1115 18:07:39.859880 139660155553664 efficientnet_model.py:453] Building model efficientnet with params ModelConfig(width_coefficient=2.0, depth_coefficient=3.1, resolution=600, dropout_rate=0.5, blocks=(BlockConfig(input_filters=32, output_filters=16, kernel_size=3, num_repeat=1, expand_ratio=1, strides=(1, 1), se_ratio=0.25, id_skip=True, fused_conv=False, conv_type='depthwise'), BlockConfig(input_filters=16, output_filters=24, kernel_size=3, num_repeat=2, expand_ratio=6, strides=(2, 2), se_ratio=0.25, id_skip=True, fused_conv=False, conv_type='depthwise'), BlockConfig(input_filters=24, output_filters=40, kernel_size=5, num_repeat=2, expand_ratio=6, strides=(2, 2), se_ratio=0.25, id_skip=True, fused_conv=False, conv_type='depthwise'), BlockConfig(input_filters=40, output_filters=80, kernel_size=3, num_repeat=3, expand_ratio=6, strides=(2, 2), se_ratio=0.25, id_skip=True, fused_conv=False, conv_type='depthwise'), BlockConfig(input_filters=80, output_filters=112, kernel_size=5, num_repeat=3, expand_ratio=6, strides=(1, 1), se_ratio=0.25, id_skip=True, fused_conv=False, conv_type='depthwise'), BlockConfig(input_filters=112, output_filters=192, kernel_size=5, num_repeat=4, expand_ratio=6, strides=(2, 2), se_ratio=0.25, id_skip=True, fused_conv=False, conv_type='depthwise'), BlockConfig(input_filters=192, output_filters=320, kernel_size=3, num_repeat=1, expand_ratio=6, strides=(1, 1), se_ratio=0.25, id_skip=True, fused_conv=False, conv_type='depthwise')), stem_base_filters=32, top_base_filters=1280, activation='simple_swish', batch_norm='default', bn_momentum=0.99, bn_epsilon=0.001, weight_decay=5e-06, drop_connect_rate=0.2, depth_divisor=8, min_depth=None, use_se=True, input_channels=3, num_classes=1000, model_name='efficientnet', rescale_input=False, data_format='channels_last', dtype='float32')\n",
            "INFO:tensorflow:time(__main__.ModelBuilderTF2Test.test_create_ssd_models_from_config): 33.87s\n",
            "I1115 18:07:39.964582 139660155553664 test_util.py:2461] time(__main__.ModelBuilderTF2Test.test_create_ssd_models_from_config): 33.87s\n",
            "[       OK ] ModelBuilderTF2Test.test_create_ssd_models_from_config\n",
            "[ RUN      ] ModelBuilderTF2Test.test_invalid_faster_rcnn_batchnorm_update\n",
            "INFO:tensorflow:time(__main__.ModelBuilderTF2Test.test_invalid_faster_rcnn_batchnorm_update): 0.0s\n",
            "I1115 18:07:39.989854 139660155553664 test_util.py:2461] time(__main__.ModelBuilderTF2Test.test_invalid_faster_rcnn_batchnorm_update): 0.0s\n",
            "[       OK ] ModelBuilderTF2Test.test_invalid_faster_rcnn_batchnorm_update\n",
            "[ RUN      ] ModelBuilderTF2Test.test_invalid_first_stage_nms_iou_threshold\n",
            "INFO:tensorflow:time(__main__.ModelBuilderTF2Test.test_invalid_first_stage_nms_iou_threshold): 0.0s\n",
            "I1115 18:07:39.991469 139660155553664 test_util.py:2461] time(__main__.ModelBuilderTF2Test.test_invalid_first_stage_nms_iou_threshold): 0.0s\n",
            "[       OK ] ModelBuilderTF2Test.test_invalid_first_stage_nms_iou_threshold\n",
            "[ RUN      ] ModelBuilderTF2Test.test_invalid_model_config_proto\n",
            "INFO:tensorflow:time(__main__.ModelBuilderTF2Test.test_invalid_model_config_proto): 0.0s\n",
            "I1115 18:07:39.991968 139660155553664 test_util.py:2461] time(__main__.ModelBuilderTF2Test.test_invalid_model_config_proto): 0.0s\n",
            "[       OK ] ModelBuilderTF2Test.test_invalid_model_config_proto\n",
            "[ RUN      ] ModelBuilderTF2Test.test_invalid_second_stage_batch_size\n",
            "INFO:tensorflow:time(__main__.ModelBuilderTF2Test.test_invalid_second_stage_batch_size): 0.0s\n",
            "I1115 18:07:39.993353 139660155553664 test_util.py:2461] time(__main__.ModelBuilderTF2Test.test_invalid_second_stage_batch_size): 0.0s\n",
            "[       OK ] ModelBuilderTF2Test.test_invalid_second_stage_batch_size\n",
            "[ RUN      ] ModelBuilderTF2Test.test_session\n",
            "[  SKIPPED ] ModelBuilderTF2Test.test_session\n",
            "[ RUN      ] ModelBuilderTF2Test.test_unknown_faster_rcnn_feature_extractor\n",
            "INFO:tensorflow:time(__main__.ModelBuilderTF2Test.test_unknown_faster_rcnn_feature_extractor): 0.0s\n",
            "I1115 18:07:39.994589 139660155553664 test_util.py:2461] time(__main__.ModelBuilderTF2Test.test_unknown_faster_rcnn_feature_extractor): 0.0s\n",
            "[       OK ] ModelBuilderTF2Test.test_unknown_faster_rcnn_feature_extractor\n",
            "[ RUN      ] ModelBuilderTF2Test.test_unknown_meta_architecture\n",
            "INFO:tensorflow:time(__main__.ModelBuilderTF2Test.test_unknown_meta_architecture): 0.0s\n",
            "I1115 18:07:39.995025 139660155553664 test_util.py:2461] time(__main__.ModelBuilderTF2Test.test_unknown_meta_architecture): 0.0s\n",
            "[       OK ] ModelBuilderTF2Test.test_unknown_meta_architecture\n",
            "[ RUN      ] ModelBuilderTF2Test.test_unknown_ssd_feature_extractor\n",
            "INFO:tensorflow:time(__main__.ModelBuilderTF2Test.test_unknown_ssd_feature_extractor): 0.0s\n",
            "I1115 18:07:39.995955 139660155553664 test_util.py:2461] time(__main__.ModelBuilderTF2Test.test_unknown_ssd_feature_extractor): 0.0s\n",
            "[       OK ] ModelBuilderTF2Test.test_unknown_ssd_feature_extractor\n",
            "----------------------------------------------------------------------\n",
            "Ran 24 tests in 41.052s\n",
            "\n",
            "OK (skipped=1)\n"
          ]
        }
      ]
    },
    {
      "cell_type": "markdown",
      "source": [
        "Installation sucessfully completed"
      ],
      "metadata": {
        "id": "I_KZ1Jg0k9hY"
      }
    },
    {
      "cell_type": "markdown",
      "source": [
        "**Setting up folder structure for images**"
      ],
      "metadata": {
        "id": "Z45hj2S7mwLW"
      }
    },
    {
      "cell_type": "code",
      "source": [
        "pwd"
      ],
      "metadata": {
        "colab": {
          "base_uri": "https://localhost:8080/",
          "height": 37
        },
        "id": "oUW2A5x0oAgy",
        "outputId": "59c0a2ef-0a0c-48cb-86b7-901c9b7a0883"
      },
      "execution_count": 4,
      "outputs": [
        {
          "output_type": "execute_result",
          "data": {
            "text/plain": [
              "'/content'"
            ],
            "application/vnd.google.colaboratory.intrinsic+json": {
              "type": "string"
            }
          },
          "metadata": {},
          "execution_count": 4
        }
      ]
    },
    {
      "cell_type": "code",
      "source": [
        "cd /content"
      ],
      "metadata": {
        "colab": {
          "base_uri": "https://localhost:8080/"
        },
        "id": "drhlVEscoAjk",
        "outputId": "d28ee34e-b66a-471a-9561-fb1f65010434"
      },
      "execution_count": 5,
      "outputs": [
        {
          "output_type": "stream",
          "name": "stdout",
          "text": [
            "/content\n"
          ]
        }
      ]
    },
    {
      "cell_type": "code",
      "source": [
        "# Importing necessary libraries\n",
        "\n",
        "import os\n",
        "import shutil \n",
        "from glob import glob\n",
        "from sklearn.model_selection import train_test_split"
      ],
      "metadata": {
        "id": "ebTbYqt4keAL"
      },
      "execution_count": 6,
      "outputs": []
    },
    {
      "cell_type": "code",
      "source": [
        "# Path to images and annotations\n",
        "\n",
        "images_path = \"/content/Face-Mask-Detection/images\"\n",
        "annotations_path = \"/content/Face-Mask-Detection/annotations\""
      ],
      "metadata": {
        "id": "kCctK01pnPac"
      },
      "execution_count": 7,
      "outputs": []
    },
    {
      "cell_type": "code",
      "source": [
        "print(\"Images size:\",len(glob(images_path+\"/*\")),\"Annotations size:\",len(glob(annotations_path+\"/*\")))"
      ],
      "metadata": {
        "colab": {
          "base_uri": "https://localhost:8080/"
        },
        "id": "fnufzwgFn9hq",
        "outputId": "5f747d50-417d-451c-d94f-570bfba98111"
      },
      "execution_count": 8,
      "outputs": [
        {
          "output_type": "stream",
          "name": "stdout",
          "text": [
            "Images size: 853 Annotations size: 853\n"
          ]
        }
      ]
    },
    {
      "cell_type": "code",
      "source": [
        "# Sorting the images to match images with their annotations\n",
        "\n",
        "img_paths, annot_path = sorted(glob(images_path+\"/*\")),sorted(glob(annotations_path+\"/*\"))"
      ],
      "metadata": {
        "id": "q8o-yv8znz6y"
      },
      "execution_count": 9,
      "outputs": []
    },
    {
      "cell_type": "code",
      "source": [
        "# Splitting the images into train and test sets\n",
        "\n",
        "train_X, test_X, train_y, test_y = train_test_split(img_paths, annot_path, test_size=0.12, random_state=13)"
      ],
      "metadata": {
        "id": "bHVI-dbSojf-"
      },
      "execution_count": 10,
      "outputs": []
    },
    {
      "cell_type": "code",
      "source": [
        "# Moving images to repsective paths\n",
        "\n",
        "from tqdm import tqdm\n",
        "\n",
        "# Training images\n",
        "for img,annot in tqdm(zip(train_X, train_y)):\n",
        "  shutil.move(img,\"/content/training_demo/images/train\")\n",
        "  shutil.move(annot, \"/content/training_demo/images/train\")\n",
        "\n",
        "# Testing images\n",
        "for img,annot in tqdm(zip(test_X,test_y)):\n",
        "  shutil.move(img, \"/content/training_demo/images/test\")\n",
        "  shutil.move(annot, \"/content/training_demo/images/test\")"
      ],
      "metadata": {
        "colab": {
          "base_uri": "https://localhost:8080/"
        },
        "id": "Vvxm0KUSptKj",
        "outputId": "703baecc-f08c-4526-b427-8f9deef9c19f"
      },
      "execution_count": 11,
      "outputs": [
        {
          "output_type": "stream",
          "name": "stderr",
          "text": [
            "750it [00:00, 13032.26it/s]\n",
            "103it [00:00, 13137.89it/s]\n"
          ]
        }
      ]
    },
    {
      "cell_type": "markdown",
      "source": [
        "Folder strucuture set up completed"
      ],
      "metadata": {
        "id": "gQSjGCWVsfwL"
      }
    },
    {
      "cell_type": "markdown",
      "source": [
        "Converting .xml files to .record files"
      ],
      "metadata": {
        "id": "vjDdaABduqzz"
      }
    },
    {
      "cell_type": "code",
      "source": [
        "pwd"
      ],
      "metadata": {
        "colab": {
          "base_uri": "https://localhost:8080/",
          "height": 37
        },
        "id": "l6nOfUZtvGtN",
        "outputId": "d51db7b9-6dd6-487e-c3bc-247a16736d7d"
      },
      "execution_count": 30,
      "outputs": [
        {
          "output_type": "execute_result",
          "data": {
            "text/plain": [
              "'/content/models/research'"
            ],
            "application/vnd.google.colaboratory.intrinsic+json": {
              "type": "string"
            }
          },
          "metadata": {},
          "execution_count": 30
        }
      ]
    },
    {
      "cell_type": "code",
      "source": [
        "cd /content/training_demo"
      ],
      "metadata": {
        "colab": {
          "base_uri": "https://localhost:8080/"
        },
        "id": "qu9tKOutvJ0u",
        "outputId": "80fe66d0-bd7b-4d25-d2a6-3d05d1fe816b"
      },
      "execution_count": 31,
      "outputs": [
        {
          "output_type": "stream",
          "name": "stdout",
          "text": [
            "/content/training_demo\n"
          ]
        }
      ]
    },
    {
      "cell_type": "code",
      "source": [
        "!python /content/generate_tfrecord.py -x /content/training_demo/images/train -l /content/training_demo/annotations/label_map.pbtxt -o /content/training_demo/annotations/train.record"
      ],
      "metadata": {
        "colab": {
          "base_uri": "https://localhost:8080/"
        },
        "id": "vznjqMV9qqYt",
        "outputId": "06883f39-767c-439d-dbd2-1f3c382d6348"
      },
      "execution_count": 32,
      "outputs": [
        {
          "output_type": "stream",
          "name": "stdout",
          "text": [
            "2022-11-15 18:07:57.918814: E tensorflow/stream_executor/cuda/cuda_blas.cc:2981] Unable to register cuBLAS factory: Attempting to register factory for plugin cuBLAS when one has already been registered\n",
            "Successfully created the TFRecord file: /content/training_demo/annotations/train.record\n"
          ]
        }
      ]
    },
    {
      "cell_type": "code",
      "source": [
        "!python /content/generate_tfrecord.py -x /content/training_demo/images/test -l /content/training_demo/annotations/label_map.pbtxt -o /content/training_demo/annotations/test.record"
      ],
      "metadata": {
        "colab": {
          "base_uri": "https://localhost:8080/"
        },
        "id": "MX8c5w45uuuT",
        "outputId": "052c857a-f203-464c-9c4d-1f782fe1d209"
      },
      "execution_count": 33,
      "outputs": [
        {
          "output_type": "stream",
          "name": "stdout",
          "text": [
            "2022-11-15 18:08:05.272620: E tensorflow/stream_executor/cuda/cuda_blas.cc:2981] Unable to register cuBLAS factory: Attempting to register factory for plugin cuBLAS when one has already been registered\n",
            "Successfully created the TFRecord file: /content/training_demo/annotations/test.record\n"
          ]
        }
      ]
    },
    {
      "cell_type": "markdown",
      "source": [
        "Downloading and loading the pre-trained model"
      ],
      "metadata": {
        "id": "cUAW2fx5v-Kj"
      }
    },
    {
      "cell_type": "code",
      "source": [
        "cd /content/training_demo/pre-trained models"
      ],
      "metadata": {
        "colab": {
          "base_uri": "https://localhost:8080/"
        },
        "id": "ZErC60oowRQ3",
        "outputId": "7406787d-fa13-4350-b98e-fc20a4d97d6b"
      },
      "execution_count": 34,
      "outputs": [
        {
          "output_type": "stream",
          "name": "stdout",
          "text": [
            "/content/training_demo/pre-trained models\n"
          ]
        }
      ]
    },
    {
      "cell_type": "code",
      "source": [
        "# Downloadin the Resnetv101 model\n",
        "\n",
        "!wget http://download.tensorflow.org/models/object_detection/tf2/20200711/ssd_resnet101_v1_fpn_1024x1024_coco17_tpu-8.tar.gz"
      ],
      "metadata": {
        "colab": {
          "base_uri": "https://localhost:8080/"
        },
        "id": "UoxECnN8vNXE",
        "outputId": "d652335c-1eb2-41e5-80f3-ec2ed295143d"
      },
      "execution_count": 35,
      "outputs": [
        {
          "output_type": "stream",
          "name": "stdout",
          "text": [
            "--2022-11-15 18:08:10--  http://download.tensorflow.org/models/object_detection/tf2/20200711/ssd_resnet101_v1_fpn_1024x1024_coco17_tpu-8.tar.gz\n",
            "Resolving download.tensorflow.org (download.tensorflow.org)... 142.251.12.128, 2404:6800:4003:c11::80\n",
            "Connecting to download.tensorflow.org (download.tensorflow.org)|142.251.12.128|:80... connected.\n",
            "HTTP request sent, awaiting response... 200 OK\n",
            "Length: 386640082 (369M) [application/x-tar]\n",
            "Saving to: ‘ssd_resnet101_v1_fpn_1024x1024_coco17_tpu-8.tar.gz’\n",
            "\n",
            "ssd_resnet101_v1_fp 100%[===================>] 368.73M  50.3MB/s    in 7.3s    \n",
            "\n",
            "2022-11-15 18:08:19 (50.3 MB/s) - ‘ssd_resnet101_v1_fpn_1024x1024_coco17_tpu-8.tar.gz’ saved [386640082/386640082]\n",
            "\n"
          ]
        }
      ]
    },
    {
      "cell_type": "code",
      "source": [
        "# Extracting the tar file \n",
        "\n",
        "!tar -xvf ssd_resnet101_v1_fpn_1024x1024_coco17_tpu-8.tar.gz"
      ],
      "metadata": {
        "colab": {
          "base_uri": "https://localhost:8080/"
        },
        "id": "mWizFigkwV2Y",
        "outputId": "f6418058-4c89-49ad-cc6c-b6f74955e0e1"
      },
      "execution_count": 36,
      "outputs": [
        {
          "output_type": "stream",
          "name": "stdout",
          "text": [
            "ssd_resnet101_v1_fpn_1024x1024_coco17_tpu-8/\n",
            "ssd_resnet101_v1_fpn_1024x1024_coco17_tpu-8/checkpoint/\n",
            "ssd_resnet101_v1_fpn_1024x1024_coco17_tpu-8/checkpoint/ckpt-0.data-00000-of-00001\n",
            "ssd_resnet101_v1_fpn_1024x1024_coco17_tpu-8/checkpoint/checkpoint\n",
            "ssd_resnet101_v1_fpn_1024x1024_coco17_tpu-8/checkpoint/ckpt-0.index\n",
            "ssd_resnet101_v1_fpn_1024x1024_coco17_tpu-8/pipeline.config\n",
            "ssd_resnet101_v1_fpn_1024x1024_coco17_tpu-8/saved_model/\n",
            "ssd_resnet101_v1_fpn_1024x1024_coco17_tpu-8/saved_model/saved_model.pb\n",
            "ssd_resnet101_v1_fpn_1024x1024_coco17_tpu-8/saved_model/assets/\n",
            "ssd_resnet101_v1_fpn_1024x1024_coco17_tpu-8/saved_model/variables/\n",
            "ssd_resnet101_v1_fpn_1024x1024_coco17_tpu-8/saved_model/variables/variables.data-00000-of-00001\n",
            "ssd_resnet101_v1_fpn_1024x1024_coco17_tpu-8/saved_model/variables/variables.index\n"
          ]
        }
      ]
    },
    {
      "cell_type": "markdown",
      "source": [
        "Tensorboard for visualzing training"
      ],
      "metadata": {
        "id": "eDHuJ-pCzgOX"
      }
    },
    {
      "cell_type": "code",
      "source": [
        "!tensorboard --logdir=models/my_ssd_resnet50_v1_fpn"
      ],
      "metadata": {
        "colab": {
          "base_uri": "https://localhost:8080/"
        },
        "id": "okT7Xp2ux3RB",
        "outputId": "a1ef8de2-59f5-4717-c7e7-980b91e7e0c5"
      },
      "execution_count": null,
      "outputs": [
        {
          "output_type": "stream",
          "name": "stdout",
          "text": [
            "2022-11-13 21:02:37.590761: E tensorflow/stream_executor/cuda/cuda_blas.cc:2981] Unable to register cuBLAS factory: Attempting to register factory for plugin cuBLAS when one has already been registered\n",
            "2022-11-13 21:02:38.207881: W tensorflow/stream_executor/platform/default/dso_loader.cc:64] Could not load dynamic library 'libnvinfer.so.7'; dlerror: libnvinfer.so.7: cannot open shared object file: No such file or directory; LD_LIBRARY_PATH: /usr/lib64-nvidia\n",
            "2022-11-13 21:02:38.207983: W tensorflow/stream_executor/platform/default/dso_loader.cc:64] Could not load dynamic library 'libnvinfer_plugin.so.7'; dlerror: libnvinfer_plugin.so.7: cannot open shared object file: No such file or directory; LD_LIBRARY_PATH: /usr/lib64-nvidia\n",
            "2022-11-13 21:02:38.208001: W tensorflow/compiler/tf2tensorrt/utils/py_utils.cc:38] TF-TRT Warning: Cannot dlopen some TensorRT libraries. If you would like to use Nvidia GPU with TensorRT, please make sure the missing libraries mentioned above are installed properly.\n",
            "\n",
            "NOTE: Using experimental fast data loading logic. To disable, pass\n",
            "    \"--load_fast=false\" and report issues on GitHub. More details:\n",
            "    https://github.com/tensorflow/tensorboard/issues/4784\n",
            "\n",
            "Serving TensorBoard on localhost; to expose to the network, use a proxy or pass --bind_all\n",
            "TensorBoard 2.10.1 at http://localhost:6006/ (Press CTRL+C to quit)\n",
            "^C\n"
          ]
        }
      ]
    },
    {
      "cell_type": "markdown",
      "source": [
        "Training the model"
      ],
      "metadata": {
        "id": "uty-p5Z3zjaL"
      }
    },
    {
      "cell_type": "code",
      "source": [
        "pwd"
      ],
      "metadata": {
        "colab": {
          "base_uri": "https://localhost:8080/",
          "height": 37
        },
        "id": "3ZTdMY7yzxgK",
        "outputId": "e58706cc-852f-40bb-c734-41afcf9b0fc0"
      },
      "execution_count": 37,
      "outputs": [
        {
          "output_type": "execute_result",
          "data": {
            "text/plain": [
              "'/content/training_demo/pre-trained models'"
            ],
            "application/vnd.google.colaboratory.intrinsic+json": {
              "type": "string"
            }
          },
          "metadata": {},
          "execution_count": 37
        }
      ]
    },
    {
      "cell_type": "code",
      "source": [
        "cd /content/training_demo"
      ],
      "metadata": {
        "colab": {
          "base_uri": "https://localhost:8080/"
        },
        "id": "VCOCymvazzR7",
        "outputId": "daebe1f0-d2ac-48cd-9ce5-481425132627"
      },
      "execution_count": 38,
      "outputs": [
        {
          "output_type": "stream",
          "name": "stdout",
          "text": [
            "/content/training_demo\n"
          ]
        }
      ]
    },
    {
      "cell_type": "markdown",
      "source": [
        "Executing the Model"
      ],
      "metadata": {
        "id": "Areb4yumd-I8"
      }
    },
    {
      "cell_type": "code",
      "source": [
        "!python /content/model_main_tf2.py --model_dir=/content/training_demo/model/my_ssd --pipeline_config_path=/content/training_demo/model/my_ssd/pipeline.config"
      ],
      "metadata": {
        "colab": {
          "base_uri": "https://localhost:8080/"
        },
        "id": "z01wW-cJzuTN",
        "outputId": "2804a79b-4b02-4435-af25-140ab58a5542"
      },
      "execution_count": 41,
      "outputs": [
        {
          "output_type": "stream",
          "name": "stdout",
          "text": [
            "2022-11-15 18:11:13.915596: E tensorflow/stream_executor/cuda/cuda_blas.cc:2981] Unable to register cuBLAS factory: Attempting to register factory for plugin cuBLAS when one has already been registered\n",
            "2022-11-15 18:11:14.674283: W tensorflow/stream_executor/platform/default/dso_loader.cc:64] Could not load dynamic library 'libnvinfer.so.7'; dlerror: libnvinfer.so.7: cannot open shared object file: No such file or directory; LD_LIBRARY_PATH: /usr/lib64-nvidia\n",
            "2022-11-15 18:11:14.674393: W tensorflow/stream_executor/platform/default/dso_loader.cc:64] Could not load dynamic library 'libnvinfer_plugin.so.7'; dlerror: libnvinfer_plugin.so.7: cannot open shared object file: No such file or directory; LD_LIBRARY_PATH: /usr/lib64-nvidia\n",
            "2022-11-15 18:11:14.674412: W tensorflow/compiler/tf2tensorrt/utils/py_utils.cc:38] TF-TRT Warning: Cannot dlopen some TensorRT libraries. If you would like to use Nvidia GPU with TensorRT, please make sure the missing libraries mentioned above are installed properly.\n",
            "2022-11-15 18:11:17.783786: W tensorflow/core/common_runtime/gpu/gpu_bfc_allocator.cc:42] Overriding orig_value setting because the TF_FORCE_GPU_ALLOW_GROWTH environment variable is set. Original config value was 0.\n",
            "INFO:tensorflow:Using MirroredStrategy with devices ('/job:localhost/replica:0/task:0/device:GPU:0',)\n",
            "I1115 18:11:17.800676 140703071520640 mirrored_strategy.py:374] Using MirroredStrategy with devices ('/job:localhost/replica:0/task:0/device:GPU:0',)\n",
            "INFO:tensorflow:Maybe overwriting train_steps: None\n",
            "I1115 18:11:17.806627 140703071520640 config_util.py:552] Maybe overwriting train_steps: None\n",
            "INFO:tensorflow:Maybe overwriting use_bfloat16: False\n",
            "I1115 18:11:17.806811 140703071520640 config_util.py:552] Maybe overwriting use_bfloat16: False\n",
            "WARNING:tensorflow:From /usr/local/lib/python3.7/dist-packages/object_detection/model_lib_v2.py:564: StrategyBase.experimental_distribute_datasets_from_function (from tensorflow.python.distribute.distribute_lib) is deprecated and will be removed in a future version.\n",
            "Instructions for updating:\n",
            "rename to distribute_datasets_from_function\n",
            "W1115 18:11:17.833236 140703071520640 deprecation.py:356] From /usr/local/lib/python3.7/dist-packages/object_detection/model_lib_v2.py:564: StrategyBase.experimental_distribute_datasets_from_function (from tensorflow.python.distribute.distribute_lib) is deprecated and will be removed in a future version.\n",
            "Instructions for updating:\n",
            "rename to distribute_datasets_from_function\n",
            "INFO:tensorflow:Reading unweighted datasets: ['/content/training_demo/annotations/train.record']\n",
            "I1115 18:11:17.840492 140703071520640 dataset_builder.py:162] Reading unweighted datasets: ['/content/training_demo/annotations/train.record']\n",
            "INFO:tensorflow:Reading record datasets for input file: ['/content/training_demo/annotations/train.record']\n",
            "I1115 18:11:17.840700 140703071520640 dataset_builder.py:79] Reading record datasets for input file: ['/content/training_demo/annotations/train.record']\n",
            "INFO:tensorflow:Number of filenames to read: 1\n",
            "I1115 18:11:17.840805 140703071520640 dataset_builder.py:80] Number of filenames to read: 1\n",
            "WARNING:tensorflow:num_readers has been reduced to 1 to match input file shards.\n",
            "W1115 18:11:17.840890 140703071520640 dataset_builder.py:87] num_readers has been reduced to 1 to match input file shards.\n",
            "WARNING:tensorflow:From /usr/local/lib/python3.7/dist-packages/object_detection/builders/dataset_builder.py:104: parallel_interleave (from tensorflow.python.data.experimental.ops.interleave_ops) is deprecated and will be removed in a future version.\n",
            "Instructions for updating:\n",
            "Use `tf.data.Dataset.interleave(map_func, cycle_length, block_length, num_parallel_calls=tf.data.AUTOTUNE)` instead. If sloppy execution is desired, use `tf.data.Options.deterministic`.\n",
            "W1115 18:11:17.846948 140703071520640 deprecation.py:356] From /usr/local/lib/python3.7/dist-packages/object_detection/builders/dataset_builder.py:104: parallel_interleave (from tensorflow.python.data.experimental.ops.interleave_ops) is deprecated and will be removed in a future version.\n",
            "Instructions for updating:\n",
            "Use `tf.data.Dataset.interleave(map_func, cycle_length, block_length, num_parallel_calls=tf.data.AUTOTUNE)` instead. If sloppy execution is desired, use `tf.data.Options.deterministic`.\n",
            "WARNING:tensorflow:From /usr/local/lib/python3.7/dist-packages/object_detection/builders/dataset_builder.py:236: DatasetV1.map_with_legacy_function (from tensorflow.python.data.ops.dataset_ops) is deprecated and will be removed in a future version.\n",
            "Instructions for updating:\n",
            "Use `tf.data.Dataset.map()\n",
            "W1115 18:11:17.863223 140703071520640 deprecation.py:356] From /usr/local/lib/python3.7/dist-packages/object_detection/builders/dataset_builder.py:236: DatasetV1.map_with_legacy_function (from tensorflow.python.data.ops.dataset_ops) is deprecated and will be removed in a future version.\n",
            "Instructions for updating:\n",
            "Use `tf.data.Dataset.map()\n",
            "WARNING:tensorflow:From /usr/local/lib/python3.7/dist-packages/tensorflow/python/util/dispatch.py:1176: sparse_to_dense (from tensorflow.python.ops.sparse_ops) is deprecated and will be removed in a future version.\n",
            "Instructions for updating:\n",
            "Create a `tf.sparse.SparseTensor` and use `tf.sparse.to_dense` instead.\n",
            "W1115 18:11:24.562105 140703071520640 deprecation.py:356] From /usr/local/lib/python3.7/dist-packages/tensorflow/python/util/dispatch.py:1176: sparse_to_dense (from tensorflow.python.ops.sparse_ops) is deprecated and will be removed in a future version.\n",
            "Instructions for updating:\n",
            "Create a `tf.sparse.SparseTensor` and use `tf.sparse.to_dense` instead.\n",
            "WARNING:tensorflow:From /usr/local/lib/python3.7/dist-packages/tensorflow/python/util/dispatch.py:1176: sample_distorted_bounding_box (from tensorflow.python.ops.image_ops_impl) is deprecated and will be removed in a future version.\n",
            "Instructions for updating:\n",
            "`seed2` arg is deprecated.Use sample_distorted_bounding_box_v2 instead.\n",
            "W1115 18:11:27.339676 140703071520640 deprecation.py:356] From /usr/local/lib/python3.7/dist-packages/tensorflow/python/util/dispatch.py:1176: sample_distorted_bounding_box (from tensorflow.python.ops.image_ops_impl) is deprecated and will be removed in a future version.\n",
            "Instructions for updating:\n",
            "`seed2` arg is deprecated.Use sample_distorted_bounding_box_v2 instead.\n",
            "WARNING:tensorflow:From /usr/local/lib/python3.7/dist-packages/tensorflow/python/util/dispatch.py:1176: to_float (from tensorflow.python.ops.math_ops) is deprecated and will be removed in a future version.\n",
            "Instructions for updating:\n",
            "Use `tf.cast` instead.\n",
            "W1115 18:11:28.948955 140703071520640 deprecation.py:356] From /usr/local/lib/python3.7/dist-packages/tensorflow/python/util/dispatch.py:1176: to_float (from tensorflow.python.ops.math_ops) is deprecated and will be removed in a future version.\n",
            "Instructions for updating:\n",
            "Use `tf.cast` instead.\n",
            "/usr/local/lib/python3.7/dist-packages/keras/backend.py:452: UserWarning: `tf.keras.backend.set_learning_phase` is deprecated and will be removed after 2020-10-11. To update it, simply pass a True/False value to the `training` argument of the `__call__` method of your layer or model.\n",
            "  \"`tf.keras.backend.set_learning_phase` is deprecated and \"\n",
            "2022-11-15 18:11:56.176931: W tensorflow/core/framework/cpu_allocator_impl.cc:82] Allocation of 52377600 exceeds 10% of free system memory.\n",
            "2022-11-15 18:11:56.225417: W tensorflow/core/framework/cpu_allocator_impl.cc:82] Allocation of 52377600 exceeds 10% of free system memory.\n",
            "2022-11-15 18:11:56.293343: W tensorflow/core/framework/cpu_allocator_impl.cc:82] Allocation of 52377600 exceeds 10% of free system memory.\n",
            "2022-11-15 18:11:56.331789: W tensorflow/core/framework/cpu_allocator_impl.cc:82] Allocation of 52377600 exceeds 10% of free system memory.\n",
            "INFO:tensorflow:Reduce to /job:localhost/replica:0/task:0/device:CPU:0 then broadcast to ('/job:localhost/replica:0/task:0/device:CPU:0',).\n",
            "I1115 18:12:08.119409 140703071520640 cross_device_ops.py:618] Reduce to /job:localhost/replica:0/task:0/device:CPU:0 then broadcast to ('/job:localhost/replica:0/task:0/device:CPU:0',).\n",
            "INFO:tensorflow:Reduce to /job:localhost/replica:0/task:0/device:CPU:0 then broadcast to ('/job:localhost/replica:0/task:0/device:CPU:0',).\n",
            "I1115 18:12:08.122380 140703071520640 cross_device_ops.py:618] Reduce to /job:localhost/replica:0/task:0/device:CPU:0 then broadcast to ('/job:localhost/replica:0/task:0/device:CPU:0',).\n",
            "INFO:tensorflow:Reduce to /job:localhost/replica:0/task:0/device:CPU:0 then broadcast to ('/job:localhost/replica:0/task:0/device:CPU:0',).\n",
            "I1115 18:12:08.125082 140703071520640 cross_device_ops.py:618] Reduce to /job:localhost/replica:0/task:0/device:CPU:0 then broadcast to ('/job:localhost/replica:0/task:0/device:CPU:0',).\n",
            "INFO:tensorflow:Reduce to /job:localhost/replica:0/task:0/device:CPU:0 then broadcast to ('/job:localhost/replica:0/task:0/device:CPU:0',).\n",
            "I1115 18:12:08.126270 140703071520640 cross_device_ops.py:618] Reduce to /job:localhost/replica:0/task:0/device:CPU:0 then broadcast to ('/job:localhost/replica:0/task:0/device:CPU:0',).\n",
            "INFO:tensorflow:Reduce to /job:localhost/replica:0/task:0/device:CPU:0 then broadcast to ('/job:localhost/replica:0/task:0/device:CPU:0',).\n",
            "I1115 18:12:08.129077 140703071520640 cross_device_ops.py:618] Reduce to /job:localhost/replica:0/task:0/device:CPU:0 then broadcast to ('/job:localhost/replica:0/task:0/device:CPU:0',).\n",
            "INFO:tensorflow:Reduce to /job:localhost/replica:0/task:0/device:CPU:0 then broadcast to ('/job:localhost/replica:0/task:0/device:CPU:0',).\n",
            "I1115 18:12:08.130114 140703071520640 cross_device_ops.py:618] Reduce to /job:localhost/replica:0/task:0/device:CPU:0 then broadcast to ('/job:localhost/replica:0/task:0/device:CPU:0',).\n",
            "INFO:tensorflow:Reduce to /job:localhost/replica:0/task:0/device:CPU:0 then broadcast to ('/job:localhost/replica:0/task:0/device:CPU:0',).\n",
            "I1115 18:12:08.133896 140703071520640 cross_device_ops.py:618] Reduce to /job:localhost/replica:0/task:0/device:CPU:0 then broadcast to ('/job:localhost/replica:0/task:0/device:CPU:0',).\n",
            "INFO:tensorflow:Reduce to /job:localhost/replica:0/task:0/device:CPU:0 then broadcast to ('/job:localhost/replica:0/task:0/device:CPU:0',).\n",
            "I1115 18:12:08.135057 140703071520640 cross_device_ops.py:618] Reduce to /job:localhost/replica:0/task:0/device:CPU:0 then broadcast to ('/job:localhost/replica:0/task:0/device:CPU:0',).\n",
            "INFO:tensorflow:Reduce to /job:localhost/replica:0/task:0/device:CPU:0 then broadcast to ('/job:localhost/replica:0/task:0/device:CPU:0',).\n",
            "I1115 18:12:08.136829 140703071520640 cross_device_ops.py:618] Reduce to /job:localhost/replica:0/task:0/device:CPU:0 then broadcast to ('/job:localhost/replica:0/task:0/device:CPU:0',).\n",
            "INFO:tensorflow:Reduce to /job:localhost/replica:0/task:0/device:CPU:0 then broadcast to ('/job:localhost/replica:0/task:0/device:CPU:0',).\n",
            "I1115 18:12:08.137890 140703071520640 cross_device_ops.py:618] Reduce to /job:localhost/replica:0/task:0/device:CPU:0 then broadcast to ('/job:localhost/replica:0/task:0/device:CPU:0',).\n",
            "WARNING:tensorflow:From /usr/local/lib/python3.7/dist-packages/tensorflow/python/util/deprecation.py:629: calling map_fn_v2 (from tensorflow.python.ops.map_fn) with dtype is deprecated and will be removed in a future version.\n",
            "Instructions for updating:\n",
            "Use fn_output_signature instead\n",
            "W1115 18:12:10.202655 140698623911680 deprecation.py:560] From /usr/local/lib/python3.7/dist-packages/tensorflow/python/util/deprecation.py:629: calling map_fn_v2 (from tensorflow.python.ops.map_fn) with dtype is deprecated and will be removed in a future version.\n",
            "Instructions for updating:\n",
            "Use fn_output_signature instead\n",
            "2022-11-15 18:12:57.538431: W tensorflow/core/framework/cpu_allocator_impl.cc:82] Allocation of 52377600 exceeds 10% of free system memory.\n",
            "INFO:tensorflow:Step 100 per-step time 1.501s\n",
            "I1115 18:14:39.985300 140703071520640 model_lib_v2.py:707] Step 100 per-step time 1.501s\n",
            "INFO:tensorflow:{'Loss/classification_loss': 2.462252,\n",
            " 'Loss/localization_loss': 0.7058359,\n",
            " 'Loss/regularization_loss': 5.453634,\n",
            " 'Loss/total_loss': 8.621722,\n",
            " 'learning_rate': 0.014666351}\n",
            "I1115 18:14:39.985945 140703071520640 model_lib_v2.py:708] {'Loss/classification_loss': 2.462252,\n",
            " 'Loss/localization_loss': 0.7058359,\n",
            " 'Loss/regularization_loss': 5.453634,\n",
            " 'Loss/total_loss': 8.621722,\n",
            " 'learning_rate': 0.014666351}\n",
            "INFO:tensorflow:Step 200 per-step time 0.973s\n",
            "I1115 18:16:17.246696 140703071520640 model_lib_v2.py:707] Step 200 per-step time 0.973s\n",
            "INFO:tensorflow:{'Loss/classification_loss': 2.6354272,\n",
            " 'Loss/localization_loss': 0.48878247,\n",
            " 'Loss/regularization_loss': 5.4539814,\n",
            " 'Loss/total_loss': 8.578192,\n",
            " 'learning_rate': 0.0159997}\n",
            "I1115 18:16:17.247082 140703071520640 model_lib_v2.py:708] {'Loss/classification_loss': 2.6354272,\n",
            " 'Loss/localization_loss': 0.48878247,\n",
            " 'Loss/regularization_loss': 5.4539814,\n",
            " 'Loss/total_loss': 8.578192,\n",
            " 'learning_rate': 0.0159997}\n",
            "2022-11-15 18:17:34.651070: W tensorflow/core/lib/png/png_io.cc:88] PNG warning: iCCP: Not recognizing known sRGB profile that has been edited\n",
            "INFO:tensorflow:Step 300 per-step time 0.967s\n",
            "I1115 18:17:53.975303 140703071520640 model_lib_v2.py:707] Step 300 per-step time 0.967s\n",
            "INFO:tensorflow:{'Loss/classification_loss': 0.87099457,\n",
            " 'Loss/localization_loss': 0.6693335,\n",
            " 'Loss/regularization_loss': 5.3947678,\n",
            " 'Loss/total_loss': 6.935096,\n",
            " 'learning_rate': 0.01733305}\n",
            "I1115 18:17:53.975622 140703071520640 model_lib_v2.py:708] {'Loss/classification_loss': 0.87099457,\n",
            " 'Loss/localization_loss': 0.6693335,\n",
            " 'Loss/regularization_loss': 5.3947678,\n",
            " 'Loss/total_loss': 6.935096,\n",
            " 'learning_rate': 0.01733305}\n",
            "INFO:tensorflow:Step 400 per-step time 0.971s\n",
            "I1115 18:19:31.089530 140703071520640 model_lib_v2.py:707] Step 400 per-step time 0.971s\n",
            "INFO:tensorflow:{'Loss/classification_loss': 1.1243628,\n",
            " 'Loss/localization_loss': 0.59362787,\n",
            " 'Loss/regularization_loss': 5.321308,\n",
            " 'Loss/total_loss': 7.039299,\n",
            " 'learning_rate': 0.0186664}\n",
            "I1115 18:19:31.089894 140703071520640 model_lib_v2.py:708] {'Loss/classification_loss': 1.1243628,\n",
            " 'Loss/localization_loss': 0.59362787,\n",
            " 'Loss/regularization_loss': 5.321308,\n",
            " 'Loss/total_loss': 7.039299,\n",
            " 'learning_rate': 0.0186664}\n",
            "INFO:tensorflow:Step 500 per-step time 0.970s\n",
            "I1115 18:21:08.088993 140703071520640 model_lib_v2.py:707] Step 500 per-step time 0.970s\n",
            "INFO:tensorflow:{'Loss/classification_loss': 0.7687255,\n",
            " 'Loss/localization_loss': 0.5522455,\n",
            " 'Loss/regularization_loss': 5.243511,\n",
            " 'Loss/total_loss': 6.564482,\n",
            " 'learning_rate': 0.01999975}\n",
            "I1115 18:21:08.089423 140703071520640 model_lib_v2.py:708] {'Loss/classification_loss': 0.7687255,\n",
            " 'Loss/localization_loss': 0.5522455,\n",
            " 'Loss/regularization_loss': 5.243511,\n",
            " 'Loss/total_loss': 6.564482,\n",
            " 'learning_rate': 0.01999975}\n",
            "2022-11-15 18:22:40.357311: W tensorflow/core/lib/png/png_io.cc:88] PNG warning: iCCP: Not recognizing known sRGB profile that has been edited\n",
            "INFO:tensorflow:Step 600 per-step time 0.971s\n",
            "I1115 18:22:45.194369 140703071520640 model_lib_v2.py:707] Step 600 per-step time 0.971s\n",
            "INFO:tensorflow:{'Loss/classification_loss': 0.5397159,\n",
            " 'Loss/localization_loss': 0.5603718,\n",
            " 'Loss/regularization_loss': 5.1612334,\n",
            " 'Loss/total_loss': 6.261321,\n",
            " 'learning_rate': 0.0213331}\n",
            "I1115 18:22:45.194883 140703071520640 model_lib_v2.py:708] {'Loss/classification_loss': 0.5397159,\n",
            " 'Loss/localization_loss': 0.5603718,\n",
            " 'Loss/regularization_loss': 5.1612334,\n",
            " 'Loss/total_loss': 6.261321,\n",
            " 'learning_rate': 0.0213331}\n",
            "INFO:tensorflow:Step 700 per-step time 0.970s\n",
            "I1115 18:24:22.219614 140703071520640 model_lib_v2.py:707] Step 700 per-step time 0.970s\n",
            "INFO:tensorflow:{'Loss/classification_loss': 0.68845713,\n",
            " 'Loss/localization_loss': 0.49457863,\n",
            " 'Loss/regularization_loss': 5.072393,\n",
            " 'Loss/total_loss': 6.255429,\n",
            " 'learning_rate': 0.02266645}\n",
            "I1115 18:24:22.219952 140703071520640 model_lib_v2.py:708] {'Loss/classification_loss': 0.68845713,\n",
            " 'Loss/localization_loss': 0.49457863,\n",
            " 'Loss/regularization_loss': 5.072393,\n",
            " 'Loss/total_loss': 6.255429,\n",
            " 'learning_rate': 0.02266645}\n",
            "INFO:tensorflow:Step 800 per-step time 0.969s\n",
            "I1115 18:25:59.099340 140703071520640 model_lib_v2.py:707] Step 800 per-step time 0.969s\n",
            "INFO:tensorflow:{'Loss/classification_loss': 0.9331379,\n",
            " 'Loss/localization_loss': 0.6834321,\n",
            " 'Loss/regularization_loss': 4.9803796,\n",
            " 'Loss/total_loss': 6.5969496,\n",
            " 'learning_rate': 0.023999799}\n",
            "I1115 18:25:59.099663 140703071520640 model_lib_v2.py:708] {'Loss/classification_loss': 0.9331379,\n",
            " 'Loss/localization_loss': 0.6834321,\n",
            " 'Loss/regularization_loss': 4.9803796,\n",
            " 'Loss/total_loss': 6.5969496,\n",
            " 'learning_rate': 0.023999799}\n",
            "INFO:tensorflow:Step 900 per-step time 0.969s\n",
            "I1115 18:27:36.038253 140703071520640 model_lib_v2.py:707] Step 900 per-step time 0.969s\n",
            "INFO:tensorflow:{'Loss/classification_loss': 0.6648562,\n",
            " 'Loss/localization_loss': 0.64277405,\n",
            " 'Loss/regularization_loss': 4.8847256,\n",
            " 'Loss/total_loss': 6.1923556,\n",
            " 'learning_rate': 0.025333151}\n",
            "I1115 18:27:36.038565 140703071520640 model_lib_v2.py:708] {'Loss/classification_loss': 0.6648562,\n",
            " 'Loss/localization_loss': 0.64277405,\n",
            " 'Loss/regularization_loss': 4.8847256,\n",
            " 'Loss/total_loss': 6.1923556,\n",
            " 'learning_rate': 0.025333151}\n",
            "INFO:tensorflow:Step 1000 per-step time 0.969s\n",
            "I1115 18:29:12.943969 140703071520640 model_lib_v2.py:707] Step 1000 per-step time 0.969s\n",
            "INFO:tensorflow:{'Loss/classification_loss': 0.95396495,\n",
            " 'Loss/localization_loss': 0.4491527,\n",
            " 'Loss/regularization_loss': 4.7860403,\n",
            " 'Loss/total_loss': 6.1891584,\n",
            " 'learning_rate': 0.0266665}\n",
            "I1115 18:29:12.944303 140703071520640 model_lib_v2.py:708] {'Loss/classification_loss': 0.95396495,\n",
            " 'Loss/localization_loss': 0.4491527,\n",
            " 'Loss/regularization_loss': 4.7860403,\n",
            " 'Loss/total_loss': 6.1891584,\n",
            " 'learning_rate': 0.0266665}\n",
            "2022-11-15 18:30:36.050992: W tensorflow/core/lib/png/png_io.cc:88] PNG warning: iCCP: Not recognizing known sRGB profile that has been edited\n",
            "INFO:tensorflow:Step 1100 per-step time 1.005s\n",
            "I1115 18:30:53.435569 140703071520640 model_lib_v2.py:707] Step 1100 per-step time 1.005s\n",
            "INFO:tensorflow:{'Loss/classification_loss': 0.83744615,\n",
            " 'Loss/localization_loss': 0.48385802,\n",
            " 'Loss/regularization_loss': 4.684399,\n",
            " 'Loss/total_loss': 6.0057034,\n",
            " 'learning_rate': 0.02799985}\n",
            "I1115 18:30:53.435922 140703071520640 model_lib_v2.py:708] {'Loss/classification_loss': 0.83744615,\n",
            " 'Loss/localization_loss': 0.48385802,\n",
            " 'Loss/regularization_loss': 4.684399,\n",
            " 'Loss/total_loss': 6.0057034,\n",
            " 'learning_rate': 0.02799985}\n",
            "INFO:tensorflow:Step 1200 per-step time 0.970s\n",
            "I1115 18:32:30.400701 140703071520640 model_lib_v2.py:707] Step 1200 per-step time 0.970s\n",
            "INFO:tensorflow:{'Loss/classification_loss': 0.69190806,\n",
            " 'Loss/localization_loss': 0.345887,\n",
            " 'Loss/regularization_loss': 4.580369,\n",
            " 'Loss/total_loss': 5.618164,\n",
            " 'learning_rate': 0.0293332}\n",
            "I1115 18:32:30.401047 140703071520640 model_lib_v2.py:708] {'Loss/classification_loss': 0.69190806,\n",
            " 'Loss/localization_loss': 0.345887,\n",
            " 'Loss/regularization_loss': 4.580369,\n",
            " 'Loss/total_loss': 5.618164,\n",
            " 'learning_rate': 0.0293332}\n",
            "INFO:tensorflow:Step 1300 per-step time 0.971s\n",
            "I1115 18:34:07.541108 140703071520640 model_lib_v2.py:707] Step 1300 per-step time 0.971s\n",
            "INFO:tensorflow:{'Loss/classification_loss': 0.6430871,\n",
            " 'Loss/localization_loss': 0.46272427,\n",
            " 'Loss/regularization_loss': 4.475096,\n",
            " 'Loss/total_loss': 5.5809073,\n",
            " 'learning_rate': 0.03066655}\n",
            "I1115 18:34:07.541418 140703071520640 model_lib_v2.py:708] {'Loss/classification_loss': 0.6430871,\n",
            " 'Loss/localization_loss': 0.46272427,\n",
            " 'Loss/regularization_loss': 4.475096,\n",
            " 'Loss/total_loss': 5.5809073,\n",
            " 'learning_rate': 0.03066655}\n",
            "INFO:tensorflow:Step 1400 per-step time 0.975s\n",
            "I1115 18:35:45.038811 140703071520640 model_lib_v2.py:707] Step 1400 per-step time 0.975s\n",
            "INFO:tensorflow:{'Loss/classification_loss': 1.0069213,\n",
            " 'Loss/localization_loss': 0.6636074,\n",
            " 'Loss/regularization_loss': 4.380165,\n",
            " 'Loss/total_loss': 6.050694,\n",
            " 'learning_rate': 0.0319999}\n",
            "I1115 18:35:45.039128 140703071520640 model_lib_v2.py:708] {'Loss/classification_loss': 1.0069213,\n",
            " 'Loss/localization_loss': 0.6636074,\n",
            " 'Loss/regularization_loss': 4.380165,\n",
            " 'Loss/total_loss': 6.050694,\n",
            " 'learning_rate': 0.0319999}\n",
            "INFO:tensorflow:Step 1500 per-step time 0.972s\n",
            "I1115 18:37:22.257794 140703071520640 model_lib_v2.py:707] Step 1500 per-step time 0.972s\n",
            "INFO:tensorflow:{'Loss/classification_loss': 0.561391,\n",
            " 'Loss/localization_loss': 0.5997746,\n",
            " 'Loss/regularization_loss': 4.270804,\n",
            " 'Loss/total_loss': 5.4319696,\n",
            " 'learning_rate': 0.03333325}\n",
            "I1115 18:37:22.258122 140703071520640 model_lib_v2.py:708] {'Loss/classification_loss': 0.561391,\n",
            " 'Loss/localization_loss': 0.5997746,\n",
            " 'Loss/regularization_loss': 4.270804,\n",
            " 'Loss/total_loss': 5.4319696,\n",
            " 'learning_rate': 0.03333325}\n",
            "INFO:tensorflow:Step 1600 per-step time 0.972s\n",
            "I1115 18:38:59.421557 140703071520640 model_lib_v2.py:707] Step 1600 per-step time 0.972s\n",
            "INFO:tensorflow:{'Loss/classification_loss': 0.6953179,\n",
            " 'Loss/localization_loss': 0.4408524,\n",
            " 'Loss/regularization_loss': 4.1608534,\n",
            " 'Loss/total_loss': 5.297024,\n",
            " 'learning_rate': 0.034666598}\n",
            "I1115 18:38:59.421887 140703071520640 model_lib_v2.py:708] {'Loss/classification_loss': 0.6953179,\n",
            " 'Loss/localization_loss': 0.4408524,\n",
            " 'Loss/regularization_loss': 4.1608534,\n",
            " 'Loss/total_loss': 5.297024,\n",
            " 'learning_rate': 0.034666598}\n",
            "2022-11-15 18:39:23.753860: W tensorflow/core/lib/png/png_io.cc:88] PNG warning: iCCP: Not recognizing known sRGB profile that has been edited\n",
            "INFO:tensorflow:Step 1700 per-step time 0.972s\n",
            "I1115 18:40:36.589445 140703071520640 model_lib_v2.py:707] Step 1700 per-step time 0.972s\n",
            "INFO:tensorflow:{'Loss/classification_loss': 0.7559666,\n",
            " 'Loss/localization_loss': 0.6426494,\n",
            " 'Loss/regularization_loss': 4.050929,\n",
            " 'Loss/total_loss': 5.449545,\n",
            " 'learning_rate': 0.03599995}\n",
            "I1115 18:40:36.589802 140703071520640 model_lib_v2.py:708] {'Loss/classification_loss': 0.7559666,\n",
            " 'Loss/localization_loss': 0.6426494,\n",
            " 'Loss/regularization_loss': 4.050929,\n",
            " 'Loss/total_loss': 5.449545,\n",
            " 'learning_rate': 0.03599995}\n",
            "2022-11-15 18:41:42.870170: W tensorflow/core/lib/png/png_io.cc:88] PNG warning: iCCP: Not recognizing known sRGB profile that has been edited\n",
            "INFO:tensorflow:Step 1800 per-step time 0.974s\n",
            "I1115 18:42:14.034332 140703071520640 model_lib_v2.py:707] Step 1800 per-step time 0.974s\n",
            "INFO:tensorflow:{'Loss/classification_loss': 0.6869375,\n",
            " 'Loss/localization_loss': 0.46767062,\n",
            " 'Loss/regularization_loss': 3.9362292,\n",
            " 'Loss/total_loss': 5.090837,\n",
            " 'learning_rate': 0.037333302}\n",
            "I1115 18:42:14.034649 140703071520640 model_lib_v2.py:708] {'Loss/classification_loss': 0.6869375,\n",
            " 'Loss/localization_loss': 0.46767062,\n",
            " 'Loss/regularization_loss': 3.9362292,\n",
            " 'Loss/total_loss': 5.090837,\n",
            " 'learning_rate': 0.037333302}\n",
            "INFO:tensorflow:Step 1900 per-step time 0.974s\n",
            "I1115 18:43:51.427069 140703071520640 model_lib_v2.py:707] Step 1900 per-step time 0.974s\n",
            "INFO:tensorflow:{'Loss/classification_loss': 0.75658786,\n",
            " 'Loss/localization_loss': 0.41079912,\n",
            " 'Loss/regularization_loss': 3.830933,\n",
            " 'Loss/total_loss': 4.99832,\n",
            " 'learning_rate': 0.03866665}\n",
            "I1115 18:43:51.427377 140703071520640 model_lib_v2.py:708] {'Loss/classification_loss': 0.75658786,\n",
            " 'Loss/localization_loss': 0.41079912,\n",
            " 'Loss/regularization_loss': 3.830933,\n",
            " 'Loss/total_loss': 4.99832,\n",
            " 'learning_rate': 0.03866665}\n",
            "INFO:tensorflow:Step 2000 per-step time 0.970s\n",
            "I1115 18:45:28.465286 140703071520640 model_lib_v2.py:707] Step 2000 per-step time 0.970s\n",
            "INFO:tensorflow:{'Loss/classification_loss': 0.8624787,\n",
            " 'Loss/localization_loss': 0.690834,\n",
            " 'Loss/regularization_loss': 3.72898,\n",
            " 'Loss/total_loss': 5.282293,\n",
            " 'learning_rate': 0.04}\n",
            "I1115 18:45:28.465598 140703071520640 model_lib_v2.py:708] {'Loss/classification_loss': 0.8624787,\n",
            " 'Loss/localization_loss': 0.690834,\n",
            " 'Loss/regularization_loss': 3.72898,\n",
            " 'Loss/total_loss': 5.282293,\n",
            " 'learning_rate': 0.04}\n",
            "INFO:tensorflow:Step 2100 per-step time 1.001s\n",
            "I1115 18:47:08.578973 140703071520640 model_lib_v2.py:707] Step 2100 per-step time 1.001s\n",
            "INFO:tensorflow:{'Loss/classification_loss': 0.7286524,\n",
            " 'Loss/localization_loss': 0.39384118,\n",
            " 'Loss/regularization_loss': 3.6156783,\n",
            " 'Loss/total_loss': 4.738172,\n",
            " 'learning_rate': 0.039984576}\n",
            "I1115 18:47:08.579369 140703071520640 model_lib_v2.py:708] {'Loss/classification_loss': 0.7286524,\n",
            " 'Loss/localization_loss': 0.39384118,\n",
            " 'Loss/regularization_loss': 3.6156783,\n",
            " 'Loss/total_loss': 4.738172,\n",
            " 'learning_rate': 0.039984576}\n",
            "INFO:tensorflow:Step 2200 per-step time 0.973s\n",
            "I1115 18:48:45.860689 140703071520640 model_lib_v2.py:707] Step 2200 per-step time 0.973s\n",
            "INFO:tensorflow:{'Loss/classification_loss': 0.61314714,\n",
            " 'Loss/localization_loss': 0.3662438,\n",
            " 'Loss/regularization_loss': 3.506204,\n",
            " 'Loss/total_loss': 4.4855947,\n",
            " 'learning_rate': 0.039938346}\n",
            "I1115 18:48:45.861024 140703071520640 model_lib_v2.py:708] {'Loss/classification_loss': 0.61314714,\n",
            " 'Loss/localization_loss': 0.3662438,\n",
            " 'Loss/regularization_loss': 3.506204,\n",
            " 'Loss/total_loss': 4.4855947,\n",
            " 'learning_rate': 0.039938346}\n",
            "INFO:tensorflow:Step 2300 per-step time 0.970s\n",
            "I1115 18:50:22.875984 140703071520640 model_lib_v2.py:707] Step 2300 per-step time 0.970s\n",
            "INFO:tensorflow:{'Loss/classification_loss': 0.5906847,\n",
            " 'Loss/localization_loss': 0.3857023,\n",
            " 'Loss/regularization_loss': 3.3992941,\n",
            " 'Loss/total_loss': 4.375681,\n",
            " 'learning_rate': 0.03986137}\n",
            "I1115 18:50:22.876299 140703071520640 model_lib_v2.py:708] {'Loss/classification_loss': 0.5906847,\n",
            " 'Loss/localization_loss': 0.3857023,\n",
            " 'Loss/regularization_loss': 3.3992941,\n",
            " 'Loss/total_loss': 4.375681,\n",
            " 'learning_rate': 0.03986137}\n",
            "INFO:tensorflow:Step 2400 per-step time 0.973s\n",
            "I1115 18:52:00.130535 140703071520640 model_lib_v2.py:707] Step 2400 per-step time 0.973s\n",
            "INFO:tensorflow:{'Loss/classification_loss': 0.7899377,\n",
            " 'Loss/localization_loss': 0.41518533,\n",
            " 'Loss/regularization_loss': 3.2960286,\n",
            " 'Loss/total_loss': 4.5011516,\n",
            " 'learning_rate': 0.039753765}\n",
            "I1115 18:52:00.130875 140703071520640 model_lib_v2.py:708] {'Loss/classification_loss': 0.7899377,\n",
            " 'Loss/localization_loss': 0.41518533,\n",
            " 'Loss/regularization_loss': 3.2960286,\n",
            " 'Loss/total_loss': 4.5011516,\n",
            " 'learning_rate': 0.039753765}\n",
            "2022-11-15 18:53:09.200909: W tensorflow/core/lib/png/png_io.cc:88] PNG warning: iCCP: Not recognizing known sRGB profile that has been edited\n",
            "INFO:tensorflow:Step 2500 per-step time 0.971s\n",
            "I1115 18:53:37.241313 140703071520640 model_lib_v2.py:707] Step 2500 per-step time 0.971s\n",
            "INFO:tensorflow:{'Loss/classification_loss': 0.7160071,\n",
            " 'Loss/localization_loss': 0.40754044,\n",
            " 'Loss/regularization_loss': 3.1970751,\n",
            " 'Loss/total_loss': 4.3206224,\n",
            " 'learning_rate': 0.039615706}\n",
            "I1115 18:53:37.241620 140703071520640 model_lib_v2.py:708] {'Loss/classification_loss': 0.7160071,\n",
            " 'Loss/localization_loss': 0.40754044,\n",
            " 'Loss/regularization_loss': 3.1970751,\n",
            " 'Loss/total_loss': 4.3206224,\n",
            " 'learning_rate': 0.039615706}\n",
            "2022-11-15 18:54:29.574267: W tensorflow/core/lib/png/png_io.cc:88] PNG warning: iCCP: Not recognizing known sRGB profile that has been edited\n",
            "INFO:tensorflow:Step 2600 per-step time 0.969s\n",
            "I1115 18:55:14.150127 140703071520640 model_lib_v2.py:707] Step 2600 per-step time 0.969s\n",
            "INFO:tensorflow:{'Loss/classification_loss': 0.2501646,\n",
            " 'Loss/localization_loss': 0.129425,\n",
            " 'Loss/regularization_loss': 3.1009598,\n",
            " 'Loss/total_loss': 3.4805493,\n",
            " 'learning_rate': 0.039447397}\n",
            "I1115 18:55:14.150475 140703071520640 model_lib_v2.py:708] {'Loss/classification_loss': 0.2501646,\n",
            " 'Loss/localization_loss': 0.129425,\n",
            " 'Loss/regularization_loss': 3.1009598,\n",
            " 'Loss/total_loss': 3.4805493,\n",
            " 'learning_rate': 0.039447397}\n",
            "2022-11-15 18:56:26.213737: W tensorflow/core/lib/png/png_io.cc:88] PNG warning: iCCP: Not recognizing known sRGB profile that has been edited\n",
            "INFO:tensorflow:Step 2700 per-step time 0.974s\n",
            "I1115 18:56:51.535822 140703071520640 model_lib_v2.py:707] Step 2700 per-step time 0.974s\n",
            "INFO:tensorflow:{'Loss/classification_loss': 0.4188015,\n",
            " 'Loss/localization_loss': 0.19421928,\n",
            " 'Loss/regularization_loss': 3.0079296,\n",
            " 'Loss/total_loss': 3.6209505,\n",
            " 'learning_rate': 0.039249104}\n",
            "I1115 18:56:51.536125 140703071520640 model_lib_v2.py:708] {'Loss/classification_loss': 0.4188015,\n",
            " 'Loss/localization_loss': 0.19421928,\n",
            " 'Loss/regularization_loss': 3.0079296,\n",
            " 'Loss/total_loss': 3.6209505,\n",
            " 'learning_rate': 0.039249104}\n",
            "INFO:tensorflow:Step 2800 per-step time 0.972s\n",
            "I1115 18:58:28.764909 140703071520640 model_lib_v2.py:707] Step 2800 per-step time 0.972s\n",
            "INFO:tensorflow:{'Loss/classification_loss': 0.5718233,\n",
            " 'Loss/localization_loss': 0.330415,\n",
            " 'Loss/regularization_loss': 2.9182067,\n",
            " 'Loss/total_loss': 3.820445,\n",
            " 'learning_rate': 0.039021127}\n",
            "I1115 18:58:28.765234 140703071520640 model_lib_v2.py:708] {'Loss/classification_loss': 0.5718233,\n",
            " 'Loss/localization_loss': 0.330415,\n",
            " 'Loss/regularization_loss': 2.9182067,\n",
            " 'Loss/total_loss': 3.820445,\n",
            " 'learning_rate': 0.039021127}\n",
            "INFO:tensorflow:Step 2900 per-step time 0.974s\n",
            "I1115 19:00:06.139464 140703071520640 model_lib_v2.py:707] Step 2900 per-step time 0.974s\n",
            "INFO:tensorflow:{'Loss/classification_loss': 0.60379845,\n",
            " 'Loss/localization_loss': 0.36778846,\n",
            " 'Loss/regularization_loss': 2.831538,\n",
            " 'Loss/total_loss': 3.803125,\n",
            " 'learning_rate': 0.03876383}\n",
            "I1115 19:00:06.139839 140703071520640 model_lib_v2.py:708] {'Loss/classification_loss': 0.60379845,\n",
            " 'Loss/localization_loss': 0.36778846,\n",
            " 'Loss/regularization_loss': 2.831538,\n",
            " 'Loss/total_loss': 3.803125,\n",
            " 'learning_rate': 0.03876383}\n",
            "INFO:tensorflow:Step 3000 per-step time 0.975s\n",
            "I1115 19:01:43.681597 140703071520640 model_lib_v2.py:707] Step 3000 per-step time 0.975s\n",
            "INFO:tensorflow:{'Loss/classification_loss': 0.58716583,\n",
            " 'Loss/localization_loss': 0.32787374,\n",
            " 'Loss/regularization_loss': 2.7489245,\n",
            " 'Loss/total_loss': 3.663964,\n",
            " 'learning_rate': 0.038477592}\n",
            "I1115 19:01:43.681933 140703071520640 model_lib_v2.py:708] {'Loss/classification_loss': 0.58716583,\n",
            " 'Loss/localization_loss': 0.32787374,\n",
            " 'Loss/regularization_loss': 2.7489245,\n",
            " 'Loss/total_loss': 3.663964,\n",
            " 'learning_rate': 0.038477592}\n",
            "2022-11-15 19:03:20.221160: W tensorflow/core/lib/png/png_io.cc:88] PNG warning: iCCP: Not recognizing known sRGB profile that has been edited\n",
            "INFO:tensorflow:Step 3100 per-step time 1.004s\n",
            "I1115 19:03:24.074782 140703071520640 model_lib_v2.py:707] Step 3100 per-step time 1.004s\n",
            "INFO:tensorflow:{'Loss/classification_loss': 0.5906977,\n",
            " 'Loss/localization_loss': 0.4283969,\n",
            " 'Loss/regularization_loss': 2.671315,\n",
            " 'Loss/total_loss': 3.6904097,\n",
            " 'learning_rate': 0.03816286}\n",
            "I1115 19:03:24.075095 140703071520640 model_lib_v2.py:708] {'Loss/classification_loss': 0.5906977,\n",
            " 'Loss/localization_loss': 0.4283969,\n",
            " 'Loss/regularization_loss': 2.671315,\n",
            " 'Loss/total_loss': 3.6904097,\n",
            " 'learning_rate': 0.03816286}\n",
            "INFO:tensorflow:Step 3200 per-step time 0.976s\n",
            "I1115 19:05:01.662976 140703071520640 model_lib_v2.py:707] Step 3200 per-step time 0.976s\n",
            "INFO:tensorflow:{'Loss/classification_loss': 0.60643953,\n",
            " 'Loss/localization_loss': 0.4510096,\n",
            " 'Loss/regularization_loss': 2.5934815,\n",
            " 'Loss/total_loss': 3.6509306,\n",
            " 'learning_rate': 0.037820127}\n",
            "I1115 19:05:01.663288 140703071520640 model_lib_v2.py:708] {'Loss/classification_loss': 0.60643953,\n",
            " 'Loss/localization_loss': 0.4510096,\n",
            " 'Loss/regularization_loss': 2.5934815,\n",
            " 'Loss/total_loss': 3.6509306,\n",
            " 'learning_rate': 0.037820127}\n",
            "INFO:tensorflow:Step 3300 per-step time 0.973s\n",
            "I1115 19:06:38.962499 140703071520640 model_lib_v2.py:707] Step 3300 per-step time 0.973s\n",
            "INFO:tensorflow:{'Loss/classification_loss': 0.3741816,\n",
            " 'Loss/localization_loss': 0.19799922,\n",
            " 'Loss/regularization_loss': 2.5195367,\n",
            " 'Loss/total_loss': 3.0917175,\n",
            " 'learning_rate': 0.03744992}\n",
            "I1115 19:06:38.962825 140703071520640 model_lib_v2.py:708] {'Loss/classification_loss': 0.3741816,\n",
            " 'Loss/localization_loss': 0.19799922,\n",
            " 'Loss/regularization_loss': 2.5195367,\n",
            " 'Loss/total_loss': 3.0917175,\n",
            " 'learning_rate': 0.03744992}\n",
            "INFO:tensorflow:Step 3400 per-step time 0.973s\n",
            "I1115 19:08:16.293304 140703071520640 model_lib_v2.py:707] Step 3400 per-step time 0.973s\n",
            "INFO:tensorflow:{'Loss/classification_loss': 0.6011039,\n",
            " 'Loss/localization_loss': 0.3576276,\n",
            " 'Loss/regularization_loss': 2.4488165,\n",
            " 'Loss/total_loss': 3.4075482,\n",
            " 'learning_rate': 0.037052803}\n",
            "I1115 19:08:16.293607 140703071520640 model_lib_v2.py:708] {'Loss/classification_loss': 0.6011039,\n",
            " 'Loss/localization_loss': 0.3576276,\n",
            " 'Loss/regularization_loss': 2.4488165,\n",
            " 'Loss/total_loss': 3.4075482,\n",
            " 'learning_rate': 0.037052803}\n",
            "INFO:tensorflow:Step 3500 per-step time 0.972s\n",
            "I1115 19:09:53.484230 140703071520640 model_lib_v2.py:707] Step 3500 per-step time 0.972s\n",
            "INFO:tensorflow:{'Loss/classification_loss': 0.69001657,\n",
            " 'Loss/localization_loss': 0.38401163,\n",
            " 'Loss/regularization_loss': 2.3802848,\n",
            " 'Loss/total_loss': 3.4543128,\n",
            " 'learning_rate': 0.036629394}\n",
            "I1115 19:09:53.484520 140703071520640 model_lib_v2.py:708] {'Loss/classification_loss': 0.69001657,\n",
            " 'Loss/localization_loss': 0.38401163,\n",
            " 'Loss/regularization_loss': 2.3802848,\n",
            " 'Loss/total_loss': 3.4543128,\n",
            " 'learning_rate': 0.036629394}\n",
            "INFO:tensorflow:Step 3600 per-step time 0.974s\n",
            "I1115 19:11:30.852371 140703071520640 model_lib_v2.py:707] Step 3600 per-step time 0.974s\n",
            "INFO:tensorflow:{'Loss/classification_loss': 0.58765996,\n",
            " 'Loss/localization_loss': 0.31907308,\n",
            " 'Loss/regularization_loss': 2.3155155,\n",
            " 'Loss/total_loss': 3.2222486,\n",
            " 'learning_rate': 0.03618034}\n",
            "I1115 19:11:30.852676 140703071520640 model_lib_v2.py:708] {'Loss/classification_loss': 0.58765996,\n",
            " 'Loss/localization_loss': 0.31907308,\n",
            " 'Loss/regularization_loss': 2.3155155,\n",
            " 'Loss/total_loss': 3.2222486,\n",
            " 'learning_rate': 0.03618034}\n",
            "INFO:tensorflow:Step 3700 per-step time 0.974s\n",
            "I1115 19:13:08.239434 140703071520640 model_lib_v2.py:707] Step 3700 per-step time 0.974s\n",
            "INFO:tensorflow:{'Loss/classification_loss': 0.4594125,\n",
            " 'Loss/localization_loss': 0.24946286,\n",
            " 'Loss/regularization_loss': 2.252127,\n",
            " 'Loss/total_loss': 2.9610023,\n",
            " 'learning_rate': 0.035706338}\n",
            "I1115 19:13:08.239821 140703071520640 model_lib_v2.py:708] {'Loss/classification_loss': 0.4594125,\n",
            " 'Loss/localization_loss': 0.24946286,\n",
            " 'Loss/regularization_loss': 2.252127,\n",
            " 'Loss/total_loss': 2.9610023,\n",
            " 'learning_rate': 0.035706338}\n",
            "2022-11-15 19:13:18.999981: W tensorflow/core/lib/png/png_io.cc:88] PNG warning: iCCP: Not recognizing known sRGB profile that has been edited\n",
            "INFO:tensorflow:Step 3800 per-step time 0.977s\n",
            "I1115 19:14:45.889792 140703071520640 model_lib_v2.py:707] Step 3800 per-step time 0.977s\n",
            "INFO:tensorflow:{'Loss/classification_loss': 0.759416,\n",
            " 'Loss/localization_loss': 0.47406238,\n",
            " 'Loss/regularization_loss': 2.1913,\n",
            " 'Loss/total_loss': 3.4247785,\n",
            " 'learning_rate': 0.03520812}\n",
            "I1115 19:14:45.890123 140703071520640 model_lib_v2.py:708] {'Loss/classification_loss': 0.759416,\n",
            " 'Loss/localization_loss': 0.47406238,\n",
            " 'Loss/regularization_loss': 2.1913,\n",
            " 'Loss/total_loss': 3.4247785,\n",
            " 'learning_rate': 0.03520812}\n",
            "INFO:tensorflow:Step 3900 per-step time 0.974s\n",
            "I1115 19:16:23.279738 140703071520640 model_lib_v2.py:707] Step 3900 per-step time 0.974s\n",
            "INFO:tensorflow:{'Loss/classification_loss': 0.36880928,\n",
            " 'Loss/localization_loss': 0.24890335,\n",
            " 'Loss/regularization_loss': 2.1332974,\n",
            " 'Loss/total_loss': 2.75101,\n",
            " 'learning_rate': 0.03468645}\n",
            "I1115 19:16:23.280031 140703071520640 model_lib_v2.py:708] {'Loss/classification_loss': 0.36880928,\n",
            " 'Loss/localization_loss': 0.24890335,\n",
            " 'Loss/regularization_loss': 2.1332974,\n",
            " 'Loss/total_loss': 2.75101,\n",
            " 'learning_rate': 0.03468645}\n",
            "INFO:tensorflow:Step 4000 per-step time 0.974s\n",
            "I1115 19:18:00.704370 140703071520640 model_lib_v2.py:707] Step 4000 per-step time 0.974s\n",
            "INFO:tensorflow:{'Loss/classification_loss': 0.45935678,\n",
            " 'Loss/localization_loss': 0.28444177,\n",
            " 'Loss/regularization_loss': 2.0784323,\n",
            " 'Loss/total_loss': 2.8222308,\n",
            " 'learning_rate': 0.034142137}\n",
            "I1115 19:18:00.704668 140703071520640 model_lib_v2.py:708] {'Loss/classification_loss': 0.45935678,\n",
            " 'Loss/localization_loss': 0.28444177,\n",
            " 'Loss/regularization_loss': 2.0784323,\n",
            " 'Loss/total_loss': 2.8222308,\n",
            " 'learning_rate': 0.034142137}\n",
            "INFO:tensorflow:Step 4100 per-step time 1.003s\n",
            "I1115 19:19:41.004682 140703071520640 model_lib_v2.py:707] Step 4100 per-step time 1.003s\n",
            "INFO:tensorflow:{'Loss/classification_loss': 0.5217897,\n",
            " 'Loss/localization_loss': 0.4668716,\n",
            " 'Loss/regularization_loss': 2.0249717,\n",
            " 'Loss/total_loss': 3.013633,\n",
            " 'learning_rate': 0.03357601}\n",
            "I1115 19:19:41.004994 140703071520640 model_lib_v2.py:708] {'Loss/classification_loss': 0.5217897,\n",
            " 'Loss/localization_loss': 0.4668716,\n",
            " 'Loss/regularization_loss': 2.0249717,\n",
            " 'Loss/total_loss': 3.013633,\n",
            " 'learning_rate': 0.03357601}\n",
            "2022-11-15 19:20:31.533767: W tensorflow/core/lib/png/png_io.cc:88] PNG warning: iCCP: Not recognizing known sRGB profile that has been edited\n",
            "INFO:tensorflow:Step 4200 per-step time 0.973s\n",
            "I1115 19:21:18.283277 140703071520640 model_lib_v2.py:707] Step 4200 per-step time 0.973s\n",
            "INFO:tensorflow:{'Loss/classification_loss': 0.5749637,\n",
            " 'Loss/localization_loss': 0.41753644,\n",
            " 'Loss/regularization_loss': 1.9766011,\n",
            " 'Loss/total_loss': 2.9691012,\n",
            " 'learning_rate': 0.03298896}\n",
            "I1115 19:21:18.283651 140703071520640 model_lib_v2.py:708] {'Loss/classification_loss': 0.5749637,\n",
            " 'Loss/localization_loss': 0.41753644,\n",
            " 'Loss/regularization_loss': 1.9766011,\n",
            " 'Loss/total_loss': 2.9691012,\n",
            " 'learning_rate': 0.03298896}\n",
            "2022-11-15 19:21:22.197597: W tensorflow/core/lib/png/png_io.cc:88] PNG warning: iCCP: Not recognizing known sRGB profile that has been edited\n",
            "INFO:tensorflow:Step 4300 per-step time 0.975s\n",
            "I1115 19:22:55.760982 140703071520640 model_lib_v2.py:707] Step 4300 per-step time 0.975s\n",
            "INFO:tensorflow:{'Loss/classification_loss': 0.40330148,\n",
            " 'Loss/localization_loss': 0.07525622,\n",
            " 'Loss/regularization_loss': 1.9336479,\n",
            " 'Loss/total_loss': 2.4122055,\n",
            " 'learning_rate': 0.032381877}\n",
            "I1115 19:22:55.761300 140703071520640 model_lib_v2.py:708] {'Loss/classification_loss': 0.40330148,\n",
            " 'Loss/localization_loss': 0.07525622,\n",
            " 'Loss/regularization_loss': 1.9336479,\n",
            " 'Loss/total_loss': 2.4122055,\n",
            " 'learning_rate': 0.032381877}\n",
            "INFO:tensorflow:Step 4400 per-step time 0.972s\n",
            "I1115 19:24:32.922895 140703071520640 model_lib_v2.py:707] Step 4400 per-step time 0.972s\n",
            "INFO:tensorflow:{'Loss/classification_loss': 0.51392126,\n",
            " 'Loss/localization_loss': 0.40180743,\n",
            " 'Loss/regularization_loss': 1.8867526,\n",
            " 'Loss/total_loss': 2.8024812,\n",
            " 'learning_rate': 0.031755704}\n",
            "I1115 19:24:32.923248 140703071520640 model_lib_v2.py:708] {'Loss/classification_loss': 0.51392126,\n",
            " 'Loss/localization_loss': 0.40180743,\n",
            " 'Loss/regularization_loss': 1.8867526,\n",
            " 'Loss/total_loss': 2.8024812,\n",
            " 'learning_rate': 0.031755704}\n",
            "INFO:tensorflow:Step 4500 per-step time 0.974s\n",
            "I1115 19:26:10.276384 140703071520640 model_lib_v2.py:707] Step 4500 per-step time 0.974s\n",
            "INFO:tensorflow:{'Loss/classification_loss': 0.6418583,\n",
            " 'Loss/localization_loss': 0.27185908,\n",
            " 'Loss/regularization_loss': 1.842689,\n",
            " 'Loss/total_loss': 2.7564065,\n",
            " 'learning_rate': 0.031111402}\n",
            "I1115 19:26:10.276680 140703071520640 model_lib_v2.py:708] {'Loss/classification_loss': 0.6418583,\n",
            " 'Loss/localization_loss': 0.27185908,\n",
            " 'Loss/regularization_loss': 1.842689,\n",
            " 'Loss/total_loss': 2.7564065,\n",
            " 'learning_rate': 0.031111402}\n",
            "INFO:tensorflow:Step 4600 per-step time 0.973s\n",
            "I1115 19:27:47.611532 140703071520640 model_lib_v2.py:707] Step 4600 per-step time 0.973s\n",
            "INFO:tensorflow:{'Loss/classification_loss': 0.62154454,\n",
            " 'Loss/localization_loss': 0.37214354,\n",
            " 'Loss/regularization_loss': 1.8004543,\n",
            " 'Loss/total_loss': 2.7941422,\n",
            " 'learning_rate': 0.03044997}\n",
            "I1115 19:27:47.611856 140703071520640 model_lib_v2.py:708] {'Loss/classification_loss': 0.62154454,\n",
            " 'Loss/localization_loss': 0.37214354,\n",
            " 'Loss/regularization_loss': 1.8004543,\n",
            " 'Loss/total_loss': 2.7941422,\n",
            " 'learning_rate': 0.03044997}\n",
            "INFO:tensorflow:Step 4700 per-step time 0.972s\n",
            "I1115 19:29:24.840735 140703071520640 model_lib_v2.py:707] Step 4700 per-step time 0.972s\n",
            "INFO:tensorflow:{'Loss/classification_loss': 0.5143827,\n",
            " 'Loss/localization_loss': 0.10896145,\n",
            " 'Loss/regularization_loss': 1.7598783,\n",
            " 'Loss/total_loss': 2.3832223,\n",
            " 'learning_rate': 0.029772423}\n",
            "I1115 19:29:24.841042 140703071520640 model_lib_v2.py:708] {'Loss/classification_loss': 0.5143827,\n",
            " 'Loss/localization_loss': 0.10896145,\n",
            " 'Loss/regularization_loss': 1.7598783,\n",
            " 'Loss/total_loss': 2.3832223,\n",
            " 'learning_rate': 0.029772423}\n",
            "2022-11-15 19:30:37.982711: W tensorflow/core/lib/png/png_io.cc:88] PNG warning: iCCP: Not recognizing known sRGB profile that has been edited\n",
            "INFO:tensorflow:Step 4800 per-step time 0.974s\n",
            "I1115 19:31:02.282665 140703071520640 model_lib_v2.py:707] Step 4800 per-step time 0.974s\n",
            "INFO:tensorflow:{'Loss/classification_loss': 0.40943906,\n",
            " 'Loss/localization_loss': 0.25651985,\n",
            " 'Loss/regularization_loss': 1.73061,\n",
            " 'Loss/total_loss': 2.3965688,\n",
            " 'learning_rate': 0.029079808}\n",
            "I1115 19:31:02.282975 140703071520640 model_lib_v2.py:708] {'Loss/classification_loss': 0.40943906,\n",
            " 'Loss/localization_loss': 0.25651985,\n",
            " 'Loss/regularization_loss': 1.73061,\n",
            " 'Loss/total_loss': 2.3965688,\n",
            " 'learning_rate': 0.029079808}\n",
            "INFO:tensorflow:Step 4900 per-step time 0.974s\n",
            "I1115 19:32:39.720603 140703071520640 model_lib_v2.py:707] Step 4900 per-step time 0.974s\n",
            "INFO:tensorflow:{'Loss/classification_loss': 0.49416223,\n",
            " 'Loss/localization_loss': 0.36870494,\n",
            " 'Loss/regularization_loss': 1.6945606,\n",
            " 'Loss/total_loss': 2.557428,\n",
            " 'learning_rate': 0.028373193}\n",
            "I1115 19:32:39.720921 140703071520640 model_lib_v2.py:708] {'Loss/classification_loss': 0.49416223,\n",
            " 'Loss/localization_loss': 0.36870494,\n",
            " 'Loss/regularization_loss': 1.6945606,\n",
            " 'Loss/total_loss': 2.557428,\n",
            " 'learning_rate': 0.028373193}\n",
            "2022-11-15 19:32:52.540776: W tensorflow/core/lib/png/png_io.cc:88] PNG warning: iCCP: Not recognizing known sRGB profile that has been edited\n",
            "2022-11-15 19:33:01.183011: W tensorflow/core/lib/png/png_io.cc:88] PNG warning: iCCP: Not recognizing known sRGB profile that has been edited\n",
            "INFO:tensorflow:Step 5000 per-step time 0.972s\n",
            "I1115 19:34:16.959102 140703071520640 model_lib_v2.py:707] Step 5000 per-step time 0.972s\n",
            "INFO:tensorflow:{'Loss/classification_loss': 0.58875775,\n",
            " 'Loss/localization_loss': 0.34870332,\n",
            " 'Loss/regularization_loss': 1.6594113,\n",
            " 'Loss/total_loss': 2.5968723,\n",
            " 'learning_rate': 0.02765367}\n",
            "I1115 19:34:16.959411 140703071520640 model_lib_v2.py:708] {'Loss/classification_loss': 0.58875775,\n",
            " 'Loss/localization_loss': 0.34870332,\n",
            " 'Loss/regularization_loss': 1.6594113,\n",
            " 'Loss/total_loss': 2.5968723,\n",
            " 'learning_rate': 0.02765367}\n",
            "INFO:tensorflow:Step 5100 per-step time 1.005s\n",
            "I1115 19:35:57.417477 140703071520640 model_lib_v2.py:707] Step 5100 per-step time 1.005s\n",
            "INFO:tensorflow:{'Loss/classification_loss': 0.33947173,\n",
            " 'Loss/localization_loss': 0.25204384,\n",
            " 'Loss/regularization_loss': 1.6254201,\n",
            " 'Loss/total_loss': 2.2169356,\n",
            " 'learning_rate': 0.02692234}\n",
            "I1115 19:35:57.417856 140703071520640 model_lib_v2.py:708] {'Loss/classification_loss': 0.33947173,\n",
            " 'Loss/localization_loss': 0.25204384,\n",
            " 'Loss/regularization_loss': 1.6254201,\n",
            " 'Loss/total_loss': 2.2169356,\n",
            " 'learning_rate': 0.02692234}\n",
            "INFO:tensorflow:Step 5200 per-step time 0.975s\n",
            "I1115 19:37:34.944326 140703071520640 model_lib_v2.py:707] Step 5200 per-step time 0.975s\n",
            "INFO:tensorflow:{'Loss/classification_loss': 0.3932115,\n",
            " 'Loss/localization_loss': 0.26545402,\n",
            " 'Loss/regularization_loss': 1.5934712,\n",
            " 'Loss/total_loss': 2.2521367,\n",
            " 'learning_rate': 0.026180338}\n",
            "I1115 19:37:34.944620 140703071520640 model_lib_v2.py:708] {'Loss/classification_loss': 0.3932115,\n",
            " 'Loss/localization_loss': 0.26545402,\n",
            " 'Loss/regularization_loss': 1.5934712,\n",
            " 'Loss/total_loss': 2.2521367,\n",
            " 'learning_rate': 0.026180338}\n",
            "INFO:tensorflow:Step 5300 per-step time 0.973s\n",
            "I1115 19:39:12.198950 140703071520640 model_lib_v2.py:707] Step 5300 per-step time 0.973s\n",
            "INFO:tensorflow:{'Loss/classification_loss': 0.2921375,\n",
            " 'Loss/localization_loss': 0.22607087,\n",
            " 'Loss/regularization_loss': 1.5633348,\n",
            " 'Loss/total_loss': 2.0815432,\n",
            " 'learning_rate': 0.025428807}\n",
            "I1115 19:39:12.199250 140703071520640 model_lib_v2.py:708] {'Loss/classification_loss': 0.2921375,\n",
            " 'Loss/localization_loss': 0.22607087,\n",
            " 'Loss/regularization_loss': 1.5633348,\n",
            " 'Loss/total_loss': 2.0815432,\n",
            " 'learning_rate': 0.025428807}\n",
            "INFO:tensorflow:Step 5400 per-step time 0.973s\n",
            "I1115 19:40:49.520301 140703071520640 model_lib_v2.py:707] Step 5400 per-step time 0.973s\n",
            "INFO:tensorflow:{'Loss/classification_loss': 0.35204837,\n",
            " 'Loss/localization_loss': 0.20558415,\n",
            " 'Loss/regularization_loss': 1.534433,\n",
            " 'Loss/total_loss': 2.0920656,\n",
            " 'learning_rate': 0.024668908}\n",
            "I1115 19:40:49.520602 140703071520640 model_lib_v2.py:708] {'Loss/classification_loss': 0.35204837,\n",
            " 'Loss/localization_loss': 0.20558415,\n",
            " 'Loss/regularization_loss': 1.534433,\n",
            " 'Loss/total_loss': 2.0920656,\n",
            " 'learning_rate': 0.024668908}\n",
            "2022-11-15 19:41:45.989260: W tensorflow/core/lib/png/png_io.cc:88] PNG warning: iCCP: Not recognizing known sRGB profile that has been edited\n",
            "INFO:tensorflow:Step 5500 per-step time 0.973s\n",
            "I1115 19:42:26.811729 140703071520640 model_lib_v2.py:707] Step 5500 per-step time 0.973s\n",
            "INFO:tensorflow:{'Loss/classification_loss': 0.5333178,\n",
            " 'Loss/localization_loss': 0.37305766,\n",
            " 'Loss/regularization_loss': 1.5069342,\n",
            " 'Loss/total_loss': 2.4133096,\n",
            " 'learning_rate': 0.023901805}\n",
            "I1115 19:42:26.812042 140703071520640 model_lib_v2.py:708] {'Loss/classification_loss': 0.5333178,\n",
            " 'Loss/localization_loss': 0.37305766,\n",
            " 'Loss/regularization_loss': 1.5069342,\n",
            " 'Loss/total_loss': 2.4133096,\n",
            " 'learning_rate': 0.023901805}\n",
            "INFO:tensorflow:Step 5600 per-step time 0.971s\n",
            "I1115 19:44:03.930879 140703071520640 model_lib_v2.py:707] Step 5600 per-step time 0.971s\n",
            "INFO:tensorflow:{'Loss/classification_loss': 0.66505295,\n",
            " 'Loss/localization_loss': 0.527694,\n",
            " 'Loss/regularization_loss': 1.4804233,\n",
            " 'Loss/total_loss': 2.6731703,\n",
            " 'learning_rate': 0.02312869}\n",
            "I1115 19:44:03.931174 140703071520640 model_lib_v2.py:708] {'Loss/classification_loss': 0.66505295,\n",
            " 'Loss/localization_loss': 0.527694,\n",
            " 'Loss/regularization_loss': 1.4804233,\n",
            " 'Loss/total_loss': 2.6731703,\n",
            " 'learning_rate': 0.02312869}\n",
            "INFO:tensorflow:Step 5700 per-step time 0.973s\n",
            "I1115 19:45:41.200590 140703071520640 model_lib_v2.py:707] Step 5700 per-step time 0.973s\n",
            "INFO:tensorflow:{'Loss/classification_loss': 0.28912982,\n",
            " 'Loss/localization_loss': 0.09828314,\n",
            " 'Loss/regularization_loss': 1.4551938,\n",
            " 'Loss/total_loss': 1.8426068,\n",
            " 'learning_rate': 0.022350745}\n",
            "I1115 19:45:41.200960 140703071520640 model_lib_v2.py:708] {'Loss/classification_loss': 0.28912982,\n",
            " 'Loss/localization_loss': 0.09828314,\n",
            " 'Loss/regularization_loss': 1.4551938,\n",
            " 'Loss/total_loss': 1.8426068,\n",
            " 'learning_rate': 0.022350745}\n",
            "INFO:tensorflow:Step 5800 per-step time 0.971s\n",
            "I1115 19:47:18.338359 140703071520640 model_lib_v2.py:707] Step 5800 per-step time 0.971s\n",
            "INFO:tensorflow:{'Loss/classification_loss': 0.39993626,\n",
            " 'Loss/localization_loss': 0.2785599,\n",
            " 'Loss/regularization_loss': 1.4537123,\n",
            " 'Loss/total_loss': 2.1322086,\n",
            " 'learning_rate': 0.02156918}\n",
            "I1115 19:47:18.338652 140703071520640 model_lib_v2.py:708] {'Loss/classification_loss': 0.39993626,\n",
            " 'Loss/localization_loss': 0.2785599,\n",
            " 'Loss/regularization_loss': 1.4537123,\n",
            " 'Loss/total_loss': 2.1322086,\n",
            " 'learning_rate': 0.02156918}\n",
            "INFO:tensorflow:Step 5900 per-step time 0.974s\n",
            "I1115 19:48:55.697241 140703071520640 model_lib_v2.py:707] Step 5900 per-step time 0.974s\n",
            "INFO:tensorflow:{'Loss/classification_loss': 0.52561295,\n",
            " 'Loss/localization_loss': 0.2744902,\n",
            " 'Loss/regularization_loss': 1.4365118,\n",
            " 'Loss/total_loss': 2.236615,\n",
            " 'learning_rate': 0.020785196}\n",
            "I1115 19:48:55.697550 140703071520640 model_lib_v2.py:708] {'Loss/classification_loss': 0.52561295,\n",
            " 'Loss/localization_loss': 0.2744902,\n",
            " 'Loss/regularization_loss': 1.4365118,\n",
            " 'Loss/total_loss': 2.236615,\n",
            " 'learning_rate': 0.020785196}\n",
            "INFO:tensorflow:Step 6000 per-step time 0.973s\n",
            "I1115 19:50:33.026380 140703071520640 model_lib_v2.py:707] Step 6000 per-step time 0.973s\n",
            "INFO:tensorflow:{'Loss/classification_loss': 0.43857953,\n",
            " 'Loss/localization_loss': 0.33826783,\n",
            " 'Loss/regularization_loss': 1.4152532,\n",
            " 'Loss/total_loss': 2.1921005,\n",
            " 'learning_rate': 0.019999998}\n",
            "I1115 19:50:33.026693 140703071520640 model_lib_v2.py:708] {'Loss/classification_loss': 0.43857953,\n",
            " 'Loss/localization_loss': 0.33826783,\n",
            " 'Loss/regularization_loss': 1.4152532,\n",
            " 'Loss/total_loss': 2.1921005,\n",
            " 'learning_rate': 0.019999998}\n",
            "INFO:tensorflow:Step 6100 per-step time 1.005s\n",
            "I1115 19:52:13.504384 140703071520640 model_lib_v2.py:707] Step 6100 per-step time 1.005s\n",
            "INFO:tensorflow:{'Loss/classification_loss': 0.4623286,\n",
            " 'Loss/localization_loss': 0.26474336,\n",
            " 'Loss/regularization_loss': 1.3944374,\n",
            " 'Loss/total_loss': 2.1215093,\n",
            " 'learning_rate': 0.019214803}\n",
            "I1115 19:52:13.504787 140703071520640 model_lib_v2.py:708] {'Loss/classification_loss': 0.4623286,\n",
            " 'Loss/localization_loss': 0.26474336,\n",
            " 'Loss/regularization_loss': 1.3944374,\n",
            " 'Loss/total_loss': 2.1215093,\n",
            " 'learning_rate': 0.019214803}\n",
            "2022-11-15 19:53:47.145113: W tensorflow/core/lib/png/png_io.cc:88] PNG warning: iCCP: Not recognizing known sRGB profile that has been edited\n",
            "INFO:tensorflow:Step 6200 per-step time 0.976s\n",
            "I1115 19:53:51.048836 140703071520640 model_lib_v2.py:707] Step 6200 per-step time 0.976s\n",
            "INFO:tensorflow:{'Loss/classification_loss': 0.44143012,\n",
            " 'Loss/localization_loss': 0.24457751,\n",
            " 'Loss/regularization_loss': 1.3755784,\n",
            " 'Loss/total_loss': 2.061586,\n",
            " 'learning_rate': 0.018430816}\n",
            "I1115 19:53:51.049132 140703071520640 model_lib_v2.py:708] {'Loss/classification_loss': 0.44143012,\n",
            " 'Loss/localization_loss': 0.24457751,\n",
            " 'Loss/regularization_loss': 1.3755784,\n",
            " 'Loss/total_loss': 2.061586,\n",
            " 'learning_rate': 0.018430816}\n",
            "INFO:tensorflow:Step 6300 per-step time 0.973s\n",
            "I1115 19:55:28.373777 140703071520640 model_lib_v2.py:707] Step 6300 per-step time 0.973s\n",
            "INFO:tensorflow:{'Loss/classification_loss': 0.25531846,\n",
            " 'Loss/localization_loss': 0.10376078,\n",
            " 'Loss/regularization_loss': 1.3571091,\n",
            " 'Loss/total_loss': 1.7161882,\n",
            " 'learning_rate': 0.017649252}\n",
            "I1115 19:55:28.374073 140703071520640 model_lib_v2.py:708] {'Loss/classification_loss': 0.25531846,\n",
            " 'Loss/localization_loss': 0.10376078,\n",
            " 'Loss/regularization_loss': 1.3571091,\n",
            " 'Loss/total_loss': 1.7161882,\n",
            " 'learning_rate': 0.017649252}\n",
            "2022-11-15 19:55:40.184776: W tensorflow/core/lib/png/png_io.cc:88] PNG warning: iCCP: Not recognizing known sRGB profile that has been edited\n",
            "INFO:tensorflow:Step 6400 per-step time 0.975s\n",
            "I1115 19:57:05.868142 140703071520640 model_lib_v2.py:707] Step 6400 per-step time 0.975s\n",
            "INFO:tensorflow:{'Loss/classification_loss': 0.41193253,\n",
            " 'Loss/localization_loss': 0.278244,\n",
            " 'Loss/regularization_loss': 1.3394858,\n",
            " 'Loss/total_loss': 2.0296624,\n",
            " 'learning_rate': 0.01687131}\n",
            "I1115 19:57:05.868451 140703071520640 model_lib_v2.py:708] {'Loss/classification_loss': 0.41193253,\n",
            " 'Loss/localization_loss': 0.278244,\n",
            " 'Loss/regularization_loss': 1.3394858,\n",
            " 'Loss/total_loss': 2.0296624,\n",
            " 'learning_rate': 0.01687131}\n",
            "INFO:tensorflow:Step 6500 per-step time 0.975s\n",
            "I1115 19:58:43.379528 140703071520640 model_lib_v2.py:707] Step 6500 per-step time 0.975s\n",
            "INFO:tensorflow:{'Loss/classification_loss': 0.46720135,\n",
            " 'Loss/localization_loss': 0.33814904,\n",
            " 'Loss/regularization_loss': 1.3226889,\n",
            " 'Loss/total_loss': 2.1280394,\n",
            " 'learning_rate': 0.016098194}\n",
            "I1115 19:58:43.379840 140703071520640 model_lib_v2.py:708] {'Loss/classification_loss': 0.46720135,\n",
            " 'Loss/localization_loss': 0.33814904,\n",
            " 'Loss/regularization_loss': 1.3226889,\n",
            " 'Loss/total_loss': 2.1280394,\n",
            " 'learning_rate': 0.016098194}\n",
            "2022-11-15 19:59:14.587066: W tensorflow/core/lib/png/png_io.cc:88] PNG warning: iCCP: Not recognizing known sRGB profile that has been edited\n",
            "INFO:tensorflow:Step 6600 per-step time 0.973s\n",
            "I1115 20:00:20.650908 140703071520640 model_lib_v2.py:707] Step 6600 per-step time 0.973s\n",
            "INFO:tensorflow:{'Loss/classification_loss': 0.30397287,\n",
            " 'Loss/localization_loss': 0.110753365,\n",
            " 'Loss/regularization_loss': 1.3070755,\n",
            " 'Loss/total_loss': 1.7218018,\n",
            " 'learning_rate': 0.015331091}\n",
            "I1115 20:00:20.651223 140703071520640 model_lib_v2.py:708] {'Loss/classification_loss': 0.30397287,\n",
            " 'Loss/localization_loss': 0.110753365,\n",
            " 'Loss/regularization_loss': 1.3070755,\n",
            " 'Loss/total_loss': 1.7218018,\n",
            " 'learning_rate': 0.015331091}\n",
            "INFO:tensorflow:Step 6700 per-step time 0.972s\n",
            "I1115 20:01:57.815553 140703071520640 model_lib_v2.py:707] Step 6700 per-step time 0.972s\n",
            "INFO:tensorflow:{'Loss/classification_loss': 0.30784425,\n",
            " 'Loss/localization_loss': 0.23808593,\n",
            " 'Loss/regularization_loss': 1.2924473,\n",
            " 'Loss/total_loss': 1.8383775,\n",
            " 'learning_rate': 0.014571187}\n",
            "I1115 20:01:57.815882 140703071520640 model_lib_v2.py:708] {'Loss/classification_loss': 0.30784425,\n",
            " 'Loss/localization_loss': 0.23808593,\n",
            " 'Loss/regularization_loss': 1.2924473,\n",
            " 'Loss/total_loss': 1.8383775,\n",
            " 'learning_rate': 0.014571187}\n",
            "INFO:tensorflow:Step 6800 per-step time 0.972s\n",
            "I1115 20:03:35.052622 140703071520640 model_lib_v2.py:707] Step 6800 per-step time 0.972s\n",
            "INFO:tensorflow:{'Loss/classification_loss': 0.44020376,\n",
            " 'Loss/localization_loss': 0.2582629,\n",
            " 'Loss/regularization_loss': 1.2786704,\n",
            " 'Loss/total_loss': 1.9771371,\n",
            " 'learning_rate': 0.013819658}\n",
            "I1115 20:03:35.052941 140703071520640 model_lib_v2.py:708] {'Loss/classification_loss': 0.44020376,\n",
            " 'Loss/localization_loss': 0.2582629,\n",
            " 'Loss/regularization_loss': 1.2786704,\n",
            " 'Loss/total_loss': 1.9771371,\n",
            " 'learning_rate': 0.013819658}\n",
            "INFO:tensorflow:Step 6900 per-step time 0.973s\n",
            "I1115 20:05:12.315991 140703071520640 model_lib_v2.py:707] Step 6900 per-step time 0.973s\n",
            "INFO:tensorflow:{'Loss/classification_loss': 0.18576665,\n",
            " 'Loss/localization_loss': 0.15677615,\n",
            " 'Loss/regularization_loss': 1.2655932,\n",
            " 'Loss/total_loss': 1.608136,\n",
            " 'learning_rate': 0.013077657}\n",
            "I1115 20:05:12.316303 140703071520640 model_lib_v2.py:708] {'Loss/classification_loss': 0.18576665,\n",
            " 'Loss/localization_loss': 0.15677615,\n",
            " 'Loss/regularization_loss': 1.2655932,\n",
            " 'Loss/total_loss': 1.608136,\n",
            " 'learning_rate': 0.013077657}\n",
            "2022-11-15 20:06:25.388566: W tensorflow/core/lib/png/png_io.cc:88] PNG warning: iCCP: Not recognizing known sRGB profile that has been edited\n",
            "INFO:tensorflow:Step 7000 per-step time 0.974s\n",
            "I1115 20:06:49.722287 140703071520640 model_lib_v2.py:707] Step 7000 per-step time 0.974s\n",
            "INFO:tensorflow:{'Loss/classification_loss': 0.40295786,\n",
            " 'Loss/localization_loss': 0.10133252,\n",
            " 'Loss/regularization_loss': 1.2533511,\n",
            " 'Loss/total_loss': 1.7576414,\n",
            " 'learning_rate': 0.012346329}\n",
            "I1115 20:06:49.722659 140703071520640 model_lib_v2.py:708] {'Loss/classification_loss': 0.40295786,\n",
            " 'Loss/localization_loss': 0.10133252,\n",
            " 'Loss/regularization_loss': 1.2533511,\n",
            " 'Loss/total_loss': 1.7576414,\n",
            " 'learning_rate': 0.012346329}\n",
            "INFO:tensorflow:Step 7100 per-step time 1.014s\n",
            "I1115 20:08:31.086508 140703071520640 model_lib_v2.py:707] Step 7100 per-step time 1.014s\n",
            "INFO:tensorflow:{'Loss/classification_loss': 0.2720597,\n",
            " 'Loss/localization_loss': 0.1716116,\n",
            " 'Loss/regularization_loss': 1.2418811,\n",
            " 'Loss/total_loss': 1.6855524,\n",
            " 'learning_rate': 0.011626803}\n",
            "I1115 20:08:31.086836 140703071520640 model_lib_v2.py:708] {'Loss/classification_loss': 0.2720597,\n",
            " 'Loss/localization_loss': 0.1716116,\n",
            " 'Loss/regularization_loss': 1.2418811,\n",
            " 'Loss/total_loss': 1.6855524,\n",
            " 'learning_rate': 0.011626803}\n",
            "INFO:tensorflow:Step 7200 per-step time 0.974s\n",
            "I1115 20:10:08.519742 140703071520640 model_lib_v2.py:707] Step 7200 per-step time 0.974s\n",
            "INFO:tensorflow:{'Loss/classification_loss': 0.3086344,\n",
            " 'Loss/localization_loss': 0.14576541,\n",
            " 'Loss/regularization_loss': 1.2311382,\n",
            " 'Loss/total_loss': 1.685538,\n",
            " 'learning_rate': 0.010920188}\n",
            "I1115 20:10:08.520105 140703071520640 model_lib_v2.py:708] {'Loss/classification_loss': 0.3086344,\n",
            " 'Loss/localization_loss': 0.14576541,\n",
            " 'Loss/regularization_loss': 1.2311382,\n",
            " 'Loss/total_loss': 1.685538,\n",
            " 'learning_rate': 0.010920188}\n",
            "INFO:tensorflow:Step 7300 per-step time 0.974s\n",
            "I1115 20:11:45.948535 140703071520640 model_lib_v2.py:707] Step 7300 per-step time 0.974s\n",
            "INFO:tensorflow:{'Loss/classification_loss': 0.24835786,\n",
            " 'Loss/localization_loss': 0.18117459,\n",
            " 'Loss/regularization_loss': 1.2211007,\n",
            " 'Loss/total_loss': 1.6506332,\n",
            " 'learning_rate': 0.010227573}\n",
            "I1115 20:11:45.948926 140703071520640 model_lib_v2.py:708] {'Loss/classification_loss': 0.24835786,\n",
            " 'Loss/localization_loss': 0.18117459,\n",
            " 'Loss/regularization_loss': 1.2211007,\n",
            " 'Loss/total_loss': 1.6506332,\n",
            " 'learning_rate': 0.010227573}\n",
            "INFO:tensorflow:Step 7400 per-step time 0.973s\n",
            "I1115 20:13:23.252564 140703071520640 model_lib_v2.py:707] Step 7400 per-step time 0.973s\n",
            "INFO:tensorflow:{'Loss/classification_loss': 0.35087943,\n",
            " 'Loss/localization_loss': 0.23312572,\n",
            " 'Loss/regularization_loss': 1.211773,\n",
            " 'Loss/total_loss': 1.7957782,\n",
            " 'learning_rate': 0.009550026}\n",
            "I1115 20:13:23.252939 140703071520640 model_lib_v2.py:708] {'Loss/classification_loss': 0.35087943,\n",
            " 'Loss/localization_loss': 0.23312572,\n",
            " 'Loss/regularization_loss': 1.211773,\n",
            " 'Loss/total_loss': 1.7957782,\n",
            " 'learning_rate': 0.009550026}\n",
            "INFO:tensorflow:Step 7500 per-step time 0.973s\n",
            "I1115 20:15:00.559991 140703071520640 model_lib_v2.py:707] Step 7500 per-step time 0.973s\n",
            "INFO:tensorflow:{'Loss/classification_loss': 0.29515654,\n",
            " 'Loss/localization_loss': 0.17263821,\n",
            " 'Loss/regularization_loss': 1.2031642,\n",
            " 'Loss/total_loss': 1.670959,\n",
            " 'learning_rate': 0.008888596}\n",
            "I1115 20:15:00.560299 140703071520640 model_lib_v2.py:708] {'Loss/classification_loss': 0.29515654,\n",
            " 'Loss/localization_loss': 0.17263821,\n",
            " 'Loss/regularization_loss': 1.2031642,\n",
            " 'Loss/total_loss': 1.670959,\n",
            " 'learning_rate': 0.008888596}\n",
            "INFO:tensorflow:Step 7600 per-step time 0.973s\n",
            "I1115 20:16:37.908105 140703071520640 model_lib_v2.py:707] Step 7600 per-step time 0.973s\n",
            "INFO:tensorflow:{'Loss/classification_loss': 0.2375024,\n",
            " 'Loss/localization_loss': 0.18875518,\n",
            " 'Loss/regularization_loss': 1.1952085,\n",
            " 'Loss/total_loss': 1.621466,\n",
            " 'learning_rate': 0.008244291}\n",
            "I1115 20:16:37.908435 140703071520640 model_lib_v2.py:708] {'Loss/classification_loss': 0.2375024,\n",
            " 'Loss/localization_loss': 0.18875518,\n",
            " 'Loss/regularization_loss': 1.1952085,\n",
            " 'Loss/total_loss': 1.621466,\n",
            " 'learning_rate': 0.008244291}\n",
            "2022-11-15 20:17:20.599519: W tensorflow/core/lib/png/png_io.cc:88] PNG warning: iCCP: Not recognizing known sRGB profile that has been edited\n",
            "INFO:tensorflow:Step 7700 per-step time 0.973s\n",
            "I1115 20:18:15.170558 140703071520640 model_lib_v2.py:707] Step 7700 per-step time 0.973s\n",
            "INFO:tensorflow:{'Loss/classification_loss': 0.24800661,\n",
            " 'Loss/localization_loss': 0.12146009,\n",
            " 'Loss/regularization_loss': 1.1879921,\n",
            " 'Loss/total_loss': 1.5574588,\n",
            " 'learning_rate': 0.007618121}\n",
            "I1115 20:18:15.170875 140703071520640 model_lib_v2.py:708] {'Loss/classification_loss': 0.24800661,\n",
            " 'Loss/localization_loss': 0.12146009,\n",
            " 'Loss/regularization_loss': 1.1879921,\n",
            " 'Loss/total_loss': 1.5574588,\n",
            " 'learning_rate': 0.007618121}\n",
            "INFO:tensorflow:Step 7800 per-step time 0.974s\n",
            "I1115 20:19:52.568186 140703071520640 model_lib_v2.py:707] Step 7800 per-step time 0.974s\n",
            "INFO:tensorflow:{'Loss/classification_loss': 0.40289068,\n",
            " 'Loss/localization_loss': 0.25869083,\n",
            " 'Loss/regularization_loss': 1.181323,\n",
            " 'Loss/total_loss': 1.8429046,\n",
            " 'learning_rate': 0.0070110355}\n",
            "I1115 20:19:52.568489 140703071520640 model_lib_v2.py:708] {'Loss/classification_loss': 0.40289068,\n",
            " 'Loss/localization_loss': 0.25869083,\n",
            " 'Loss/regularization_loss': 1.181323,\n",
            " 'Loss/total_loss': 1.8429046,\n",
            " 'learning_rate': 0.0070110355}\n",
            "INFO:tensorflow:Step 7900 per-step time 0.973s\n",
            "I1115 20:21:29.912436 140703071520640 model_lib_v2.py:707] Step 7900 per-step time 0.973s\n",
            "INFO:tensorflow:{'Loss/classification_loss': 0.27094215,\n",
            " 'Loss/localization_loss': 0.25245222,\n",
            " 'Loss/regularization_loss': 1.1751263,\n",
            " 'Loss/total_loss': 1.6985208,\n",
            " 'learning_rate': 0.0064239847}\n",
            "I1115 20:21:29.912755 140703071520640 model_lib_v2.py:708] {'Loss/classification_loss': 0.27094215,\n",
            " 'Loss/localization_loss': 0.25245222,\n",
            " 'Loss/regularization_loss': 1.1751263,\n",
            " 'Loss/total_loss': 1.6985208,\n",
            " 'learning_rate': 0.0064239847}\n",
            "INFO:tensorflow:Step 8000 per-step time 0.973s\n",
            "I1115 20:23:07.170523 140703071520640 model_lib_v2.py:707] Step 8000 per-step time 0.973s\n",
            "INFO:tensorflow:{'Loss/classification_loss': 0.2615229,\n",
            " 'Loss/localization_loss': 0.1381369,\n",
            " 'Loss/regularization_loss': 1.1694877,\n",
            " 'Loss/total_loss': 1.5691475,\n",
            " 'learning_rate': 0.0058578644}\n",
            "I1115 20:23:07.170848 140703071520640 model_lib_v2.py:708] {'Loss/classification_loss': 0.2615229,\n",
            " 'Loss/localization_loss': 0.1381369,\n",
            " 'Loss/regularization_loss': 1.1694877,\n",
            " 'Loss/total_loss': 1.5691475,\n",
            " 'learning_rate': 0.0058578644}\n",
            "INFO:tensorflow:Step 8100 per-step time 1.008s\n",
            "I1115 20:24:47.952297 140703071520640 model_lib_v2.py:707] Step 8100 per-step time 1.008s\n",
            "INFO:tensorflow:{'Loss/classification_loss': 0.29035866,\n",
            " 'Loss/localization_loss': 0.17756249,\n",
            " 'Loss/regularization_loss': 1.1644409,\n",
            " 'Loss/total_loss': 1.632362,\n",
            " 'learning_rate': 0.0053135487}\n",
            "I1115 20:24:47.952624 140703071520640 model_lib_v2.py:708] {'Loss/classification_loss': 0.29035866,\n",
            " 'Loss/localization_loss': 0.17756249,\n",
            " 'Loss/regularization_loss': 1.1644409,\n",
            " 'Loss/total_loss': 1.632362,\n",
            " 'learning_rate': 0.0053135487}\n",
            "2022-11-15 20:25:10.368449: W tensorflow/core/lib/png/png_io.cc:88] PNG warning: iCCP: Not recognizing known sRGB profile that has been edited\n",
            "2022-11-15 20:25:43.420393: W tensorflow/core/lib/png/png_io.cc:88] PNG warning: iCCP: Not recognizing known sRGB profile that has been edited\n",
            "INFO:tensorflow:Step 8200 per-step time 0.973s\n",
            "I1115 20:26:25.276253 140703071520640 model_lib_v2.py:707] Step 8200 per-step time 0.973s\n",
            "INFO:tensorflow:{'Loss/classification_loss': 0.6401922,\n",
            " 'Loss/localization_loss': 0.5126433,\n",
            " 'Loss/regularization_loss': 1.1598327,\n",
            " 'Loss/total_loss': 2.3126683,\n",
            " 'learning_rate': 0.0047918796}\n",
            "I1115 20:26:25.276557 140703071520640 model_lib_v2.py:708] {'Loss/classification_loss': 0.6401922,\n",
            " 'Loss/localization_loss': 0.5126433,\n",
            " 'Loss/regularization_loss': 1.1598327,\n",
            " 'Loss/total_loss': 2.3126683,\n",
            " 'learning_rate': 0.0047918796}\n",
            "INFO:tensorflow:Step 8300 per-step time 0.973s\n",
            "I1115 20:28:02.574081 140703071520640 model_lib_v2.py:707] Step 8300 per-step time 0.973s\n",
            "INFO:tensorflow:{'Loss/classification_loss': 0.2634296,\n",
            " 'Loss/localization_loss': 0.19461872,\n",
            " 'Loss/regularization_loss': 1.1556683,\n",
            " 'Loss/total_loss': 1.6137166,\n",
            " 'learning_rate': 0.0042936574}\n",
            "I1115 20:28:02.574378 140703071520640 model_lib_v2.py:708] {'Loss/classification_loss': 0.2634296,\n",
            " 'Loss/localization_loss': 0.19461872,\n",
            " 'Loss/regularization_loss': 1.1556683,\n",
            " 'Loss/total_loss': 1.6137166,\n",
            " 'learning_rate': 0.0042936574}\n",
            "INFO:tensorflow:Step 8400 per-step time 0.970s\n",
            "I1115 20:29:39.525779 140703071520640 model_lib_v2.py:707] Step 8400 per-step time 0.970s\n",
            "INFO:tensorflow:{'Loss/classification_loss': 0.26713583,\n",
            " 'Loss/localization_loss': 0.18949124,\n",
            " 'Loss/regularization_loss': 1.1519879,\n",
            " 'Loss/total_loss': 1.608615,\n",
            " 'learning_rate': 0.0038196587}\n",
            "I1115 20:29:39.526206 140703071520640 model_lib_v2.py:708] {'Loss/classification_loss': 0.26713583,\n",
            " 'Loss/localization_loss': 0.18949124,\n",
            " 'Loss/regularization_loss': 1.1519879,\n",
            " 'Loss/total_loss': 1.608615,\n",
            " 'learning_rate': 0.0038196587}\n",
            "2022-11-15 20:29:55.060239: W tensorflow/core/lib/png/png_io.cc:88] PNG warning: iCCP: Not recognizing known sRGB profile that has been edited\n",
            "2022-11-15 20:31:00.273842: W tensorflow/core/lib/png/png_io.cc:88] PNG warning: iCCP: Not recognizing known sRGB profile that has been edited\n",
            "INFO:tensorflow:Step 8500 per-step time 0.973s\n",
            "I1115 20:31:16.837643 140703071520640 model_lib_v2.py:707] Step 8500 per-step time 0.973s\n",
            "INFO:tensorflow:{'Loss/classification_loss': 0.37181166,\n",
            " 'Loss/localization_loss': 0.22533228,\n",
            " 'Loss/regularization_loss': 1.1487043,\n",
            " 'Loss/total_loss': 1.7458482,\n",
            " 'learning_rate': 0.0033706068}\n",
            "I1115 20:31:16.838033 140703071520640 model_lib_v2.py:708] {'Loss/classification_loss': 0.37181166,\n",
            " 'Loss/localization_loss': 0.22533228,\n",
            " 'Loss/regularization_loss': 1.1487043,\n",
            " 'Loss/total_loss': 1.7458482,\n",
            " 'learning_rate': 0.0033706068}\n",
            "INFO:tensorflow:Step 8600 per-step time 0.973s\n",
            "I1115 20:32:54.086641 140703071520640 model_lib_v2.py:707] Step 8600 per-step time 0.973s\n",
            "INFO:tensorflow:{'Loss/classification_loss': 0.36624953,\n",
            " 'Loss/localization_loss': 0.22292422,\n",
            " 'Loss/regularization_loss': 1.1458215,\n",
            " 'Loss/total_loss': 1.7349952,\n",
            " 'learning_rate': 0.0029471957}\n",
            "I1115 20:32:54.086964 140703071520640 model_lib_v2.py:708] {'Loss/classification_loss': 0.36624953,\n",
            " 'Loss/localization_loss': 0.22292422,\n",
            " 'Loss/regularization_loss': 1.1458215,\n",
            " 'Loss/total_loss': 1.7349952,\n",
            " 'learning_rate': 0.0029471957}\n",
            "INFO:tensorflow:Step 8700 per-step time 0.975s\n",
            "I1115 20:34:31.619238 140703071520640 model_lib_v2.py:707] Step 8700 per-step time 0.975s\n",
            "INFO:tensorflow:{'Loss/classification_loss': 0.28635296,\n",
            " 'Loss/localization_loss': 0.12952828,\n",
            " 'Loss/regularization_loss': 1.1433066,\n",
            " 'Loss/total_loss': 1.5591879,\n",
            " 'learning_rate': 0.0025500786}\n",
            "I1115 20:34:31.619543 140703071520640 model_lib_v2.py:708] {'Loss/classification_loss': 0.28635296,\n",
            " 'Loss/localization_loss': 0.12952828,\n",
            " 'Loss/regularization_loss': 1.1433066,\n",
            " 'Loss/total_loss': 1.5591879,\n",
            " 'learning_rate': 0.0025500786}\n",
            "INFO:tensorflow:Step 8800 per-step time 0.975s\n",
            "I1115 20:36:09.087378 140703071520640 model_lib_v2.py:707] Step 8800 per-step time 0.975s\n",
            "INFO:tensorflow:{'Loss/classification_loss': 0.32824728,\n",
            " 'Loss/localization_loss': 0.21807826,\n",
            " 'Loss/regularization_loss': 1.141148,\n",
            " 'Loss/total_loss': 1.6874735,\n",
            " 'learning_rate': 0.0021798706}\n",
            "I1115 20:36:09.087677 140703071520640 model_lib_v2.py:708] {'Loss/classification_loss': 0.32824728,\n",
            " 'Loss/localization_loss': 0.21807826,\n",
            " 'Loss/regularization_loss': 1.141148,\n",
            " 'Loss/total_loss': 1.6874735,\n",
            " 'learning_rate': 0.0021798706}\n",
            "INFO:tensorflow:Step 8900 per-step time 0.975s\n",
            "I1115 20:37:46.635509 140703071520640 model_lib_v2.py:707] Step 8900 per-step time 0.975s\n",
            "INFO:tensorflow:{'Loss/classification_loss': 0.346134,\n",
            " 'Loss/localization_loss': 0.20668025,\n",
            " 'Loss/regularization_loss': 1.1393125,\n",
            " 'Loss/total_loss': 1.6921268,\n",
            " 'learning_rate': 0.0018371355}\n",
            "I1115 20:37:46.635818 140703071520640 model_lib_v2.py:708] {'Loss/classification_loss': 0.346134,\n",
            " 'Loss/localization_loss': 0.20668025,\n",
            " 'Loss/regularization_loss': 1.1393125,\n",
            " 'Loss/total_loss': 1.6921268,\n",
            " 'learning_rate': 0.0018371355}\n",
            "INFO:tensorflow:Step 9000 per-step time 0.974s\n",
            "I1115 20:39:23.994329 140703071520640 model_lib_v2.py:707] Step 9000 per-step time 0.974s\n",
            "INFO:tensorflow:{'Loss/classification_loss': 0.16939485,\n",
            " 'Loss/localization_loss': 0.08519929,\n",
            " 'Loss/regularization_loss': 1.1377717,\n",
            " 'Loss/total_loss': 1.3923658,\n",
            " 'learning_rate': 0.0015224098}\n",
            "I1115 20:39:23.994624 140703071520640 model_lib_v2.py:708] {'Loss/classification_loss': 0.16939485,\n",
            " 'Loss/localization_loss': 0.08519929,\n",
            " 'Loss/regularization_loss': 1.1377717,\n",
            " 'Loss/total_loss': 1.3923658,\n",
            " 'learning_rate': 0.0015224098}\n",
            "INFO:tensorflow:Step 9100 per-step time 1.005s\n",
            "I1115 20:41:04.507662 140703071520640 model_lib_v2.py:707] Step 9100 per-step time 1.005s\n",
            "INFO:tensorflow:{'Loss/classification_loss': 0.4387249,\n",
            " 'Loss/localization_loss': 0.15246215,\n",
            " 'Loss/regularization_loss': 1.1365131,\n",
            " 'Loss/total_loss': 1.7277001,\n",
            " 'learning_rate': 0.0012361717}\n",
            "I1115 20:41:04.507987 140703071520640 model_lib_v2.py:708] {'Loss/classification_loss': 0.4387249,\n",
            " 'Loss/localization_loss': 0.15246215,\n",
            " 'Loss/regularization_loss': 1.1365131,\n",
            " 'Loss/total_loss': 1.7277001,\n",
            " 'learning_rate': 0.0012361717}\n",
            "2022-11-15 20:41:15.257952: W tensorflow/core/lib/png/png_io.cc:88] PNG warning: iCCP: Not recognizing known sRGB profile that has been edited\n",
            "INFO:tensorflow:Step 9200 per-step time 0.973s\n",
            "I1115 20:42:41.786257 140703071520640 model_lib_v2.py:707] Step 9200 per-step time 0.973s\n",
            "INFO:tensorflow:{'Loss/classification_loss': 0.36290452,\n",
            " 'Loss/localization_loss': 0.15365458,\n",
            " 'Loss/regularization_loss': 1.1354948,\n",
            " 'Loss/total_loss': 1.652054,\n",
            " 'learning_rate': 0.0009788703}\n",
            "I1115 20:42:41.786555 140703071520640 model_lib_v2.py:708] {'Loss/classification_loss': 0.36290452,\n",
            " 'Loss/localization_loss': 0.15365458,\n",
            " 'Loss/regularization_loss': 1.1354948,\n",
            " 'Loss/total_loss': 1.652054,\n",
            " 'learning_rate': 0.0009788703}\n",
            "INFO:tensorflow:Step 9300 per-step time 0.973s\n",
            "I1115 20:44:19.102166 140703071520640 model_lib_v2.py:707] Step 9300 per-step time 0.973s\n",
            "INFO:tensorflow:{'Loss/classification_loss': 0.1808944,\n",
            " 'Loss/localization_loss': 0.061777145,\n",
            " 'Loss/regularization_loss': 1.134694,\n",
            " 'Loss/total_loss': 1.3773655,\n",
            " 'learning_rate': 0.0007508957}\n",
            "I1115 20:44:19.102466 140703071520640 model_lib_v2.py:708] {'Loss/classification_loss': 0.1808944,\n",
            " 'Loss/localization_loss': 0.061777145,\n",
            " 'Loss/regularization_loss': 1.134694,\n",
            " 'Loss/total_loss': 1.3773655,\n",
            " 'learning_rate': 0.0007508957}\n",
            "INFO:tensorflow:Step 9400 per-step time 0.973s\n",
            "I1115 20:45:56.434963 140703071520640 model_lib_v2.py:707] Step 9400 per-step time 0.973s\n",
            "INFO:tensorflow:{'Loss/classification_loss': 0.3899964,\n",
            " 'Loss/localization_loss': 0.1529834,\n",
            " 'Loss/regularization_loss': 1.1340861,\n",
            " 'Loss/total_loss': 1.677066,\n",
            " 'learning_rate': 0.0005526006}\n",
            "I1115 20:45:56.435256 140703071520640 model_lib_v2.py:708] {'Loss/classification_loss': 0.3899964,\n",
            " 'Loss/localization_loss': 0.1529834,\n",
            " 'Loss/regularization_loss': 1.1340861,\n",
            " 'Loss/total_loss': 1.677066,\n",
            " 'learning_rate': 0.0005526006}\n",
            "2022-11-15 20:46:39.401337: W tensorflow/core/lib/png/png_io.cc:88] PNG warning: iCCP: Not recognizing known sRGB profile that has been edited\n",
            "INFO:tensorflow:Step 9500 per-step time 0.975s\n",
            "I1115 20:47:33.944588 140703071520640 model_lib_v2.py:707] Step 9500 per-step time 0.975s\n",
            "INFO:tensorflow:{'Loss/classification_loss': 0.3271113,\n",
            " 'Loss/localization_loss': 0.13286757,\n",
            " 'Loss/regularization_loss': 1.1336507,\n",
            " 'Loss/total_loss': 1.5936296,\n",
            " 'learning_rate': 0.0003842938}\n",
            "I1115 20:47:33.944904 140703071520640 model_lib_v2.py:708] {'Loss/classification_loss': 0.3271113,\n",
            " 'Loss/localization_loss': 0.13286757,\n",
            " 'Loss/regularization_loss': 1.1336507,\n",
            " 'Loss/total_loss': 1.5936296,\n",
            " 'learning_rate': 0.0003842938}\n",
            "INFO:tensorflow:Step 9600 per-step time 0.973s\n",
            "I1115 20:49:11.238528 140703071520640 model_lib_v2.py:707] Step 9600 per-step time 0.973s\n",
            "INFO:tensorflow:{'Loss/classification_loss': 0.27275434,\n",
            " 'Loss/localization_loss': 0.17590642,\n",
            " 'Loss/regularization_loss': 1.1333535,\n",
            " 'Loss/total_loss': 1.5820142,\n",
            " 'learning_rate': 0.00024623275}\n",
            "I1115 20:49:11.238929 140703071520640 model_lib_v2.py:708] {'Loss/classification_loss': 0.27275434,\n",
            " 'Loss/localization_loss': 0.17590642,\n",
            " 'Loss/regularization_loss': 1.1333535,\n",
            " 'Loss/total_loss': 1.5820142,\n",
            " 'learning_rate': 0.00024623275}\n",
            "INFO:tensorflow:Step 9700 per-step time 0.973s\n",
            "I1115 20:50:48.558833 140703071520640 model_lib_v2.py:707] Step 9700 per-step time 0.973s\n",
            "INFO:tensorflow:{'Loss/classification_loss': 0.2240467,\n",
            " 'Loss/localization_loss': 0.07373453,\n",
            " 'Loss/regularization_loss': 1.1331716,\n",
            " 'Loss/total_loss': 1.4309528,\n",
            " 'learning_rate': 0.00013863086}\n",
            "I1115 20:50:48.559140 140703071520640 model_lib_v2.py:708] {'Loss/classification_loss': 0.2240467,\n",
            " 'Loss/localization_loss': 0.07373453,\n",
            " 'Loss/regularization_loss': 1.1331716,\n",
            " 'Loss/total_loss': 1.4309528,\n",
            " 'learning_rate': 0.00013863086}\n",
            "INFO:tensorflow:Step 9800 per-step time 0.973s\n",
            "I1115 20:52:25.859323 140703071520640 model_lib_v2.py:707] Step 9800 per-step time 0.973s\n",
            "INFO:tensorflow:{'Loss/classification_loss': 0.28353465,\n",
            " 'Loss/localization_loss': 0.054248076,\n",
            " 'Loss/regularization_loss': 1.1330754,\n",
            " 'Loss/total_loss': 1.4708581,\n",
            " 'learning_rate': 6.165266e-05}\n",
            "I1115 20:52:25.859614 140703071520640 model_lib_v2.py:708] {'Loss/classification_loss': 0.28353465,\n",
            " 'Loss/localization_loss': 0.054248076,\n",
            " 'Loss/regularization_loss': 1.1330754,\n",
            " 'Loss/total_loss': 1.4708581,\n",
            " 'learning_rate': 6.165266e-05}\n",
            "INFO:tensorflow:Step 9900 per-step time 0.972s\n",
            "I1115 20:54:03.041804 140703071520640 model_lib_v2.py:707] Step 9900 per-step time 0.972s\n",
            "INFO:tensorflow:{'Loss/classification_loss': 0.30218908,\n",
            " 'Loss/localization_loss': 0.16592996,\n",
            " 'Loss/regularization_loss': 1.1330386,\n",
            " 'Loss/total_loss': 1.6011577,\n",
            " 'learning_rate': 1.541972e-05}\n",
            "I1115 20:54:03.042095 140703071520640 model_lib_v2.py:708] {'Loss/classification_loss': 0.30218908,\n",
            " 'Loss/localization_loss': 0.16592996,\n",
            " 'Loss/regularization_loss': 1.1330386,\n",
            " 'Loss/total_loss': 1.6011577,\n",
            " 'learning_rate': 1.541972e-05}\n",
            "INFO:tensorflow:Step 10000 per-step time 0.975s\n",
            "I1115 20:55:40.526254 140703071520640 model_lib_v2.py:707] Step 10000 per-step time 0.975s\n",
            "INFO:tensorflow:{'Loss/classification_loss': 0.1828515,\n",
            " 'Loss/localization_loss': 0.10762617,\n",
            " 'Loss/regularization_loss': 1.1330333,\n",
            " 'Loss/total_loss': 1.423511,\n",
            " 'learning_rate': 0.0}\n",
            "I1115 20:55:40.526942 140703071520640 model_lib_v2.py:708] {'Loss/classification_loss': 0.1828515,\n",
            " 'Loss/localization_loss': 0.10762617,\n",
            " 'Loss/regularization_loss': 1.1330333,\n",
            " 'Loss/total_loss': 1.423511,\n",
            " 'learning_rate': 0.0}\n"
          ]
        }
      ]
    },
    {
      "cell_type": "code",
      "source": [
        "# Exporting the model\n",
        "\n",
        "\n",
        "!python /content/exporter_main_v2.py --input_type image_tensor --pipeline_config_path /content/training_demo/model/my_ssd/pipeline.config --trained_checkpoint_dir /content/training_demo/model/my_ssd --output_directory /content/training_demo/exported model/my_model"
      ],
      "metadata": {
        "colab": {
          "base_uri": "https://localhost:8080/"
        },
        "id": "6gsRdHRJBuni",
        "outputId": "673348b7-6599-45b7-9ebe-769d39f76c63"
      },
      "execution_count": 42,
      "outputs": [
        {
          "output_type": "stream",
          "name": "stdout",
          "text": [
            "2022-11-15 20:56:33.998419: E tensorflow/stream_executor/cuda/cuda_blas.cc:2981] Unable to register cuBLAS factory: Attempting to register factory for plugin cuBLAS when one has already been registered\n",
            "2022-11-15 20:56:35.368285: W tensorflow/stream_executor/platform/default/dso_loader.cc:64] Could not load dynamic library 'libnvinfer.so.7'; dlerror: libnvinfer.so.7: cannot open shared object file: No such file or directory; LD_LIBRARY_PATH: /usr/lib64-nvidia\n",
            "2022-11-15 20:56:35.369056: W tensorflow/stream_executor/platform/default/dso_loader.cc:64] Could not load dynamic library 'libnvinfer_plugin.so.7'; dlerror: libnvinfer_plugin.so.7: cannot open shared object file: No such file or directory; LD_LIBRARY_PATH: /usr/lib64-nvidia\n",
            "2022-11-15 20:56:35.369082: W tensorflow/compiler/tf2tensorrt/utils/py_utils.cc:38] TF-TRT Warning: Cannot dlopen some TensorRT libraries. If you would like to use Nvidia GPU with TensorRT, please make sure the missing libraries mentioned above are installed properly.\n",
            "2022-11-15 20:56:39.653997: W tensorflow/core/common_runtime/gpu/gpu_bfc_allocator.cc:42] Overriding orig_value setting because the TF_FORCE_GPU_ALLOW_GROWTH environment variable is set. Original config value was 0.\n",
            "WARNING:tensorflow:From /usr/local/lib/python3.7/dist-packages/tensorflow/python/autograph/impl/api.py:458: calling map_fn_v2 (from tensorflow.python.ops.map_fn) with back_prop=False is deprecated and will be removed in a future version.\n",
            "Instructions for updating:\n",
            "back_prop=False is deprecated. Consider using tf.stop_gradient instead.\n",
            "Instead of:\n",
            "results = tf.map_fn(fn, elems, back_prop=False)\n",
            "Use:\n",
            "results = tf.nest.map_structure(tf.stop_gradient, tf.map_fn(fn, elems))\n",
            "W1115 20:56:39.920333 139659278944128 deprecation.py:628] From /usr/local/lib/python3.7/dist-packages/tensorflow/python/autograph/impl/api.py:458: calling map_fn_v2 (from tensorflow.python.ops.map_fn) with back_prop=False is deprecated and will be removed in a future version.\n",
            "Instructions for updating:\n",
            "back_prop=False is deprecated. Consider using tf.stop_gradient instead.\n",
            "Instead of:\n",
            "results = tf.map_fn(fn, elems, back_prop=False)\n",
            "Use:\n",
            "results = tf.nest.map_structure(tf.stop_gradient, tf.map_fn(fn, elems))\n",
            "WARNING:tensorflow:Skipping full serialization of Keras layer <object_detection.meta_architectures.ssd_meta_arch.SSDMetaArch object at 0x7f040c645a90>, because it is not built.\n",
            "W1115 20:57:06.622777 139659278944128 save_impl.py:68] Skipping full serialization of Keras layer <object_detection.meta_architectures.ssd_meta_arch.SSDMetaArch object at 0x7f040c645a90>, because it is not built.\n",
            "W1115 20:57:42.776241 139659278944128 save.py:274] Found untraced functions such as WeightSharedConvolutionalBoxPredictor_layer_call_fn, WeightSharedConvolutionalBoxPredictor_layer_call_and_return_conditional_losses, WeightSharedConvolutionalBoxHead_layer_call_fn, WeightSharedConvolutionalBoxHead_layer_call_and_return_conditional_losses, WeightSharedConvolutionalClassHead_layer_call_fn while saving (showing 5 of 329). These functions will not be directly callable after loading.\n",
            "INFO:tensorflow:Assets written to: /content/training_demo/exported/saved_model/assets\n",
            "I1115 20:57:53.233948 139659278944128 builder_impl.py:780] Assets written to: /content/training_demo/exported/saved_model/assets\n",
            "INFO:tensorflow:Writing pipeline config file to /content/training_demo/exported/pipeline.config\n",
            "I1115 20:57:54.659582 139659278944128 config_util.py:254] Writing pipeline config file to /content/training_demo/exported/pipeline.config\n"
          ]
        }
      ]
    },
    {
      "cell_type": "code",
      "source": [
        "\"\"\"\n",
        "Object Detection (On Image) From TF2 Saved Model\n",
        "=====================================\n",
        "\"\"\"\n",
        "\n",
        "import os\n",
        "os.environ['TF_CPP_MIN_LOG_LEVEL'] = '2'    # Suppress TensorFlow logging (1)\n",
        "import pathlib\n",
        "import tensorflow as tf\n",
        "import cv2\n",
        "import argparse\n",
        "from google.colab.patches import cv2_imshow\n",
        "\n",
        "# Enable GPU dynamic memory allocation\n",
        "gpus = tf.config.experimental.list_physical_devices('GPU')\n",
        "for gpu in gpus:\n",
        "    tf.config.experimental.set_memory_growth(gpu, True)\n",
        "\n",
        "# PROVIDE PATH TO IMAGE DIRECTORY\n",
        "IMAGE_PATHS = '/content/training_demo/images/test/maksssksksss200.png'\n",
        "\n",
        "\n",
        "# PROVIDE PATH TO MODEL DIRECTORY\n",
        "PATH_TO_MODEL_DIR = '/content/training_demo/exported/saved_model'\n",
        "\n",
        "# PROVIDE PATH TO LABEL MAP\n",
        "PATH_TO_LABELS = '/content/training_demo/annotations/label_map.pbtxt'\n",
        "\n",
        "# PROVIDE THE MINIMUM CONFIDENCE THRESHOLD\n",
        "MIN_CONF_THRESH = float(0.60)\n",
        "\n",
        "# LOAD THE MODEL\n",
        "\n",
        "import time\n",
        "from object_detection.utils import label_map_util\n",
        "from object_detection.utils import visualization_utils as viz_utils\n",
        "\n",
        "PATH_TO_SAVED_MODEL = PATH_TO_MODEL_DIR\n",
        "\n",
        "print('Loading model...', end='')\n",
        "start_time = time.time()\n",
        "\n",
        "# LOAD SAVED MODEL AND BUILD DETECTION FUNCTION\n",
        "detect_fn = tf.saved_model.load(PATH_TO_MODEL_DIR)\n",
        "\n",
        "end_time = time.time()\n",
        "elapsed_time = end_time - start_time\n",
        "print('Done! Took {} seconds'.format(elapsed_time))\n",
        "\n",
        "# LOAD LABEL MAP DATA FOR PLOTTING\n",
        "\n",
        "category_index = label_map_util.create_category_index_from_labelmap(PATH_TO_LABELS,\n",
        "                                                                    use_display_name=True)\n",
        "\n",
        "import numpy as np\n",
        "from PIL import Image\n",
        "import matplotlib.pyplot as plt\n",
        "import warnings\n",
        "warnings.filterwarnings('ignore')   # Suppress Matplotlib warnings\n",
        "\n",
        "def load_image_into_numpy_array(path):\n",
        "    \"\"\"Load an image from file into a numpy array.\n",
        "    Puts image into numpy array to feed into tensorflow graph.\n",
        "    Note that by convention we put it into a numpy array with shape\n",
        "    (height, width, channels), where channels=3 for RGB.\n",
        "    Args:\n",
        "      path: the file path to the image\n",
        "    Returns:\n",
        "      uint8 numpy array with shape (img_height, img_width, 3)\n",
        "    \"\"\"\n",
        "    return np.array(Image.open(path))\n",
        "\n",
        "\n",
        "\n",
        "\n",
        "print('Running inference for {}... '.format(IMAGE_PATHS), end='')\n",
        "\n",
        "image = cv2.imread(IMAGE_PATHS)\n",
        "image_rgb = cv2.cvtColor(image, cv2.COLOR_BGR2RGB)\n",
        "image_expanded = np.expand_dims(image_rgb, axis=0)\n",
        "\n",
        "# The input needs to be a tensor, convert it using `tf.convert_to_tensor`.\n",
        "input_tensor = tf.convert_to_tensor(image)\n",
        "# The model expects a batch of images, so add an axis with `tf.newaxis`.\n",
        "input_tensor = input_tensor[tf.newaxis, ...]\n",
        "\n",
        "# input_tensor = np.expand_dims(image_np, 0)\n",
        "detections = detect_fn(input_tensor)\n",
        "\n",
        "# All outputs are batches tensors.\n",
        "# Convert to numpy arrays, and take index [0] to remove the batch dimension.\n",
        "# We're only interested in the first num_detections.\n",
        "num_detections = int(detections.pop('num_detections'))\n",
        "detections = {key: value[0, :num_detections].numpy()\n",
        "               for key, value in detections.items()}\n",
        "detections['num_detections'] = num_detections\n",
        "\n",
        "# detection_classes should be ints.\n",
        "detections['detection_classes'] = detections['detection_classes'].astype(np.int64)\n",
        "\n",
        "image_with_detections = image.copy()\n",
        "\n",
        "# SET MIN_SCORE_THRESH BASED ON YOU MINIMUM THRESHOLD FOR DETECTIONS\n",
        "viz_utils.visualize_boxes_and_labels_on_image_array(\n",
        "      image_with_detections,\n",
        "      detections['detection_boxes'],\n",
        "      detections['detection_classes'],\n",
        "      detections['detection_scores'],\n",
        "      category_index,\n",
        "      use_normalized_coordinates=True,\n",
        "      max_boxes_to_draw=200,\n",
        "      min_score_thresh=0.5,\n",
        "      agnostic_mode=False)\n",
        "\n",
        "print('Done')\n",
        "# DISPLAYS OUTPUT IMAGE\n",
        "cv2_imshow(image_with_detections)\n",
        "# CLOSES WINDOW ONCE KEY IS PRESSED"
      ],
      "metadata": {
        "colab": {
          "base_uri": "https://localhost:8080/",
          "height": 451
        },
        "id": "BCWvW0R8_Yzc",
        "outputId": "7bc461e8-15d8-4760-e6be-ef5c8ae3eded"
      },
      "execution_count": 49,
      "outputs": [
        {
          "output_type": "stream",
          "name": "stdout",
          "text": [
            "Loading model...Done! Took 25.099032402038574 seconds\n",
            "Running inference for /content/training_demo/images/test/maksssksksss200.png... Done\n"
          ]
        },
        {
          "output_type": "display_data",
          "data": {
            "text/plain": [
              "<PIL.Image.Image image mode=RGB size=301x400 at 0x7FF93866C6D0>"
            ],
            "image/png": "[encoded data removed]"
          },
          "metadata": {}
        }
      ]
    },
    {
      "cell_type": "markdown",
      "source": [
        "Saving the progress"
      ],
      "metadata": {
        "id": "AU0wSM57MEnQ"
      }
    },
    {
      "cell_type": "code",
      "source": [
        "cd /content/training_demo"
      ],
      "metadata": {
        "colab": {
          "base_uri": "https://localhost:8080/"
        },
        "id": "yEnOYdonMMVN",
        "outputId": "9c8207e4-d6a1-4b56-8841-f42ae881ea3d"
      },
      "execution_count": null,
      "outputs": [
        {
          "output_type": "stream",
          "name": "stdout",
          "text": [
            "/content/training_demo\n"
          ]
        }
      ]
    },
    {
      "cell_type": "code",
      "source": [
        "!zip -r /content/model.zip /content/training_demo/model "
      ],
      "metadata": {
        "colab": {
          "base_uri": "https://localhost:8080/"
        },
        "id": "RSvv8zn60Kpr",
        "outputId": "88c29924-569a-4be8-ac54-9c1cb411d27c"
      },
      "execution_count": null,
      "outputs": [
        {
          "output_type": "stream",
          "name": "stdout",
          "text": [
            "  adding: content/training_demo/model/ (stored 0%)\n",
            "  adding: content/training_demo/model/my_ssd/ (stored 0%)\n",
            "  adding: content/training_demo/model/my_ssd/ckpt-1.index (deflated 84%)\n",
            "  adding: content/training_demo/model/my_ssd/ckpt-3.index (deflated 84%)\n",
            "  adding: content/training_demo/model/my_ssd/ckpt-1.data-00000-of-00001 (deflated 7%)\n",
            "  adding: content/training_demo/model/my_ssd/ckpt-2.index (deflated 84%)\n",
            "  adding: content/training_demo/model/my_ssd/pipeline.config (deflated 67%)\n",
            "  adding: content/training_demo/model/my_ssd/train/ (stored 0%)\n",
            "  adding: content/training_demo/model/my_ssd/train/events.out.tfevents.1668458152.8662457ec054.634.0.v2 (deflated 8%)\n",
            "  adding: content/training_demo/model/my_ssd/train/events.out.tfevents.1668458245.8662457ec054.693.0.v2 (deflated 1%)\n",
            "  adding: content/training_demo/model/my_ssd/ckpt-3.data-00000-of-00001 (deflated 6%)\n",
            "  adding: content/training_demo/model/my_ssd/checkpoint (deflated 63%)\n",
            "  adding: content/training_demo/model/my_ssd/ckpt-2.data-00000-of-00001 (deflated 6%)\n",
            "  adding: content/training_demo/model/.ipynb_checkpoints/ (stored 0%)\n"
          ]
        }
      ]
    },
    {
      "cell_type": "code",
      "source": [],
      "metadata": {
        "id": "TFmmPyDnMKyz"
      },
      "execution_count": null,
      "outputs": []
    }
  ]
}